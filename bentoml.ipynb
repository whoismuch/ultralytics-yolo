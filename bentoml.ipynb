{
 "cells": [
  {
   "cell_type": "code",
   "execution_count": 2,
   "id": "initial_id",
   "metadata": {
    "collapsed": true,
    "ExecuteTime": {
     "end_time": "2024-06-04T20:43:26.839894Z",
     "start_time": "2024-06-04T20:43:23.273346Z"
    }
   },
   "outputs": [
    {
     "name": "stdout",
     "output_type": "stream",
     "text": [
      "Requirement already satisfied: Pillow>=7.1.2 in /Users/khumachbayramova/anaconda3/lib/python3.11/site-packages (from -r lab3/requirements.txt (line 1)) (10.3.0)\r\n",
      "Requirement already satisfied: PyYAML>=5.3.1 in /Users/khumachbayramova/anaconda3/lib/python3.11/site-packages (from -r lab3/requirements.txt (line 2)) (6.0)\r\n",
      "Requirement already satisfied: bentoml>=1.0.0 in /Users/khumachbayramova/anaconda3/lib/python3.11/site-packages (from -r lab3/requirements.txt (line 3)) (1.2.16)\r\n",
      "Requirement already satisfied: matplotlib>=3.2.2 in /Users/khumachbayramova/anaconda3/lib/python3.11/site-packages (from -r lab3/requirements.txt (line 4)) (3.7.2)\r\n",
      "Requirement already satisfied: numpy>=1.18.5 in /Users/khumachbayramova/anaconda3/lib/python3.11/site-packages (from -r lab3/requirements.txt (line 5)) (1.23.5)\r\n",
      "Requirement already satisfied: opencv-python>=4.1.1 in /Users/khumachbayramova/.local/lib/python3.11/site-packages (from -r lab3/requirements.txt (line 6)) (4.9.0.80)\r\n",
      "Requirement already satisfied: pandas>=1.1.4 in /Users/khumachbayramova/anaconda3/lib/python3.11/site-packages (from -r lab3/requirements.txt (line 7)) (2.0.3)\r\n",
      "Requirement already satisfied: protobuf<=3.20.1 in /Users/khumachbayramova/anaconda3/lib/python3.11/site-packages (from -r lab3/requirements.txt (line 8)) (3.20.1)\r\n",
      "Requirement already satisfied: ipython in /Users/khumachbayramova/anaconda3/lib/python3.11/site-packages (from -r lab3/requirements.txt (line 9)) (8.15.0)\r\n",
      "Requirement already satisfied: requests>=2.23.0 in /Users/khumachbayramova/anaconda3/lib/python3.11/site-packages (from -r lab3/requirements.txt (line 10)) (2.32.3)\r\n",
      "Requirement already satisfied: scipy>=1.4.1 in /Users/khumachbayramova/anaconda3/lib/python3.11/site-packages (from -r lab3/requirements.txt (line 11)) (1.11.1)\r\n",
      "Requirement already satisfied: seaborn>=0.11.0 in /Users/khumachbayramova/anaconda3/lib/python3.11/site-packages (from -r lab3/requirements.txt (line 12)) (0.12.2)\r\n",
      "Requirement already satisfied: tensorboard>=2.4.1 in /Users/khumachbayramova/anaconda3/lib/python3.11/site-packages (from -r lab3/requirements.txt (line 13)) (2.16.2)\r\n",
      "Requirement already satisfied: torch!=1.12.0,>=1.7.0 in /Users/khumachbayramova/anaconda3/lib/python3.11/site-packages (from -r lab3/requirements.txt (line 14)) (2.2.1)\r\n",
      "Requirement already satisfied: torchvision!=0.13.0,>=0.8.1 in /Users/khumachbayramova/anaconda3/lib/python3.11/site-packages (from -r lab3/requirements.txt (line 15)) (0.17.1)\r\n",
      "Requirement already satisfied: tqdm>=4.41.0 in /Users/khumachbayramova/anaconda3/lib/python3.11/site-packages (from -r lab3/requirements.txt (line 16)) (4.65.0)\r\n",
      "Requirement already satisfied: aiohttp in /Users/khumachbayramova/anaconda3/lib/python3.11/site-packages (from bentoml>=1.0.0->-r lab3/requirements.txt (line 3)) (3.8.5)\r\n",
      "Requirement already satisfied: attrs>=22.2.0 in /Users/khumachbayramova/anaconda3/lib/python3.11/site-packages (from bentoml>=1.0.0->-r lab3/requirements.txt (line 3)) (23.2.0)\r\n",
      "Requirement already satisfied: cattrs<23.2.0,>=22.1.0 in /Users/khumachbayramova/anaconda3/lib/python3.11/site-packages (from bentoml>=1.0.0->-r lab3/requirements.txt (line 3)) (23.1.2)\r\n",
      "Requirement already satisfied: circus!=0.17.2,>=0.17.0 in /Users/khumachbayramova/anaconda3/lib/python3.11/site-packages (from bentoml>=1.0.0->-r lab3/requirements.txt (line 3)) (0.18.0)\r\n",
      "Requirement already satisfied: click-option-group in /Users/khumachbayramova/anaconda3/lib/python3.11/site-packages (from bentoml>=1.0.0->-r lab3/requirements.txt (line 3)) (0.5.6)\r\n",
      "Requirement already satisfied: click>=7.0 in /Users/khumachbayramova/anaconda3/lib/python3.11/site-packages (from bentoml>=1.0.0->-r lab3/requirements.txt (line 3)) (8.0.4)\r\n",
      "Requirement already satisfied: cloudpickle>=2.0.0 in /Users/khumachbayramova/anaconda3/lib/python3.11/site-packages (from bentoml>=1.0.0->-r lab3/requirements.txt (line 3)) (2.2.1)\r\n",
      "Requirement already satisfied: deepmerge in /Users/khumachbayramova/anaconda3/lib/python3.11/site-packages (from bentoml>=1.0.0->-r lab3/requirements.txt (line 3)) (1.1.1)\r\n",
      "Requirement already satisfied: fs in /Users/khumachbayramova/anaconda3/lib/python3.11/site-packages (from bentoml>=1.0.0->-r lab3/requirements.txt (line 3)) (2.4.16)\r\n",
      "Requirement already satisfied: httpx in /Users/khumachbayramova/anaconda3/lib/python3.11/site-packages (from bentoml>=1.0.0->-r lab3/requirements.txt (line 3)) (0.27.0)\r\n",
      "Requirement already satisfied: inflection in /Users/khumachbayramova/anaconda3/lib/python3.11/site-packages (from bentoml>=1.0.0->-r lab3/requirements.txt (line 3)) (0.5.1)\r\n",
      "Requirement already satisfied: jinja2>=3.0.1 in /Users/khumachbayramova/anaconda3/lib/python3.11/site-packages (from bentoml>=1.0.0->-r lab3/requirements.txt (line 3)) (3.1.2)\r\n",
      "Requirement already satisfied: nvidia-ml-py<12 in /Users/khumachbayramova/anaconda3/lib/python3.11/site-packages (from bentoml>=1.0.0->-r lab3/requirements.txt (line 3)) (11.525.150)\r\n",
      "Requirement already satisfied: opentelemetry-api==1.20.0 in /Users/khumachbayramova/anaconda3/lib/python3.11/site-packages (from bentoml>=1.0.0->-r lab3/requirements.txt (line 3)) (1.20.0)\r\n",
      "Requirement already satisfied: opentelemetry-instrumentation-aiohttp-client==0.41b0 in /Users/khumachbayramova/anaconda3/lib/python3.11/site-packages (from bentoml>=1.0.0->-r lab3/requirements.txt (line 3)) (0.41b0)\r\n",
      "Requirement already satisfied: opentelemetry-instrumentation-asgi==0.41b0 in /Users/khumachbayramova/anaconda3/lib/python3.11/site-packages (from bentoml>=1.0.0->-r lab3/requirements.txt (line 3)) (0.41b0)\r\n",
      "Requirement already satisfied: opentelemetry-instrumentation==0.41b0 in /Users/khumachbayramova/anaconda3/lib/python3.11/site-packages (from bentoml>=1.0.0->-r lab3/requirements.txt (line 3)) (0.41b0)\r\n",
      "Requirement already satisfied: opentelemetry-sdk==1.20.0 in /Users/khumachbayramova/anaconda3/lib/python3.11/site-packages (from bentoml>=1.0.0->-r lab3/requirements.txt (line 3)) (1.20.0)\r\n",
      "Requirement already satisfied: opentelemetry-semantic-conventions==0.41b0 in /Users/khumachbayramova/anaconda3/lib/python3.11/site-packages (from bentoml>=1.0.0->-r lab3/requirements.txt (line 3)) (0.41b0)\r\n",
      "Requirement already satisfied: opentelemetry-util-http==0.41b0 in /Users/khumachbayramova/anaconda3/lib/python3.11/site-packages (from bentoml>=1.0.0->-r lab3/requirements.txt (line 3)) (0.41b0)\r\n",
      "Requirement already satisfied: packaging>=22.0 in /Users/khumachbayramova/anaconda3/lib/python3.11/site-packages (from bentoml>=1.0.0->-r lab3/requirements.txt (line 3)) (23.1)\r\n",
      "Requirement already satisfied: pathspec in /Users/khumachbayramova/anaconda3/lib/python3.11/site-packages (from bentoml>=1.0.0->-r lab3/requirements.txt (line 3)) (0.10.3)\r\n",
      "Requirement already satisfied: pip-requirements-parser>=31.2.0 in /Users/khumachbayramova/anaconda3/lib/python3.11/site-packages (from bentoml>=1.0.0->-r lab3/requirements.txt (line 3)) (32.0.1)\r\n",
      "Requirement already satisfied: pip-tools>=6.6.2 in /Users/khumachbayramova/anaconda3/lib/python3.11/site-packages (from bentoml>=1.0.0->-r lab3/requirements.txt (line 3)) (7.4.1)\r\n",
      "Requirement already satisfied: prometheus-client>=0.10.0 in /Users/khumachbayramova/anaconda3/lib/python3.11/site-packages (from bentoml>=1.0.0->-r lab3/requirements.txt (line 3)) (0.14.1)\r\n",
      "Requirement already satisfied: psutil in /Users/khumachbayramova/anaconda3/lib/python3.11/site-packages (from bentoml>=1.0.0->-r lab3/requirements.txt (line 3)) (5.9.0)\r\n",
      "Requirement already satisfied: pydantic<3 in /Users/khumachbayramova/anaconda3/lib/python3.11/site-packages (from bentoml>=1.0.0->-r lab3/requirements.txt (line 3)) (1.10.8)\r\n",
      "Requirement already satisfied: python-dateutil in /Users/khumachbayramova/anaconda3/lib/python3.11/site-packages (from bentoml>=1.0.0->-r lab3/requirements.txt (line 3)) (2.8.2)\r\n",
      "Requirement already satisfied: python-json-logger in /Users/khumachbayramova/anaconda3/lib/python3.11/site-packages (from bentoml>=1.0.0->-r lab3/requirements.txt (line 3)) (2.0.7)\r\n",
      "Requirement already satisfied: python-multipart in /Users/khumachbayramova/anaconda3/lib/python3.11/site-packages (from bentoml>=1.0.0->-r lab3/requirements.txt (line 3)) (0.0.9)\r\n",
      "Requirement already satisfied: rich>=11.2.0 in /Users/khumachbayramova/anaconda3/lib/python3.11/site-packages (from bentoml>=1.0.0->-r lab3/requirements.txt (line 3)) (13.7.1)\r\n",
      "Requirement already satisfied: schema in /Users/khumachbayramova/anaconda3/lib/python3.11/site-packages (from bentoml>=1.0.0->-r lab3/requirements.txt (line 3)) (0.7.7)\r\n",
      "Requirement already satisfied: simple-di>=0.1.4 in /Users/khumachbayramova/anaconda3/lib/python3.11/site-packages (from bentoml>=1.0.0->-r lab3/requirements.txt (line 3)) (0.1.5)\r\n",
      "Requirement already satisfied: starlette>=0.24.0 in /Users/khumachbayramova/anaconda3/lib/python3.11/site-packages (from bentoml>=1.0.0->-r lab3/requirements.txt (line 3)) (0.37.2)\r\n",
      "Requirement already satisfied: tomli-w in /Users/khumachbayramova/anaconda3/lib/python3.11/site-packages (from bentoml>=1.0.0->-r lab3/requirements.txt (line 3)) (1.0.0)\r\n",
      "Requirement already satisfied: uvicorn>=0.22.0 in /Users/khumachbayramova/anaconda3/lib/python3.11/site-packages (from bentoml>=1.0.0->-r lab3/requirements.txt (line 3)) (0.30.1)\r\n",
      "Requirement already satisfied: watchfiles>=0.15.0 in /Users/khumachbayramova/anaconda3/lib/python3.11/site-packages (from bentoml>=1.0.0->-r lab3/requirements.txt (line 3)) (0.22.0)\r\n",
      "Requirement already satisfied: deprecated>=1.2.6 in /Users/khumachbayramova/anaconda3/lib/python3.11/site-packages (from opentelemetry-api==1.20.0->bentoml>=1.0.0->-r lab3/requirements.txt (line 3)) (1.2.14)\r\n",
      "Requirement already satisfied: importlib-metadata<7.0,>=6.0 in /Users/khumachbayramova/anaconda3/lib/python3.11/site-packages (from opentelemetry-api==1.20.0->bentoml>=1.0.0->-r lab3/requirements.txt (line 3)) (6.0.0)\r\n",
      "Requirement already satisfied: setuptools>=16.0 in /Users/khumachbayramova/anaconda3/lib/python3.11/site-packages (from opentelemetry-instrumentation==0.41b0->bentoml>=1.0.0->-r lab3/requirements.txt (line 3)) (68.0.0)\r\n",
      "Requirement already satisfied: wrapt<2.0.0,>=1.0.0 in /Users/khumachbayramova/anaconda3/lib/python3.11/site-packages (from opentelemetry-instrumentation==0.41b0->bentoml>=1.0.0->-r lab3/requirements.txt (line 3)) (1.14.1)\r\n",
      "Requirement already satisfied: asgiref~=3.0 in /Users/khumachbayramova/anaconda3/lib/python3.11/site-packages (from opentelemetry-instrumentation-asgi==0.41b0->bentoml>=1.0.0->-r lab3/requirements.txt (line 3)) (3.8.1)\r\n",
      "Requirement already satisfied: typing-extensions>=3.7.4 in /Users/khumachbayramova/anaconda3/lib/python3.11/site-packages (from opentelemetry-sdk==1.20.0->bentoml>=1.0.0->-r lab3/requirements.txt (line 3)) (4.9.0)\r\n",
      "Requirement already satisfied: contourpy>=1.0.1 in /Users/khumachbayramova/anaconda3/lib/python3.11/site-packages (from matplotlib>=3.2.2->-r lab3/requirements.txt (line 4)) (1.0.5)\r\n",
      "Requirement already satisfied: cycler>=0.10 in /Users/khumachbayramova/anaconda3/lib/python3.11/site-packages (from matplotlib>=3.2.2->-r lab3/requirements.txt (line 4)) (0.10.0)\r\n",
      "Requirement already satisfied: fonttools>=4.22.0 in /Users/khumachbayramova/anaconda3/lib/python3.11/site-packages (from matplotlib>=3.2.2->-r lab3/requirements.txt (line 4)) (4.25.0)\r\n",
      "Requirement already satisfied: kiwisolver>=1.0.1 in /Users/khumachbayramova/anaconda3/lib/python3.11/site-packages (from matplotlib>=3.2.2->-r lab3/requirements.txt (line 4)) (1.4.4)\r\n",
      "Requirement already satisfied: pyparsing<3.1,>=2.3.1 in /Users/khumachbayramova/anaconda3/lib/python3.11/site-packages (from matplotlib>=3.2.2->-r lab3/requirements.txt (line 4)) (3.0.9)\r\n",
      "Requirement already satisfied: pytz>=2020.1 in /Users/khumachbayramova/anaconda3/lib/python3.11/site-packages (from pandas>=1.1.4->-r lab3/requirements.txt (line 7)) (2023.3.post1)\r\n",
      "Requirement already satisfied: tzdata>=2022.1 in /Users/khumachbayramova/anaconda3/lib/python3.11/site-packages (from pandas>=1.1.4->-r lab3/requirements.txt (line 7)) (2023.3)\r\n",
      "Requirement already satisfied: backcall in /Users/khumachbayramova/anaconda3/lib/python3.11/site-packages (from ipython->-r lab3/requirements.txt (line 9)) (0.2.0)\r\n",
      "Requirement already satisfied: decorator in /Users/khumachbayramova/anaconda3/lib/python3.11/site-packages (from ipython->-r lab3/requirements.txt (line 9)) (5.1.1)\r\n",
      "Requirement already satisfied: jedi>=0.16 in /Users/khumachbayramova/anaconda3/lib/python3.11/site-packages (from ipython->-r lab3/requirements.txt (line 9)) (0.18.1)\r\n",
      "Requirement already satisfied: matplotlib-inline in /Users/khumachbayramova/anaconda3/lib/python3.11/site-packages (from ipython->-r lab3/requirements.txt (line 9)) (0.1.6)\r\n",
      "Requirement already satisfied: pickleshare in /Users/khumachbayramova/anaconda3/lib/python3.11/site-packages (from ipython->-r lab3/requirements.txt (line 9)) (0.7.5)\r\n",
      "Requirement already satisfied: prompt-toolkit!=3.0.37,<3.1.0,>=3.0.30 in /Users/khumachbayramova/anaconda3/lib/python3.11/site-packages (from ipython->-r lab3/requirements.txt (line 9)) (3.0.36)\r\n",
      "Requirement already satisfied: pygments>=2.4.0 in /Users/khumachbayramova/anaconda3/lib/python3.11/site-packages (from ipython->-r lab3/requirements.txt (line 9)) (2.15.1)\r\n",
      "Requirement already satisfied: stack-data in /Users/khumachbayramova/anaconda3/lib/python3.11/site-packages (from ipython->-r lab3/requirements.txt (line 9)) (0.2.0)\r\n",
      "Requirement already satisfied: traitlets>=5 in /Users/khumachbayramova/anaconda3/lib/python3.11/site-packages (from ipython->-r lab3/requirements.txt (line 9)) (5.7.1)\r\n",
      "Requirement already satisfied: pexpect>4.3 in /Users/khumachbayramova/anaconda3/lib/python3.11/site-packages (from ipython->-r lab3/requirements.txt (line 9)) (4.8.0)\r\n",
      "Requirement already satisfied: appnope in /Users/khumachbayramova/anaconda3/lib/python3.11/site-packages (from ipython->-r lab3/requirements.txt (line 9)) (0.1.2)\r\n",
      "Requirement already satisfied: charset-normalizer<4,>=2 in /Users/khumachbayramova/anaconda3/lib/python3.11/site-packages (from requests>=2.23.0->-r lab3/requirements.txt (line 10)) (2.0.4)\r\n",
      "Requirement already satisfied: idna<4,>=2.5 in /Users/khumachbayramova/anaconda3/lib/python3.11/site-packages (from requests>=2.23.0->-r lab3/requirements.txt (line 10)) (2.10)\r\n",
      "Requirement already satisfied: urllib3<3,>=1.21.1 in /Users/khumachbayramova/anaconda3/lib/python3.11/site-packages (from requests>=2.23.0->-r lab3/requirements.txt (line 10)) (1.26.16)\r\n",
      "Requirement already satisfied: certifi>=2017.4.17 in /Users/khumachbayramova/anaconda3/lib/python3.11/site-packages (from requests>=2.23.0->-r lab3/requirements.txt (line 10)) (2024.2.2)\r\n",
      "Requirement already satisfied: absl-py>=0.4 in /Users/khumachbayramova/anaconda3/lib/python3.11/site-packages (from tensorboard>=2.4.1->-r lab3/requirements.txt (line 13)) (1.4.0)\r\n",
      "Requirement already satisfied: grpcio>=1.48.2 in /Users/khumachbayramova/anaconda3/lib/python3.11/site-packages (from tensorboard>=2.4.1->-r lab3/requirements.txt (line 13)) (1.48.2)\r\n",
      "Requirement already satisfied: markdown>=2.6.8 in /Users/khumachbayramova/anaconda3/lib/python3.11/site-packages (from tensorboard>=2.4.1->-r lab3/requirements.txt (line 13)) (3.4.1)\r\n",
      "Requirement already satisfied: six>1.9 in /Users/khumachbayramova/anaconda3/lib/python3.11/site-packages (from tensorboard>=2.4.1->-r lab3/requirements.txt (line 13)) (1.16.0)\r\n",
      "Requirement already satisfied: tensorboard-data-server<0.8.0,>=0.7.0 in /Users/khumachbayramova/anaconda3/lib/python3.11/site-packages (from tensorboard>=2.4.1->-r lab3/requirements.txt (line 13)) (0.7.0)\r\n",
      "Requirement already satisfied: werkzeug>=1.0.1 in /Users/khumachbayramova/anaconda3/lib/python3.11/site-packages (from tensorboard>=2.4.1->-r lab3/requirements.txt (line 13)) (2.2.3)\r\n",
      "Requirement already satisfied: filelock in /Users/khumachbayramova/anaconda3/lib/python3.11/site-packages (from torch!=1.12.0,>=1.7.0->-r lab3/requirements.txt (line 14)) (3.9.0)\r\n",
      "Requirement already satisfied: sympy in /Users/khumachbayramova/anaconda3/lib/python3.11/site-packages (from torch!=1.12.0,>=1.7.0->-r lab3/requirements.txt (line 14)) (1.11.1)\r\n",
      "Requirement already satisfied: networkx in /Users/khumachbayramova/anaconda3/lib/python3.11/site-packages (from torch!=1.12.0,>=1.7.0->-r lab3/requirements.txt (line 14)) (3.1)\r\n",
      "Requirement already satisfied: fsspec in /Users/khumachbayramova/anaconda3/lib/python3.11/site-packages (from torch!=1.12.0,>=1.7.0->-r lab3/requirements.txt (line 14)) (2023.4.0)\r\n",
      "Requirement already satisfied: pyzmq>=17.0 in /Users/khumachbayramova/anaconda3/lib/python3.11/site-packages (from circus!=0.17.2,>=0.17.0->bentoml>=1.0.0->-r lab3/requirements.txt (line 3)) (23.2.0)\r\n",
      "Requirement already satisfied: tornado>=5.0.2 in /Users/khumachbayramova/anaconda3/lib/python3.11/site-packages (from circus!=0.17.2,>=0.17.0->bentoml>=1.0.0->-r lab3/requirements.txt (line 3)) (6.3.2)\r\n",
      "Requirement already satisfied: parso<0.9.0,>=0.8.0 in /Users/khumachbayramova/anaconda3/lib/python3.11/site-packages (from jedi>=0.16->ipython->-r lab3/requirements.txt (line 9)) (0.8.3)\r\n",
      "Requirement already satisfied: MarkupSafe>=2.0 in /Users/khumachbayramova/anaconda3/lib/python3.11/site-packages (from jinja2>=3.0.1->bentoml>=1.0.0->-r lab3/requirements.txt (line 3)) (2.1.1)\r\n",
      "Requirement already satisfied: ptyprocess>=0.5 in /Users/khumachbayramova/anaconda3/lib/python3.11/site-packages (from pexpect>4.3->ipython->-r lab3/requirements.txt (line 9)) (0.7.0)\r\n",
      "Requirement already satisfied: build>=1.0.0 in /Users/khumachbayramova/anaconda3/lib/python3.11/site-packages (from pip-tools>=6.6.2->bentoml>=1.0.0->-r lab3/requirements.txt (line 3)) (1.2.1)\r\n",
      "Requirement already satisfied: pip>=22.2 in /Users/khumachbayramova/anaconda3/lib/python3.11/site-packages (from pip-tools>=6.6.2->bentoml>=1.0.0->-r lab3/requirements.txt (line 3)) (24.0)\r\n",
      "Requirement already satisfied: pyproject-hooks in /Users/khumachbayramova/anaconda3/lib/python3.11/site-packages (from pip-tools>=6.6.2->bentoml>=1.0.0->-r lab3/requirements.txt (line 3)) (1.1.0)\r\n",
      "Requirement already satisfied: wheel in /Users/khumachbayramova/anaconda3/lib/python3.11/site-packages (from pip-tools>=6.6.2->bentoml>=1.0.0->-r lab3/requirements.txt (line 3)) (0.43.0)\r\n",
      "Requirement already satisfied: wcwidth in /Users/khumachbayramova/anaconda3/lib/python3.11/site-packages (from prompt-toolkit!=3.0.37,<3.1.0,>=3.0.30->ipython->-r lab3/requirements.txt (line 9)) (0.2.5)\r\n",
      "Requirement already satisfied: markdown-it-py>=2.2.0 in /Users/khumachbayramova/anaconda3/lib/python3.11/site-packages (from rich>=11.2.0->bentoml>=1.0.0->-r lab3/requirements.txt (line 3)) (2.2.0)\r\n",
      "Requirement already satisfied: anyio<5,>=3.4.0 in /Users/khumachbayramova/anaconda3/lib/python3.11/site-packages (from starlette>=0.24.0->bentoml>=1.0.0->-r lab3/requirements.txt (line 3)) (3.5.0)\r\n",
      "Requirement already satisfied: h11>=0.8 in /Users/khumachbayramova/anaconda3/lib/python3.11/site-packages (from uvicorn>=0.22.0->bentoml>=1.0.0->-r lab3/requirements.txt (line 3)) (0.14.0)\r\n",
      "Requirement already satisfied: multidict<7.0,>=4.5 in /Users/khumachbayramova/anaconda3/lib/python3.11/site-packages (from aiohttp->bentoml>=1.0.0->-r lab3/requirements.txt (line 3)) (6.0.2)\r\n",
      "Requirement already satisfied: async-timeout<5.0,>=4.0.0a3 in /Users/khumachbayramova/anaconda3/lib/python3.11/site-packages (from aiohttp->bentoml>=1.0.0->-r lab3/requirements.txt (line 3)) (4.0.2)\r\n",
      "Requirement already satisfied: yarl<2.0,>=1.0 in /Users/khumachbayramova/anaconda3/lib/python3.11/site-packages (from aiohttp->bentoml>=1.0.0->-r lab3/requirements.txt (line 3)) (1.8.1)\r\n",
      "Requirement already satisfied: frozenlist>=1.1.1 in /Users/khumachbayramova/anaconda3/lib/python3.11/site-packages (from aiohttp->bentoml>=1.0.0->-r lab3/requirements.txt (line 3)) (1.3.3)\r\n",
      "Requirement already satisfied: aiosignal>=1.1.2 in /Users/khumachbayramova/anaconda3/lib/python3.11/site-packages (from aiohttp->bentoml>=1.0.0->-r lab3/requirements.txt (line 3)) (1.2.0)\r\n",
      "Requirement already satisfied: appdirs~=1.4.3 in /Users/khumachbayramova/anaconda3/lib/python3.11/site-packages (from fs->bentoml>=1.0.0->-r lab3/requirements.txt (line 3)) (1.4.4)\r\n",
      "Requirement already satisfied: httpcore==1.* in /Users/khumachbayramova/anaconda3/lib/python3.11/site-packages (from httpx->bentoml>=1.0.0->-r lab3/requirements.txt (line 3)) (1.0.5)\r\n",
      "Requirement already satisfied: sniffio in /Users/khumachbayramova/anaconda3/lib/python3.11/site-packages (from httpx->bentoml>=1.0.0->-r lab3/requirements.txt (line 3)) (1.2.0)\r\n",
      "Requirement already satisfied: executing in /Users/khumachbayramova/anaconda3/lib/python3.11/site-packages (from stack-data->ipython->-r lab3/requirements.txt (line 9)) (0.8.3)\r\n",
      "Requirement already satisfied: asttokens in /Users/khumachbayramova/anaconda3/lib/python3.11/site-packages (from stack-data->ipython->-r lab3/requirements.txt (line 9)) (2.0.5)\r\n",
      "Requirement already satisfied: pure-eval in /Users/khumachbayramova/anaconda3/lib/python3.11/site-packages (from stack-data->ipython->-r lab3/requirements.txt (line 9)) (0.2.2)\r\n",
      "Requirement already satisfied: mpmath>=0.19 in /Users/khumachbayramova/anaconda3/lib/python3.11/site-packages (from sympy->torch!=1.12.0,>=1.7.0->-r lab3/requirements.txt (line 14)) (1.3.0)\r\n",
      "Requirement already satisfied: zipp>=0.5 in /Users/khumachbayramova/anaconda3/lib/python3.11/site-packages (from importlib-metadata<7.0,>=6.0->opentelemetry-api==1.20.0->bentoml>=1.0.0->-r lab3/requirements.txt (line 3)) (3.11.0)\r\n",
      "Requirement already satisfied: mdurl~=0.1 in /Users/khumachbayramova/anaconda3/lib/python3.11/site-packages (from markdown-it-py>=2.2.0->rich>=11.2.0->bentoml>=1.0.0->-r lab3/requirements.txt (line 3)) (0.1.0)\r\n"
     ]
    }
   ],
   "source": [
    "!pip install -r lab3/requirements.txt"
   ]
  },
  {
   "cell_type": "code",
   "outputs": [],
   "source": [
    "import requests\n",
    "from PIL import Image\n",
    "\n",
    "file_path = \"datasets/coco128/images/val2017/000000119995.jpg\"\n",
    "\n",
    "with open(file_path, 'rb') as file:\n",
    "    data = file.read()\n",
    "\n",
    "\n",
    "def run_bento(data):\n",
    "    headers = {\n",
    "        \"accept\": \"application/json\",\n",
    "        \"Content-Type\": \"image/png\",\n",
    "    }\n",
    "\n",
    "    response = requests.post(\n",
    "        \"http://0.0.0.0:3000/invocation\",\n",
    "        headers=headers,\n",
    "        data=data,\n",
    "    )\n",
    "\n",
    "    return response.text"
   ],
   "metadata": {
    "collapsed": false,
    "ExecuteTime": {
     "end_time": "2024-06-04T20:43:29.224867Z",
     "start_time": "2024-06-04T20:43:29.131116Z"
    }
   },
   "id": "a3e75ed5930b9744",
   "execution_count": 3
  },
  {
   "cell_type": "code",
   "outputs": [],
   "source": [
    "def calculate_mAP(predictions, annotations, image_width, image_height):\n",
    "    # Convert YOLO format to (x_min, y_min, x_max, y_max)\n",
    "  # Convert YOLO format to (x_min, y_min, x_max, y_max)\n",
    "    def yolo_to_bbox(x_center, y_center, width, height, img_width, img_height):\n",
    "        x_min = (x_center - width / 2) * img_width\n",
    "        y_min = (y_center - height / 2) * img_height\n",
    "        x_max = (x_center + width / 2) * img_width\n",
    "        y_max = (y_center + height / 2) * img_height\n",
    "        return [x_min, y_min, x_max, y_max]\n",
    "    \n",
    "    \n",
    "    # Convert predictions to (x_center, y_center, width, height)\n",
    "    def pred_to_bbox(pred):\n",
    "        x_min, y_min, width, height = pred\n",
    "        x_max = x_min + width\n",
    "        y_max = y_min + height\n",
    "        return [x_min, y_min, x_max, y_max]\n",
    "        \n",
    "    # Calculate Intersection over Union (IoU)\n",
    "    def calculate_iou(box1, box2):\n",
    "        x1_min, y1_min, x1_max, y1_max = box1\n",
    "        x2_min, y2_min, x2_max, y2_max = box2\n",
    "    \n",
    "        inter_x_min = max(x1_min, x2_min)\n",
    "        inter_y_min = max(y1_min, y2_min)\n",
    "        inter_x_max = min(x1_max, x2_max)\n",
    "        inter_y_max = min(y1_max, y2_max)\n",
    "    \n",
    "        inter_area = max(0, inter_x_max - inter_x_min) * max(0, inter_y_max - inter_y_min)\n",
    "        box1_area = (x1_max - x1_min) * (y1_max - y1_min)\n",
    "        box2_area = (x2_max - x2_min) * (y2_max - y2_min)\n",
    "    \n",
    "        union_area = box1_area + box2_area - inter_area\n",
    "        iou = inter_area / union_area\n",
    "        return iou\n",
    "    \n",
    "    # Process ground truths\n",
    "    gt_bboxes = []\n",
    "    for ann in annotations:\n",
    "        class_id, x_center, y_center, width, height = ann\n",
    "        bbox = yolo_to_bbox(x_center, y_center, width, height, image_width, image_height)\n",
    "        gt_bboxes.append((class_id, bbox))\n",
    "    \n",
    "    # Process predictions\n",
    "    pred_bboxes = []\n",
    "    for pred, class_id in predictions:\n",
    "        bbox = pred_to_bbox(pred)\n",
    "        pred_bboxes.append((class_id, bbox))\n",
    "    \n",
    "    # Calculate IoUs and determine TP, FP, FN\n",
    "    iou_threshold = 0.5\n",
    "    tp, fp, fn = 0, 0, 0\n",
    "    \n",
    "    # Create a list to store matched ground truths\n",
    "    matched_gts = set()\n",
    "    \n",
    "    for pred_class, pred_bbox in pred_bboxes:\n",
    "        if pred_class != 15:\n",
    "            continue\n",
    "        matched = False\n",
    "        for gt_idx, (gt_class, gt_bbox) in enumerate(gt_bboxes):\n",
    "            iou = calculate_iou(pred_bbox, gt_bbox)\n",
    "            print(iou, pred_class, gt_class)\n",
    "            if iou >= iou_threshold and pred_class == gt_class and gt_idx not in matched_gts:\n",
    "                tp += 1\n",
    "                matched_gts.add(gt_idx)\n",
    "                matched = True\n",
    "                break\n",
    "        if not matched:\n",
    "            fp += 1\n",
    "    \n",
    "    # Calculate FN\n",
    "    fn = len(gt_bboxes) - tp\n",
    "    \n",
    "    # Calculate Precision and Recall\n",
    "    precision = tp / (tp + fp) if (tp + fp) > 0 else 0\n",
    "    recall = tp / (tp + fn) if (tp + fn) > 0 else 0\n",
    "    \n",
    "    # Assuming we have one precision-recall point, mAP is simply precision at this recall\n",
    "    mAP = precision\n",
    "    print(tp, fp, fn, precision, recall, mAP)\n",
    "    \n",
    "    return mAP\n"
   ],
   "metadata": {
    "collapsed": false,
    "ExecuteTime": {
     "end_time": "2024-06-05T12:24:09.420342Z",
     "start_time": "2024-06-05T12:24:09.416471Z"
    }
   },
   "id": "88cc4db90e901b6b",
   "execution_count": 117
  },
  {
   "cell_type": "code",
   "outputs": [],
   "source": [
    "import json\n",
    "\n",
    "\n",
    "def convert_predictions(pred_dicts_str):\n",
    "    pred_dicts = json.loads(pred_dicts_str)\n",
    "\n",
    "    # Проходим по каждому словарю в списке и извлекаем данные\n",
    "    predictions = []\n",
    "    for item in pred_dicts:\n",
    "        if 'bbox' not in item or 'class' not in item:\n",
    "            break\n",
    "        bbox = item[\"bbox\"]\n",
    "        class_id = item[\"class\"]\n",
    "        predictions.append((bbox, class_id))\n",
    "    return predictions\n",
    "\n",
    "\n",
    "def convert_annotations(annotations):\n",
    "    # Разбиваем строку на строки, используя символ новой строки в качестве разделителя\n",
    "    lines = annotations.strip().split('\\n')\n",
    "\n",
    "    # Создаём список для хранения кортежей\n",
    "    data_list = []\n",
    "\n",
    "    # Проходим по каждой строке\n",
    "    for line in lines:\n",
    "        # Разбиваем строку на подстроки, используя пробел в качестве разделителя\n",
    "        values = line.split()\n",
    "        # Преобразуем значения в числа\n",
    "        values = [float(value) for value in values]\n",
    "        # Преобразуем в кортеж и добавляем в список\n",
    "        data_list.append(tuple(values))\n",
    "\n",
    "    return data_list\n",
    "\n",
    "\n",
    "def get_inference_time(predictions):\n",
    "    result_dict = json.loads(predictions)\n",
    "    if result_dict != []:\n",
    "        return result_dict[0][\"inference_time\"]*1000"
   ],
   "metadata": {
    "collapsed": false,
    "ExecuteTime": {
     "end_time": "2024-06-05T12:24:10.002773Z",
     "start_time": "2024-06-05T12:24:10.001197Z"
    }
   },
   "id": "729891ac0a2cbcd4",
   "execution_count": 118
  },
  {
   "cell_type": "code",
   "outputs": [
    {
     "name": "stdout",
     "output_type": "stream",
     "text": [
      "0.6457153322303872 15 15.0\n",
      "1 0 0 1.0 1.0 1.0\n",
      "0.9599627452450264 15 15.0\n",
      "1 0 0 1.0 1.0 1.0\n",
      "0.9380434597567834 15 15.0\n",
      "1 0 0 1.0 1.0 1.0\n",
      "0.7493950786803572 15 15.0\n",
      "1 0 0 1.0 1.0 1.0\n",
      "0.9209483022681416 15 15.0\n",
      "1 0 0 1.0 1.0 1.0\n",
      "0.9528520416993599 15 15.0\n",
      "1 0 0 1.0 1.0 1.0\n",
      "0 0 1 0 0.0 0\n",
      "0.852423164934648 15 15.0\n",
      "1 0 0 1.0 1.0 1.0\n",
      "0.955915425380864 15 15.0\n",
      "1 0 0 1.0 1.0 1.0\n",
      "0.8955318409013261 15 15.0\n",
      "1 0 0 1.0 1.0 1.0\n",
      "0.364403579218337 15 15.0\n",
      "0 1 1 0.0 0.0 0.0\n",
      "0.5609177230878107 15 15.0\n",
      "1 0 0 1.0 1.0 1.0\n",
      "0.7881525948319493 15 15.0\n",
      "1 0 1 1.0 0.5 1.0\n",
      "0.6977114717016342 15 15.0\n",
      "1 0 0 1.0 1.0 1.0\n",
      "0.5558050646290761 15 15.0\n",
      "1 0 0 1.0 1.0 1.0\n",
      "0.9336268554417606 15 15.0\n",
      "1 0 0 1.0 1.0 1.0\n",
      "0.7051771818876917 15 15.0\n",
      "1 0 0 1.0 1.0 1.0\n",
      "0 0 1 0 0.0 0\n",
      "0.9456073260073261 15 15.0\n",
      "1 0 0 1.0 1.0 1.0\n",
      "0.9192767830797457 15 15.0\n",
      "1 0 0 1.0 1.0 1.0\n",
      "0.015491640975389614 15 15.0\n",
      "0.9347282678075123 15 15.0\n",
      "0.8335908317235056 15 15.0\n",
      "2 0 0 1.0 1.0 1.0\n",
      "0 0 1 0 0.0 0\n",
      "0.884712559455704 15 15.0\n",
      "1 0 0 1.0 1.0 1.0\n",
      "0.8933503221577023 15 15.0\n",
      "1 0 0 1.0 1.0 1.0\n",
      "0.8820452796020122 15 15.0\n",
      "1 0 0 1.0 1.0 1.0\n",
      "0.949918574659736 15 15.0\n",
      "1 0 0 1.0 1.0 1.0\n",
      "0.9635915720066117 15 15.0\n",
      "1 0 0 1.0 1.0 1.0\n",
      "0.7985214160555546 15 15.0\n",
      "1 0 0 1.0 1.0 1.0\n",
      "0.9324623650007765 15 15.0\n",
      "1 0 0 1.0 1.0 1.0\n",
      "0 0 1 0 0.0 0\n",
      "0.7996844798270977 15 15.0\n",
      "0.31273624879414885 15 15.0\n",
      "0.8604326268118332 15 15.0\n",
      "2 0 0 1.0 1.0 1.0\n",
      "0 0 1 0 0.0 0\n",
      "0.8836298156248383 15 15.0\n",
      "1 0 0 1.0 1.0 1.0\n",
      "0.9398986374672345 15 15.0\n",
      "1 0 0 1.0 1.0 1.0\n",
      "0.7838446801334686 15 15.0\n",
      "1 0 0 1.0 1.0 1.0\n",
      "0 0 2 0 0.0 0\n",
      "0.9776799904640815 15 15.0\n",
      "1 0 0 1.0 1.0 1.0\n",
      "0.9227587545787543 15 15.0\n",
      "1 0 0 1.0 1.0 1.0\n",
      "0.9307410129649507 15 15.0\n",
      "1 0 0 1.0 1.0 1.0\n",
      "0 0 1 0 0.0 0\n",
      "0.32656929162659476 15 15.0\n",
      "0 1 1 0.0 0.0 0.0\n",
      "0.7111111111111111\n",
      "104.9250335292683\n"
     ]
    }
   ],
   "source": [
    "import os\n",
    "\n",
    "\n",
    "def process_files_and_read_labels():\n",
    "    images_directory = \"datasets/cats_dataset/cats_dataset/images/val\"\n",
    "    labels_directory = \"datasets/cats_dataset/cats_dataset/labels/val\"\n",
    "\n",
    "    # Получаем список файлов в директории с изображениями\n",
    "    image_files = os.listdir(images_directory)\n",
    "    i = 0\n",
    "    mAP_sum = 0\n",
    "    inference_time_sum = 0\n",
    "    # Проходим по каждому файлу изображения\n",
    "    for image_file in image_files:\n",
    "        # Проверяем, что файл является файлом изображения\n",
    "        if image_file.endswith((\".jpg\")):\n",
    "            with open(os.path.join(images_directory, image_file), 'rb') as file:\n",
    "                data = file.read()\n",
    "\n",
    "            image = Image.open(os.path.join(images_directory, image_file))\n",
    "            width, height = image.size\n",
    "\n",
    "            result = run_bento(data)\n",
    "            predictions = convert_predictions(result)\n",
    "            inference_time = get_inference_time(result)\n",
    "            \n",
    "            label_file = os.path.join(labels_directory, os.path.splitext(image_file)[0] + \".txt\")\n",
    "\n",
    "            i = i + 1\n",
    "\n",
    "            with open(label_file, \"r\") as f:\n",
    "                label_content = f.read()\n",
    "            mAP = calculate_mAP(predictions, convert_annotations(label_content), width, height)\n",
    "            mAP_sum = mAP_sum + mAP\n",
    "            inference_time_sum = inference_time_sum + inference_time\n",
    "\n",
    "    return mAP_sum / 45, inference_time_sum/i\n",
    "\n",
    "\n",
    "# Вызываем функцию для обработки файлов и чтения соответствующих меток\n",
    "mAP, inference_time = process_files_and_read_labels()\n",
    "print(mAP)\n",
    "print(inference_time)"
   ],
   "metadata": {
    "collapsed": false,
    "ExecuteTime": {
     "end_time": "2024-06-05T12:24:28.046526Z",
     "start_time": "2024-06-05T12:24:22.304711Z"
    }
   },
   "id": "ae44c84bc8afb4b",
   "execution_count": 120
  },
  {
   "cell_type": "code",
   "outputs": [
    {
     "name": "stdout",
     "output_type": "stream",
     "text": [
      "[([337, 31, 113, 202], 0), ([253, 211, 176, 57], 38), ([43, 26, 217, 450], 0), ([434, 0, 33, 24], 0)]\n"
     ]
    }
   ],
   "source": [
    "file_path = \"datasets/coco128/images/val2017/000000119995.jpg\"\n",
    "\n",
    "with open(file_path, 'rb') as file:\n",
    "    data = file.read()\n",
    "\n",
    "result = run_bento(data)\n",
    "print(convert_predictions(result))"
   ],
   "metadata": {
    "collapsed": false,
    "ExecuteTime": {
     "end_time": "2024-06-05T12:02:12.090385Z",
     "start_time": "2024-06-05T12:02:11.952882Z"
    }
   },
   "id": "f5ff9b097d6e01c1",
   "execution_count": 102
  },
  {
   "cell_type": "code",
   "outputs": [
    {
     "ename": "TypeError",
     "evalue": "list indices must be integers or slices, not str",
     "output_type": "error",
     "traceback": [
      "\u001B[0;31m---------------------------------------------------------------------------\u001B[0m",
      "\u001B[0;31mTypeError\u001B[0m                                 Traceback (most recent call last)",
      "Cell \u001B[0;32mIn[48], line 2\u001B[0m\n\u001B[1;32m      1\u001B[0m result_fict \u001B[38;5;241m=\u001B[39m json\u001B[38;5;241m.\u001B[39mloads(result)\n\u001B[0;32m----> 2\u001B[0m \u001B[38;5;28mprint\u001B[39m(result_fict[\u001B[38;5;124m\"\u001B[39m\u001B[38;5;124minference_time\u001B[39m\u001B[38;5;124m\"\u001B[39m])\n",
      "\u001B[0;31mTypeError\u001B[0m: list indices must be integers or slices, not str"
     ]
    }
   ],
   "source": [
    "result_fict = json.loads(result)\n",
    "print(result_fict[\"inference_time\"])"
   ],
   "metadata": {
    "collapsed": false,
    "ExecuteTime": {
     "end_time": "2024-06-05T11:15:39.805479Z",
     "start_time": "2024-06-05T11:15:39.761529Z"
    }
   },
   "id": "95bc4cea7d75216a",
   "execution_count": 48
  },
  {
   "cell_type": "code",
   "outputs": [
    {
     "name": "stdout",
     "output_type": "stream",
     "text": [
      "[{\"bbox\":[337,31,113,202],\"class\":0,\"inference_time\":0.1375002861},{\"bbox\":[44,26,217,449],\"class\":0,\"inference_time\":0.1375002861},{\"bbox\":[253,211,176,56],\"class\":38,\"inference_time\":0.1375002861},{\"bbox\":[434,0,33,23],\"class\":0,\"inference_time\":0.1375002861}]\n",
      "0.1375002861\n"
     ]
    }
   ],
   "source": [
    "print(result)\n",
    "result_fict = json.loads(result)\n",
    "print(result_fict[0][\"inference_time\"])"
   ],
   "metadata": {
    "collapsed": false,
    "ExecuteTime": {
     "end_time": "2024-06-04T20:49:36.438817Z",
     "start_time": "2024-06-04T20:49:36.424856Z"
    }
   },
   "id": "227dccf8cc5f82cd",
   "execution_count": 19
  },
  {
   "cell_type": "code",
   "outputs": [
    {
     "name": "stdout",
     "output_type": "stream",
     "text": [
      "[([401, 0, 190, 156], 56), ([2, -5, 449, 484], 63)]\n"
     ]
    }
   ],
   "source": [
    "import pandas as pd\n",
    "results = []\n",
    "df = pd.DataFrame(results, columns=['bbox', 'class'])\n",
    "# print(df)\n",
    "\n",
    "print(convert_predictions('[{\"bbox\":[401,0,190,156],\"class\":56,\"inference_time\":0.1030790806},{\"bbox\":[2,-5,449,484],\"class\":63,\"inference_time\":0.1030790806}]'))"
   ],
   "metadata": {
    "collapsed": false,
    "ExecuteTime": {
     "end_time": "2024-06-05T11:24:26.993816Z",
     "start_time": "2024-06-05T11:24:26.980277Z"
    }
   },
   "id": "ce213f699d000925",
   "execution_count": 64
  },
  {
   "cell_type": "code",
   "outputs": [],
   "source": [],
   "metadata": {
    "collapsed": false
   },
   "id": "f21c7186e3332bf7"
  }
 ],
 "metadata": {
  "kernelspec": {
   "display_name": "Python 3",
   "language": "python",
   "name": "python3"
  },
  "language_info": {
   "codemirror_mode": {
    "name": "ipython",
    "version": 2
   },
   "file_extension": ".py",
   "mimetype": "text/x-python",
   "name": "python",
   "nbconvert_exporter": "python",
   "pygments_lexer": "ipython2",
   "version": "2.7.6"
  }
 },
 "nbformat": 4,
 "nbformat_minor": 5
}
