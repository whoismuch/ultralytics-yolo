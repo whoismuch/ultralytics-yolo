{
 "cells": [
  {
   "cell_type": "code",
   "execution_count": 1,
   "id": "initial_id",
   "metadata": {
    "collapsed": true,
    "ExecuteTime": {
     "end_time": "2024-05-20T16:42:03.715547Z",
     "start_time": "2024-05-20T16:41:46.415532Z"
    }
   },
   "outputs": [
    {
     "name": "stdout",
     "output_type": "stream",
     "text": [
      "Requirement already satisfied: ultralytics in /Users/khumachbayramova/anaconda3/lib/python3.11/site-packages (8.1.34)\r\n",
      "Requirement already satisfied: matplotlib>=3.3.0 in /Users/khumachbayramova/anaconda3/lib/python3.11/site-packages (from ultralytics) (3.7.2)\r\n",
      "Requirement already satisfied: opencv-python>=4.6.0 in /Users/khumachbayramova/anaconda3/lib/python3.11/site-packages (from ultralytics) (4.7.0.72)\r\n",
      "Requirement already satisfied: pillow>=7.1.2 in /Users/khumachbayramova/anaconda3/lib/python3.11/site-packages (from ultralytics) (9.4.0)\r\n",
      "Requirement already satisfied: pyyaml>=5.3.1 in /Users/khumachbayramova/anaconda3/lib/python3.11/site-packages (from ultralytics) (6.0)\r\n",
      "Requirement already satisfied: requests>=2.23.0 in /Users/khumachbayramova/anaconda3/lib/python3.11/site-packages (from ultralytics) (2.31.0)\r\n",
      "Requirement already satisfied: scipy>=1.4.1 in /Users/khumachbayramova/anaconda3/lib/python3.11/site-packages (from ultralytics) (1.11.1)\r\n",
      "Requirement already satisfied: torch>=1.8.0 in /Users/khumachbayramova/anaconda3/lib/python3.11/site-packages (from ultralytics) (2.2.0.post100)\r\n",
      "Requirement already satisfied: torchvision>=0.9.0 in /Users/khumachbayramova/anaconda3/lib/python3.11/site-packages (from ultralytics) (0.17.1)\r\n",
      "Requirement already satisfied: tqdm>=4.64.0 in /Users/khumachbayramova/anaconda3/lib/python3.11/site-packages (from ultralytics) (4.65.0)\r\n",
      "Requirement already satisfied: psutil in /Users/khumachbayramova/anaconda3/lib/python3.11/site-packages (from ultralytics) (5.9.0)\r\n",
      "Requirement already satisfied: py-cpuinfo in /Users/khumachbayramova/anaconda3/lib/python3.11/site-packages (from ultralytics) (8.0.0)\r\n",
      "Requirement already satisfied: thop>=0.1.1 in /Users/khumachbayramova/anaconda3/lib/python3.11/site-packages (from ultralytics) (0.1.1.post2209072238)\r\n",
      "Requirement already satisfied: pandas>=1.1.4 in /Users/khumachbayramova/anaconda3/lib/python3.11/site-packages (from ultralytics) (2.0.3)\r\n",
      "Requirement already satisfied: seaborn>=0.11.0 in /Users/khumachbayramova/anaconda3/lib/python3.11/site-packages (from ultralytics) (0.12.2)\r\n",
      "Requirement already satisfied: contourpy>=1.0.1 in /Users/khumachbayramova/anaconda3/lib/python3.11/site-packages (from matplotlib>=3.3.0->ultralytics) (1.0.5)\r\n",
      "Requirement already satisfied: cycler>=0.10 in /Users/khumachbayramova/anaconda3/lib/python3.11/site-packages (from matplotlib>=3.3.0->ultralytics) (0.10.0)\r\n",
      "Requirement already satisfied: fonttools>=4.22.0 in /Users/khumachbayramova/anaconda3/lib/python3.11/site-packages (from matplotlib>=3.3.0->ultralytics) (4.25.0)\r\n",
      "Requirement already satisfied: kiwisolver>=1.0.1 in /Users/khumachbayramova/anaconda3/lib/python3.11/site-packages (from matplotlib>=3.3.0->ultralytics) (1.4.4)\r\n",
      "Requirement already satisfied: numpy>=1.20 in /Users/khumachbayramova/anaconda3/lib/python3.11/site-packages (from matplotlib>=3.3.0->ultralytics) (1.23.5)\r\n",
      "Requirement already satisfied: packaging>=20.0 in /Users/khumachbayramova/anaconda3/lib/python3.11/site-packages (from matplotlib>=3.3.0->ultralytics) (23.1)\r\n",
      "Requirement already satisfied: pyparsing<3.1,>=2.3.1 in /Users/khumachbayramova/anaconda3/lib/python3.11/site-packages (from matplotlib>=3.3.0->ultralytics) (3.0.9)\r\n",
      "Requirement already satisfied: python-dateutil>=2.7 in /Users/khumachbayramova/anaconda3/lib/python3.11/site-packages (from matplotlib>=3.3.0->ultralytics) (2.8.2)\r\n",
      "Requirement already satisfied: pytz>=2020.1 in /Users/khumachbayramova/anaconda3/lib/python3.11/site-packages (from pandas>=1.1.4->ultralytics) (2023.3.post1)\r\n",
      "Requirement already satisfied: tzdata>=2022.1 in /Users/khumachbayramova/anaconda3/lib/python3.11/site-packages (from pandas>=1.1.4->ultralytics) (2023.3)\r\n",
      "Requirement already satisfied: charset-normalizer<4,>=2 in /Users/khumachbayramova/anaconda3/lib/python3.11/site-packages (from requests>=2.23.0->ultralytics) (2.0.4)\r\n",
      "Requirement already satisfied: idna<4,>=2.5 in /Users/khumachbayramova/anaconda3/lib/python3.11/site-packages (from requests>=2.23.0->ultralytics) (2.10)\r\n",
      "Requirement already satisfied: urllib3<3,>=1.21.1 in /Users/khumachbayramova/anaconda3/lib/python3.11/site-packages (from requests>=2.23.0->ultralytics) (1.26.16)\r\n",
      "Requirement already satisfied: certifi>=2017.4.17 in /Users/khumachbayramova/anaconda3/lib/python3.11/site-packages (from requests>=2.23.0->ultralytics) (2024.2.2)\r\n",
      "Requirement already satisfied: filelock in /Users/khumachbayramova/anaconda3/lib/python3.11/site-packages (from torch>=1.8.0->ultralytics) (3.9.0)\r\n",
      "Requirement already satisfied: typing-extensions>=4.8.0 in /Users/khumachbayramova/anaconda3/lib/python3.11/site-packages (from torch>=1.8.0->ultralytics) (4.9.0)\r\n",
      "Requirement already satisfied: sympy in /Users/khumachbayramova/anaconda3/lib/python3.11/site-packages (from torch>=1.8.0->ultralytics) (1.11.1)\r\n",
      "Requirement already satisfied: networkx in /Users/khumachbayramova/anaconda3/lib/python3.11/site-packages (from torch>=1.8.0->ultralytics) (3.1)\r\n",
      "Requirement already satisfied: jinja2 in /Users/khumachbayramova/anaconda3/lib/python3.11/site-packages (from torch>=1.8.0->ultralytics) (3.1.2)\r\n",
      "Requirement already satisfied: fsspec in /Users/khumachbayramova/anaconda3/lib/python3.11/site-packages (from torch>=1.8.0->ultralytics) (2023.4.0)\r\n",
      "Collecting torch>=1.8.0 (from ultralytics)\r\n",
      "  Downloading torch-2.2.1-cp311-none-macosx_11_0_arm64.whl.metadata (25 kB)\r\n",
      "Requirement already satisfied: six in /Users/khumachbayramova/anaconda3/lib/python3.11/site-packages (from cycler>=0.10->matplotlib>=3.3.0->ultralytics) (1.16.0)\r\n",
      "Requirement already satisfied: MarkupSafe>=2.0 in /Users/khumachbayramova/anaconda3/lib/python3.11/site-packages (from jinja2->torch>=1.8.0->ultralytics) (2.1.1)\r\n",
      "Requirement already satisfied: mpmath>=0.19 in /Users/khumachbayramova/anaconda3/lib/python3.11/site-packages (from sympy->torch>=1.8.0->ultralytics) (1.3.0)\r\n",
      "Downloading torch-2.2.1-cp311-none-macosx_11_0_arm64.whl (59.7 MB)\r\n",
      "\u001B[2K   \u001B[90m━━━━━━━━━━━━━━━━━━━━━━━━━━━━━━━━━━━━━━━━\u001B[0m \u001B[32m59.7/59.7 MB\u001B[0m \u001B[31m3.4 MB/s\u001B[0m eta \u001B[36m0:00:00\u001B[0m00:01\u001B[0m00:01\u001B[0mm\r\n",
      "\u001B[?25hInstalling collected packages: torch\r\n",
      "  Attempting uninstall: torch\r\n",
      "    Found existing installation: torch 2.2.0.post100\r\n",
      "    Uninstalling torch-2.2.0.post100:\r\n",
      "      Successfully uninstalled torch-2.2.0.post100\r\n",
      "\u001B[31mERROR: pip's dependency resolver does not currently take into account all the packages that are installed. This behaviour is the source of the following dependency conflicts.\r\n",
      "torchaudio 2.2.2 requires torch==2.2.2, but you have torch 2.2.1 which is incompatible.\u001B[0m\u001B[31m\r\n",
      "\u001B[0mSuccessfully installed torch-2.2.1\r\n"
     ]
    }
   ],
   "source": [
    "!pip install ultralytics"
   ]
  },
  {
   "cell_type": "code",
   "outputs": [
    {
     "name": "stdout",
     "output_type": "stream",
     "text": [
      "Collecting clearml\r\n",
      "  Downloading clearml-1.16.1-py2.py3-none-any.whl.metadata (17 kB)\r\n",
      "Requirement already satisfied: attrs>=18.0 in /Users/khumachbayramova/anaconda3/lib/python3.11/site-packages (from clearml) (22.1.0)\r\n",
      "Collecting furl>=2.0.0 (from clearml)\r\n",
      "  Downloading furl-2.1.3-py2.py3-none-any.whl.metadata (1.2 kB)\r\n",
      "Requirement already satisfied: jsonschema>=2.6.0 in /Users/khumachbayramova/anaconda3/lib/python3.11/site-packages (from clearml) (4.17.3)\r\n",
      "Requirement already satisfied: numpy>=1.10 in /Users/khumachbayramova/anaconda3/lib/python3.11/site-packages (from clearml) (1.23.5)\r\n",
      "Collecting pathlib2>=2.3.0 (from clearml)\r\n",
      "  Downloading pathlib2-2.3.7.post1-py2.py3-none-any.whl.metadata (3.5 kB)\r\n",
      "Requirement already satisfied: Pillow>=4.1.1 in /Users/khumachbayramova/anaconda3/lib/python3.11/site-packages (from clearml) (9.4.0)\r\n",
      "Requirement already satisfied: psutil>=3.4.2 in /Users/khumachbayramova/anaconda3/lib/python3.11/site-packages (from clearml) (5.9.0)\r\n",
      "Requirement already satisfied: pyparsing>=2.0.3 in /Users/khumachbayramova/anaconda3/lib/python3.11/site-packages (from clearml) (3.0.9)\r\n",
      "Requirement already satisfied: python-dateutil>=2.6.1 in /Users/khumachbayramova/anaconda3/lib/python3.11/site-packages (from clearml) (2.8.2)\r\n",
      "Requirement already satisfied: PyYAML>=3.12 in /Users/khumachbayramova/anaconda3/lib/python3.11/site-packages (from clearml) (6.0)\r\n",
      "Requirement already satisfied: requests>=2.20.0 in /Users/khumachbayramova/anaconda3/lib/python3.11/site-packages (from clearml) (2.31.0)\r\n",
      "Requirement already satisfied: six>=1.13.0 in /Users/khumachbayramova/anaconda3/lib/python3.11/site-packages (from clearml) (1.16.0)\r\n",
      "Requirement already satisfied: urllib3>=1.21.1 in /Users/khumachbayramova/anaconda3/lib/python3.11/site-packages (from clearml) (1.26.16)\r\n",
      "Requirement already satisfied: pyjwt<2.9.0,>=2.4.0 in /Users/khumachbayramova/anaconda3/lib/python3.11/site-packages (from clearml) (2.4.0)\r\n",
      "Collecting referencing<0.40 (from clearml)\r\n",
      "  Downloading referencing-0.35.1-py3-none-any.whl.metadata (2.8 kB)\r\n",
      "Collecting orderedmultidict>=1.0.1 (from furl>=2.0.0->clearml)\r\n",
      "  Downloading orderedmultidict-1.0.1-py2.py3-none-any.whl.metadata (1.3 kB)\r\n",
      "Requirement already satisfied: pyrsistent!=0.17.0,!=0.17.1,!=0.17.2,>=0.14.0 in /Users/khumachbayramova/anaconda3/lib/python3.11/site-packages (from jsonschema>=2.6.0->clearml) (0.18.0)\r\n",
      "Collecting attrs>=18.0 (from clearml)\r\n",
      "  Downloading attrs-23.2.0-py3-none-any.whl.metadata (9.5 kB)\r\n",
      "Collecting rpds-py>=0.7.0 (from referencing<0.40->clearml)\r\n",
      "  Downloading rpds_py-0.18.1-cp311-cp311-macosx_11_0_arm64.whl.metadata (4.1 kB)\r\n",
      "Requirement already satisfied: charset-normalizer<4,>=2 in /Users/khumachbayramova/anaconda3/lib/python3.11/site-packages (from requests>=2.20.0->clearml) (2.0.4)\r\n",
      "Requirement already satisfied: idna<4,>=2.5 in /Users/khumachbayramova/anaconda3/lib/python3.11/site-packages (from requests>=2.20.0->clearml) (2.10)\r\n",
      "Requirement already satisfied: certifi>=2017.4.17 in /Users/khumachbayramova/anaconda3/lib/python3.11/site-packages (from requests>=2.20.0->clearml) (2024.2.2)\r\n",
      "Downloading clearml-1.16.1-py2.py3-none-any.whl (1.1 MB)\r\n",
      "\u001B[2K   \u001B[90m━━━━━━━━━━━━━━━━━━━━━━━━━━━━━━━━━━━━━━━━\u001B[0m \u001B[32m1.1/1.1 MB\u001B[0m \u001B[31m4.2 MB/s\u001B[0m eta \u001B[36m0:00:00\u001B[0m00:01\u001B[0m00:01\u001B[0m\r\n",
      "\u001B[?25hDownloading furl-2.1.3-py2.py3-none-any.whl (20 kB)\r\n",
      "Downloading pathlib2-2.3.7.post1-py2.py3-none-any.whl (18 kB)\r\n",
      "Downloading referencing-0.35.1-py3-none-any.whl (26 kB)\r\n",
      "Downloading attrs-23.2.0-py3-none-any.whl (60 kB)\r\n",
      "\u001B[2K   \u001B[90m━━━━━━━━━━━━━━━━━━━━━━━━━━━━━━━━━━━━━━━━\u001B[0m \u001B[32m60.8/60.8 kB\u001B[0m \u001B[31m6.5 MB/s\u001B[0m eta \u001B[36m0:00:00\u001B[0m\r\n",
      "\u001B[?25hDownloading orderedmultidict-1.0.1-py2.py3-none-any.whl (11 kB)\r\n",
      "Downloading rpds_py-0.18.1-cp311-cp311-macosx_11_0_arm64.whl (322 kB)\r\n",
      "\u001B[2K   \u001B[90m━━━━━━━━━━━━━━━━━━━━━━━━━━━━━━━━━━━━━━━━\u001B[0m \u001B[32m322.3/322.3 kB\u001B[0m \u001B[31m11.7 MB/s\u001B[0m eta \u001B[36m0:00:00\u001B[0m\r\n",
      "\u001B[?25hInstalling collected packages: rpds-py, pathlib2, orderedmultidict, attrs, referencing, furl, clearml\r\n",
      "  Attempting uninstall: attrs\r\n",
      "    Found existing installation: attrs 22.1.0\r\n",
      "    Uninstalling attrs-22.1.0:\r\n",
      "      Successfully uninstalled attrs-22.1.0\r\n",
      "Successfully installed attrs-23.2.0 clearml-1.16.1 furl-2.1.3 orderedmultidict-1.0.1 pathlib2-2.3.7.post1 referencing-0.35.1 rpds-py-0.18.1\r\n"
     ]
    }
   ],
   "source": [
    "!pip install clearml"
   ],
   "metadata": {
    "collapsed": false,
    "ExecuteTime": {
     "end_time": "2024-05-20T18:04:15.750041Z",
     "start_time": "2024-05-20T18:04:09.996980Z"
    }
   },
   "id": "9eaf2017c63e95a0",
   "execution_count": 9
  },
  {
   "cell_type": "code",
   "outputs": [],
   "source": [
    "import clearml\n",
    "clearml.browser_login()"
   ],
   "metadata": {
    "collapsed": false,
    "ExecuteTime": {
     "end_time": "2024-05-22T07:00:23.612028Z",
     "start_time": "2024-05-22T07:00:21.518295Z"
    }
   },
   "id": "8af499f8b58e4118",
   "execution_count": 1
  },
  {
   "cell_type": "code",
   "outputs": [
    {
     "name": "stdout",
     "output_type": "stream",
     "text": [
      "PRO TIP 💡 Replace 'model=yolov5s.pt' with new 'model=yolov5su.pt'.\n",
      "YOLOv5 'u' models are trained with https://github.com/ultralytics/ultralytics and feature improved performance vs standard YOLOv5 models trained with https://github.com/ultralytics/yolov5.\n",
      "Transferred 427/427 items from pretrained weights\n",
      "New https://pypi.org/project/ultralytics/8.2.18 available 😃 Update with 'pip install -U ultralytics'\n",
      "Ultralytics YOLOv8.1.34 🚀 Python-3.11.5 torch-2.2.1 CPU (Apple M1 Pro)\n",
      "\u001B[34m\u001B[1mengine/trainer: \u001B[0mtask=detect, mode=train, model=yolov5s.yaml, data=./datasets/coco128.yaml, epochs=1, time=None, patience=100, batch=16, imgsz=640, save=True, save_period=-1, cache=False, device=None, workers=8, project=None, name=train29, exist_ok=False, pretrained=True, optimizer=auto, verbose=True, seed=0, deterministic=True, single_cls=False, rect=False, cos_lr=False, close_mosaic=10, resume=False, amp=True, fraction=1.0, profile=False, freeze=None, multi_scale=False, overlap_mask=True, mask_ratio=4, dropout=0.0, val=True, split=val, save_json=False, save_hybrid=False, conf=None, iou=0.7, max_det=300, half=False, dnn=False, plots=True, source=None, vid_stride=1, stream_buffer=False, visualize=False, augment=False, agnostic_nms=False, classes=None, retina_masks=False, embed=None, show=False, save_frames=False, save_txt=False, save_conf=False, save_crop=False, show_labels=True, show_conf=True, show_boxes=True, line_width=None, format=torchscript, keras=False, optimize=False, int8=False, dynamic=False, simplify=False, opset=None, workspace=4, nms=False, lr0=0.01, lrf=0.01, momentum=0.937, weight_decay=0.005, warmup_epochs=3.0, warmup_momentum=0.8, warmup_bias_lr=0.1, box=7.5, cls=0.5, dfl=1.5, pose=12.0, kobj=1.0, label_smoothing=0.0, nbs=64, hsv_h=0.015, hsv_s=0.7, hsv_v=0.4, degrees=0.0, translate=0.1, scale=0.5, shear=0.0, perspective=0.0, flipud=0.0, fliplr=0.5, bgr=0.0, mosaic=1.0, mixup=0.0, copy_paste=0.0, auto_augment=randaugment, erasing=0.4, crop_fraction=1.0, cfg=None, tracker=botsort.yaml, save_dir=runs/detect/train29\n",
      "\n",
      "                   from  n    params  module                                       arguments                     \n",
      "  0                  -1  1      3520  ultralytics.nn.modules.conv.Conv             [3, 32, 6, 2, 2]              \n",
      "  1                  -1  1     18560  ultralytics.nn.modules.conv.Conv             [32, 64, 3, 2]                \n",
      "  2                  -1  1     18816  ultralytics.nn.modules.block.C3              [64, 64, 1]                   \n",
      "  3                  -1  1     73984  ultralytics.nn.modules.conv.Conv             [64, 128, 3, 2]               \n",
      "  4                  -1  2    115712  ultralytics.nn.modules.block.C3              [128, 128, 2]                 \n",
      "  5                  -1  1    295424  ultralytics.nn.modules.conv.Conv             [128, 256, 3, 2]              \n",
      "  6                  -1  3    625152  ultralytics.nn.modules.block.C3              [256, 256, 3]                 \n",
      "  7                  -1  1   1180672  ultralytics.nn.modules.conv.Conv             [256, 512, 3, 2]              \n",
      "  8                  -1  1   1182720  ultralytics.nn.modules.block.C3              [512, 512, 1]                 \n",
      "  9                  -1  1    656896  ultralytics.nn.modules.block.SPPF            [512, 512, 5]                 \n",
      " 10                  -1  1    131584  ultralytics.nn.modules.conv.Conv             [512, 256, 1, 1]              \n",
      " 11                  -1  1         0  torch.nn.modules.upsampling.Upsample         [None, 2, 'nearest']          \n",
      " 12             [-1, 6]  1         0  ultralytics.nn.modules.conv.Concat           [1]                           \n",
      " 13                  -1  1    361984  ultralytics.nn.modules.block.C3              [512, 256, 1, False]          \n",
      " 14                  -1  1     33024  ultralytics.nn.modules.conv.Conv             [256, 128, 1, 1]              \n",
      " 15                  -1  1         0  torch.nn.modules.upsampling.Upsample         [None, 2, 'nearest']          \n",
      " 16             [-1, 4]  1         0  ultralytics.nn.modules.conv.Concat           [1]                           \n",
      " 17                  -1  1     90880  ultralytics.nn.modules.block.C3              [256, 128, 1, False]          \n",
      " 18                  -1  1    147712  ultralytics.nn.modules.conv.Conv             [128, 128, 3, 2]              \n",
      " 19            [-1, 14]  1         0  ultralytics.nn.modules.conv.Concat           [1]                           \n",
      " 20                  -1  1    296448  ultralytics.nn.modules.block.C3              [256, 256, 1, False]          \n",
      " 21                  -1  1    590336  ultralytics.nn.modules.conv.Conv             [256, 256, 3, 2]              \n",
      " 22            [-1, 10]  1         0  ultralytics.nn.modules.conv.Concat           [1]                           \n",
      " 23                  -1  1   1182720  ultralytics.nn.modules.block.C3              [512, 512, 1, False]          \n",
      " 24        [17, 20, 23]  1   2147008  ultralytics.nn.modules.head.Detect           [80, [128, 256, 512]]         \n",
      "YOLOv5s summary: 262 layers, 9153152 parameters, 9153136 gradients, 24.2 GFLOPs\n",
      "\n",
      "Transferred 427/427 items from pretrained weights\n",
      "\u001B[34m\u001B[1mTensorBoard: \u001B[0mStart with 'tensorboard --logdir runs/detect/train29', view at http://localhost:6006/\n",
      "Freezing layer 'model.24.dfl.conv.weight'\n"
     ]
    },
    {
     "name": "stderr",
     "output_type": "stream",
     "text": [
      "\u001B[34m\u001B[1mtrain: \u001B[0mScanning /Users/khumachbayramova/Desktop/ITMO/Магистратура/ИсИИ/ultralytics-yolo/datasets/coco128/labels/train2017.cache... 126 images, 2 backgrounds, 0 corrupt: 100%|██████████| 128/128 [00:00<?, ?it/s]\n",
      "\u001B[34m\u001B[1mval: \u001B[0mScanning /Users/khumachbayramova/Desktop/ITMO/Магистратура/ИсИИ/ultralytics-yolo/datasets/coco128/labels/val2017.cache... 41 images, 0 backgrounds, 0 corrupt: 100%|██████████| 41/41 [00:00<?, ?it/s]"
     ]
    },
    {
     "name": "stdout",
     "output_type": "stream",
     "text": [
      "Plotting labels to runs/detect/train29/labels.jpg... \n"
     ]
    },
    {
     "name": "stderr",
     "output_type": "stream",
     "text": [
      "\n"
     ]
    },
    {
     "name": "stdout",
     "output_type": "stream",
     "text": [
      "\u001B[34m\u001B[1moptimizer:\u001B[0m 'optimizer=auto' found, ignoring 'lr0=0.01' and 'momentum=0.937' and determining best 'optimizer', 'lr0' and 'momentum' automatically... \n",
      "\u001B[34m\u001B[1moptimizer:\u001B[0m AdamW(lr=0.000119, momentum=0.9) with parameter groups 69 weight(decay=0.0), 76 weight(decay=0.005), 75 bias(decay=0.0)\n",
      "\u001B[34m\u001B[1mTensorBoard: \u001B[0mmodel graph visualization added ✅\n",
      "Image sizes 640 train, 640 val\n",
      "Using 0 dataloader workers\n",
      "Logging results to \u001B[1mruns/detect/train29\u001B[0m\n",
      "Starting training for 1 epochs...\n",
      "\n",
      "      Epoch    GPU_mem   box_loss   cls_loss   dfl_loss  Instances       Size\n"
     ]
    },
    {
     "name": "stderr",
     "output_type": "stream",
     "text": [
      "        1/1         0G      1.088       1.17       1.21        278        640: 100%|██████████| 8/8 [02:29<00:00, 18.73s/it]\n",
      "                 Class     Images  Instances      Box(P          R      mAP50  mAP50-95): 100%|██████████| 2/2 [00:14<00:00,  7.44s/it]\n"
     ]
    },
    {
     "name": "stdout",
     "output_type": "stream",
     "text": [
      "                   all         41        356      0.681       0.56      0.654      0.516\n",
      "\n",
      "1 epochs completed in 0.048 hours.\n",
      "Optimizer stripped from runs/detect/train29/weights/last.pt, 18.6MB\n",
      "Optimizer stripped from runs/detect/train29/weights/best.pt, 18.6MB\n",
      "\n",
      "Validating runs/detect/train29/weights/best.pt...\n",
      "Ultralytics YOLOv8.1.34 🚀 Python-3.11.5 torch-2.2.1 CPU (Apple M1 Pro)\n",
      "YOLOv5s summary (fused): 193 layers, 9142496 parameters, 0 gradients, 24.0 GFLOPs\n"
     ]
    },
    {
     "name": "stderr",
     "output_type": "stream",
     "text": [
      "                 Class     Images  Instances      Box(P          R      mAP50  mAP50-95): 100%|██████████| 2/2 [00:13<00:00,  6.98s/it]\n"
     ]
    },
    {
     "name": "stdout",
     "output_type": "stream",
     "text": [
      "                   all         41        356      0.681       0.56      0.654      0.516\n",
      "                person         41         99       0.74      0.727      0.849      0.636\n",
      "               bicycle         41          2      0.497        0.5      0.499       0.45\n",
      "                   car         41         34       0.74      0.529      0.665      0.386\n",
      "            motorcycle         41          1      0.771          1      0.995      0.895\n",
      "                   bus         41          2      0.627          1      0.995      0.945\n",
      "                 train         41          2      0.437        0.5      0.695      0.477\n",
      "                 truck         41         10      0.514        0.2      0.529      0.346\n",
      "         traffic light         41          8      0.361     0.0903      0.261     0.0699\n",
      "             stop sign         41          1      0.659          1      0.995      0.895\n",
      "                 bench         41          7      0.866      0.429      0.539      0.292\n",
      "                  bird         41         20       0.84      0.264       0.36      0.266\n",
      "                   cat         41          1          1          0      0.249      0.249\n",
      "                 horse         41          6          1      0.771       0.84      0.601\n",
      "                   cow         41          9      0.776      0.556      0.805      0.637\n",
      "                 zebra         41          5      0.809        0.6      0.678      0.642\n",
      "              backpack         41          1          1          0      0.124     0.0746\n",
      "              umbrella         41          9          1       0.44      0.721      0.551\n",
      "               handbag         41          1      0.893          1      0.995      0.895\n",
      "                  kite         41          1      0.695          1      0.995      0.796\n",
      "          baseball bat         41          1      0.452          1      0.995      0.597\n",
      "        baseball glove         41          1      0.678          1      0.995      0.995\n",
      "            skateboard         41          3      0.753      0.667      0.863        0.6\n",
      "             surfboard         41          2      0.495        0.5      0.745      0.597\n",
      "         tennis racket         41          5      0.788      0.754       0.88      0.677\n",
      "                   cup         41          2      0.245          1      0.995       0.92\n",
      "                  fork         41          1          1          0      0.497      0.448\n",
      "                  bowl         41          3      0.811          1      0.995      0.776\n",
      "              sandwich         41          4          1      0.678      0.845      0.636\n",
      "              broccoli         41         12      0.268       0.25      0.207      0.143\n",
      "                carrot         41         13      0.348     0.0835      0.173      0.104\n",
      "                 pizza         41         13          1      0.153      0.674      0.374\n",
      "                 chair         41         12      0.793      0.641      0.686      0.521\n",
      "                 couch         41          1       0.66          1      0.995      0.995\n",
      "          dining table         41          7      0.616       0.69      0.574      0.359\n",
      "                    tv         41          1      0.533          1      0.995      0.995\n",
      "                laptop         41          1          0          0      0.199     0.0796\n",
      "            cell phone         41          7      0.409      0.143     0.0991     0.0523\n",
      "                  book         41         38      0.675      0.273      0.466      0.263\n",
      "                 clock         41          3      0.622      0.667      0.561      0.439\n",
      "              scissors         41          1          1          0          0          0\n",
      "            teddy bear         41          4      0.799      0.993      0.945      0.735\n",
      "            toothbrush         41          2      0.426      0.426        0.3      0.262\n",
      "Speed: 1.4ms preprocess, 332.7ms inference, 0.0ms loss, 1.1ms postprocess per image\n",
      "Results saved to \u001B[1mruns/detect/train29\u001B[0m\n",
      "2024-05-22 10:04:18,580 - clearml.util - WARNING - 103 task found when searching for `{'include_archived': True}`\n",
      "2024-05-22 10:04:18,581 - clearml.util - WARNING - Selected task `train28` (id=4ba65717e5804824b163576255858108)\n"
     ]
    }
   ],
   "source": [
    "from ultralytics import YOLO\n",
    "# Load a model\n",
    "model = YOLO(\"yolov5s.yaml\").load(\"yolov5s.pt\")\n",
    "\n",
    "# Train the model\n",
    "results = model.train(data=\"./datasets/coco128.yaml\", epochs=1, imgsz=640, seed=0, weight_decay=0.005)\n",
    "Task.get_task().close()"
   ],
   "metadata": {
    "collapsed": false,
    "ExecuteTime": {
     "end_time": "2024-05-22T07:04:23.558486Z",
     "start_time": "2024-05-22T07:00:56.194216Z"
    }
   },
   "id": "12828f977ba2c57d",
   "execution_count": 3
  },
  {
   "cell_type": "code",
   "outputs": [
    {
     "name": "stderr",
     "output_type": "stream",
     "text": [
      "103 task found when searching for `{'include_archived': True}`\n",
      "Selected task `train28` (id=4ba65717e5804824b163576255858108)\n"
     ]
    }
   ],
   "source": [
    "Task.get_task().close()"
   ],
   "metadata": {
    "collapsed": false,
    "ExecuteTime": {
     "end_time": "2024-05-22T07:05:19.945708Z",
     "start_time": "2024-05-22T07:05:18.734788Z"
    }
   },
   "id": "2e6dcd2fcc452bdb",
   "execution_count": 4
  },
  {
   "cell_type": "code",
   "outputs": [
    {
     "name": "stderr",
     "output_type": "stream",
     "text": [
      "103 task found when searching for `{'include_archived': True}`\n",
      "Selected task `train28` (id=4ba65717e5804824b163576255858108)\n"
     ]
    }
   ],
   "source": [
    "model.save()\n",
    "Task.get_task"
   ],
   "metadata": {
    "collapsed": false,
    "ExecuteTime": {
     "end_time": "2024-05-22T07:09:08.168170Z",
     "start_time": "2024-05-22T07:09:02.178097Z"
    }
   },
   "id": "5682646e80715535",
   "execution_count": 5
  },
  {
   "cell_type": "code",
   "outputs": [
    {
     "name": "stdout",
     "output_type": "stream",
     "text": [
      "PRO TIP 💡 Replace 'model=yolov5s.pt' with new 'model=yolov5su.pt'.\n",
      "YOLOv5 'u' models are trained with https://github.com/ultralytics/ultralytics and feature improved performance vs standard YOLOv5 models trained with https://github.com/ultralytics/yolov5.\n",
      "Transferred 427/427 items from pretrained weights\n",
      "New https://pypi.org/project/ultralytics/8.2.18 available 😃 Update with 'pip install -U ultralytics'\n",
      "Ultralytics YOLOv8.1.34 🚀 Python-3.11.5 torch-2.2.1 CPU (Apple M1 Pro)\n",
      "\u001B[34m\u001B[1mengine/trainer: \u001B[0mtask=detect, mode=train, model=yolov5s.yaml, data=./datasets/coco128.yaml, epochs=1, time=None, patience=100, batch=16, imgsz=640, save=True, save_period=-1, cache=False, device=None, workers=8, project=None, name=train31, exist_ok=False, pretrained=True, optimizer=auto, verbose=True, seed=0, deterministic=True, single_cls=False, rect=False, cos_lr=False, close_mosaic=10, resume=False, amp=True, fraction=1.0, profile=False, freeze=None, multi_scale=False, overlap_mask=True, mask_ratio=4, dropout=0.0, val=True, split=val, save_json=False, save_hybrid=False, conf=None, iou=0.7, max_det=300, half=False, dnn=False, plots=True, source=None, vid_stride=1, stream_buffer=False, visualize=False, augment=False, agnostic_nms=False, classes=None, retina_masks=False, embed=None, show=False, save_frames=False, save_txt=False, save_conf=False, save_crop=False, show_labels=True, show_conf=True, show_boxes=True, line_width=None, format=torchscript, keras=False, optimize=False, int8=False, dynamic=False, simplify=False, opset=None, workspace=4, nms=False, lr0=0.01, lrf=0.01, momentum=0.937, weight_decay=0.005, warmup_epochs=3.0, warmup_momentum=0.8, warmup_bias_lr=0.1, box=7.5, cls=0.5, dfl=1.5, pose=12.0, kobj=1.0, label_smoothing=0.0, nbs=64, hsv_h=0.015, hsv_s=0.7, hsv_v=0.4, degrees=0.0, translate=0.1, scale=0.5, shear=0.0, perspective=0.0, flipud=0.0, fliplr=0.5, bgr=0.0, mosaic=1.0, mixup=0.0, copy_paste=0.0, auto_augment=randaugment, erasing=0.4, crop_fraction=1.0, cfg=None, tracker=botsort.yaml, save_dir=runs/detect/train31\n",
      "\n",
      "                   from  n    params  module                                       arguments                     \n",
      "  0                  -1  1      3520  ultralytics.nn.modules.conv.Conv             [3, 32, 6, 2, 2]              \n",
      "  1                  -1  1     18560  ultralytics.nn.modules.conv.Conv             [32, 64, 3, 2]                \n",
      "  2                  -1  1     18816  ultralytics.nn.modules.block.C3              [64, 64, 1]                   \n",
      "  3                  -1  1     73984  ultralytics.nn.modules.conv.Conv             [64, 128, 3, 2]               \n",
      "  4                  -1  2    115712  ultralytics.nn.modules.block.C3              [128, 128, 2]                 \n",
      "  5                  -1  1    295424  ultralytics.nn.modules.conv.Conv             [128, 256, 3, 2]              \n",
      "  6                  -1  3    625152  ultralytics.nn.modules.block.C3              [256, 256, 3]                 \n",
      "  7                  -1  1   1180672  ultralytics.nn.modules.conv.Conv             [256, 512, 3, 2]              \n",
      "  8                  -1  1   1182720  ultralytics.nn.modules.block.C3              [512, 512, 1]                 \n",
      "  9                  -1  1    656896  ultralytics.nn.modules.block.SPPF            [512, 512, 5]                 \n",
      " 10                  -1  1    131584  ultralytics.nn.modules.conv.Conv             [512, 256, 1, 1]              \n",
      " 11                  -1  1         0  torch.nn.modules.upsampling.Upsample         [None, 2, 'nearest']          \n",
      " 12             [-1, 6]  1         0  ultralytics.nn.modules.conv.Concat           [1]                           \n",
      " 13                  -1  1    361984  ultralytics.nn.modules.block.C3              [512, 256, 1, False]          \n",
      " 14                  -1  1     33024  ultralytics.nn.modules.conv.Conv             [256, 128, 1, 1]              \n",
      " 15                  -1  1         0  torch.nn.modules.upsampling.Upsample         [None, 2, 'nearest']          \n",
      " 16             [-1, 4]  1         0  ultralytics.nn.modules.conv.Concat           [1]                           \n",
      " 17                  -1  1     90880  ultralytics.nn.modules.block.C3              [256, 128, 1, False]          \n",
      " 18                  -1  1    147712  ultralytics.nn.modules.conv.Conv             [128, 128, 3, 2]              \n",
      " 19            [-1, 14]  1         0  ultralytics.nn.modules.conv.Concat           [1]                           \n",
      " 20                  -1  1    296448  ultralytics.nn.modules.block.C3              [256, 256, 1, False]          \n",
      " 21                  -1  1    590336  ultralytics.nn.modules.conv.Conv             [256, 256, 3, 2]              \n",
      " 22            [-1, 10]  1         0  ultralytics.nn.modules.conv.Concat           [1]                           \n",
      " 23                  -1  1   1182720  ultralytics.nn.modules.block.C3              [512, 512, 1, False]          \n",
      " 24        [17, 20, 23]  1   2147008  ultralytics.nn.modules.head.Detect           [80, [128, 256, 512]]         \n",
      "YOLOv5s summary: 262 layers, 9153152 parameters, 9153136 gradients, 24.2 GFLOPs\n",
      "\n",
      "Transferred 427/427 items from pretrained weights\n",
      "WARNING ⚠️ ClearML installed but not initialized correctly, not logging this run. Task object can only be updated if created or in_progress [status=stopped fields=['hyperparams']]\n",
      "\u001B[34m\u001B[1mTensorBoard: \u001B[0mStart with 'tensorboard --logdir runs/detect/train31', view at http://localhost:6006/\n",
      "Freezing layer 'model.24.dfl.conv.weight'\n"
     ]
    },
    {
     "name": "stderr",
     "output_type": "stream",
     "text": [
      "\u001B[34m\u001B[1mtrain: \u001B[0mScanning /Users/khumachbayramova/Desktop/ITMO/Магистратура/ИсИИ/ultralytics-yolo/datasets/coco128/labels/train2017.cache... 126 images, 2 backgrounds, 0 corrupt: 100%|██████████| 128/128 [00:00<?, ?it/s]\n",
      "\u001B[34m\u001B[1mval: \u001B[0mScanning /Users/khumachbayramova/Desktop/ITMO/Магистратура/ИсИИ/ultralytics-yolo/datasets/coco128/labels/val2017.cache... 41 images, 0 backgrounds, 0 corrupt: 100%|██████████| 41/41 [00:00<?, ?it/s]"
     ]
    },
    {
     "name": "stdout",
     "output_type": "stream",
     "text": [
      "Plotting labels to runs/detect/train31/labels.jpg... \n"
     ]
    },
    {
     "name": "stderr",
     "output_type": "stream",
     "text": [
      "\n"
     ]
    },
    {
     "name": "stdout",
     "output_type": "stream",
     "text": [
      "\u001B[34m\u001B[1moptimizer:\u001B[0m 'optimizer=auto' found, ignoring 'lr0=0.01' and 'momentum=0.937' and determining best 'optimizer', 'lr0' and 'momentum' automatically... \n",
      "\u001B[34m\u001B[1moptimizer:\u001B[0m AdamW(lr=0.000119, momentum=0.9) with parameter groups 69 weight(decay=0.0), 76 weight(decay=0.005), 75 bias(decay=0.0)\n"
     ]
    }
   ],
   "source": [
    "from trainyolo import train\n",
    "train()"
   ],
   "metadata": {
    "collapsed": false,
    "is_executing": true,
    "ExecuteTime": {
     "start_time": "2024-05-22T07:21:46.190052Z"
    }
   },
   "id": "b56f2f8f628a73fb",
   "execution_count": null
  },
  {
   "cell_type": "code",
   "outputs": [],
   "source": [],
   "metadata": {
    "collapsed": false
   },
   "id": "ce7197d058870193"
  }
 ],
 "metadata": {
  "kernelspec": {
   "display_name": "Python 3",
   "language": "python",
   "name": "python3"
  },
  "language_info": {
   "codemirror_mode": {
    "name": "ipython",
    "version": 2
   },
   "file_extension": ".py",
   "mimetype": "text/x-python",
   "name": "python",
   "nbconvert_exporter": "python",
   "pygments_lexer": "ipython2",
   "version": "2.7.6"
  }
 },
 "nbformat": 4,
 "nbformat_minor": 5
}
