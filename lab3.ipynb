{
 "cells": [
  {
   "cell_type": "code",
   "execution_count": 13,
   "id": "initial_id",
   "metadata": {
    "collapsed": true,
    "ExecuteTime": {
     "end_time": "2024-06-02T15:29:04.065266Z",
     "start_time": "2024-06-02T15:29:03.898315Z"
    }
   },
   "outputs": [
    {
     "name": "stdout",
     "output_type": "stream",
     "text": [
      "Transferred 427/427 items from pretrained weights\n"
     ]
    }
   ],
   "source": [
    "import torch\n",
    "from ultralytics import YOLO\n",
    "\n",
    "# Загрузите модель YOLOv5\n",
    "model = YOLO(\"yolov5s.yaml\").load(\"runs/detect/train36/weights/best.pt\")\n",
    "\n",
    "# Пример входных данных\n"
   ]
  },
  {
   "cell_type": "code",
   "outputs": [],
   "source": [
    "dummy_input = torch.randn(1, 3, 640, 640)"
   ],
   "metadata": {
    "collapsed": false,
    "ExecuteTime": {
     "end_time": "2024-06-02T15:25:18.912757Z",
     "start_time": "2024-06-02T15:25:18.892372Z"
    }
   },
   "id": "50648b1f6f9d3847",
   "execution_count": 10
  },
  {
   "cell_type": "code",
   "outputs": [
    {
     "name": "stdout",
     "output_type": "stream",
     "text": [
      "Ultralytics YOLOv8.1.34 🚀 Python-3.11.5 torch-2.2.1 CPU (Apple M1 Pro)\n",
      "YOLOv5s summary (fused): 193 layers, 9142496 parameters, 0 gradients, 24.0 GFLOPs\n",
      "\n",
      "\u001B[34m\u001B[1mPyTorch:\u001B[0m starting from 'runs/detect/models/best_cpu.pt' with input shape (1, 3, 640, 640) BCHW and output shape(s) (1, 84, 8400) (17.7 MB)\n",
      "\n",
      "\u001B[34m\u001B[1mONNX:\u001B[0m starting export with onnx 1.16.1 opset 17...\n",
      "\u001B[34m\u001B[1mONNX:\u001B[0m export success ✅ 0.7s, saved as 'runs/detect/models/best_cpu.onnx' (35.1 MB)\n",
      "\n",
      "Export complete (1.2s)\n",
      "Results saved to \u001B[1m/Users/khumachbayramova/Desktop/ITMO/Магистратура/ИсИИ/ultralytics-yolo/runs/detect/models\u001B[0m\n",
      "Predict:         yolo predict task=detect model=runs/detect/models/best_cpu.onnx imgsz=640  \n",
      "Validate:        yolo val task=detect model=runs/detect/models/best_cpu.onnx imgsz=640 data=./datasets/cats_dataset.yaml  \n",
      "Visualize:       https://netron.app\n"
     ]
    },
    {
     "data": {
      "text/plain": "'runs/detect/models/best_cpu.onnx'"
     },
     "execution_count": 1,
     "metadata": {},
     "output_type": "execute_result"
    }
   ],
   "source": [
    "from ultralytics import YOLO\n",
    "\n",
    "# Load the YOLOv8 model\n",
    "model = YOLO(\"runs/detect/models/best_cpu.pt\")\n",
    "\n",
    "# Export the model to ONNX format\n",
    "model.export(format=\"onnx\")\n",
    "\n",
    "# # Load the exported ONNX model\n",
    "# onnx_model = YOLO(\"runs/detect/train36/weights/best.onnx\")\n",
    "# \n",
    "# # Run inference\n",
    "# results = onnx_model(\"https://ultralytics.com/images/bus.jpg\")"
   ],
   "metadata": {
    "collapsed": false,
    "ExecuteTime": {
     "end_time": "2024-06-05T12:10:40.076210Z",
     "start_time": "2024-06-05T12:10:35.840921Z"
    }
   },
   "id": "daaacfcc134437c8",
   "execution_count": 1
  },
  {
   "cell_type": "code",
   "outputs": [
    {
     "name": "stdout",
     "output_type": "stream",
     "text": [
      "[ultralytics.engine.results.Results object with attributes:\n",
      "\n",
      "boxes: ultralytics.engine.results.Boxes object\n",
      "keypoints: None\n",
      "masks: None\n",
      "names: {0: 'person', 1: 'bicycle', 2: 'car', 3: 'motorcycle', 4: 'airplane', 5: 'bus', 6: 'train', 7: 'truck', 8: 'boat', 9: 'traffic light', 10: 'fire hydrant', 11: 'stop sign', 12: 'parking meter', 13: 'bench', 14: 'bird', 15: 'cat', 16: 'dog', 17: 'horse', 18: 'sheep', 19: 'cow', 20: 'elephant', 21: 'bear', 22: 'zebra', 23: 'giraffe', 24: 'backpack', 25: 'umbrella', 26: 'handbag', 27: 'tie', 28: 'suitcase', 29: 'frisbee', 30: 'skis', 31: 'snowboard', 32: 'sports ball', 33: 'kite', 34: 'baseball bat', 35: 'baseball glove', 36: 'skateboard', 37: 'surfboard', 38: 'tennis racket', 39: 'bottle', 40: 'wine glass', 41: 'cup', 42: 'fork', 43: 'knife', 44: 'spoon', 45: 'bowl', 46: 'banana', 47: 'apple', 48: 'sandwich', 49: 'orange', 50: 'broccoli', 51: 'carrot', 52: 'hot dog', 53: 'pizza', 54: 'donut', 55: 'cake', 56: 'chair', 57: 'couch', 58: 'potted plant', 59: 'bed', 60: 'dining table', 61: 'toilet', 62: 'tv', 63: 'laptop', 64: 'mouse', 65: 'remote', 66: 'keyboard', 67: 'cell phone', 68: 'microwave', 69: 'oven', 70: 'toaster', 71: 'sink', 72: 'refrigerator', 73: 'book', 74: 'clock', 75: 'vase', 76: 'scissors', 77: 'teddy bear', 78: 'hair drier', 79: 'toothbrush'}\n",
      "obb: None\n",
      "orig_img: array([[[122, 148, 172],\n",
      "        [120, 146, 170],\n",
      "        [125, 153, 177],\n",
      "        ...,\n",
      "        [157, 170, 184],\n",
      "        [158, 171, 185],\n",
      "        [158, 171, 185]],\n",
      "\n",
      "       [[127, 153, 177],\n",
      "        [124, 150, 174],\n",
      "        [127, 155, 179],\n",
      "        ...,\n",
      "        [158, 171, 185],\n",
      "        [159, 172, 186],\n",
      "        [159, 172, 186]],\n",
      "\n",
      "       [[128, 154, 178],\n",
      "        [126, 152, 176],\n",
      "        [126, 154, 178],\n",
      "        ...,\n",
      "        [158, 171, 185],\n",
      "        [158, 171, 185],\n",
      "        [158, 171, 185]],\n",
      "\n",
      "       ...,\n",
      "\n",
      "       [[185, 185, 191],\n",
      "        [182, 182, 188],\n",
      "        [179, 179, 185],\n",
      "        ...,\n",
      "        [114, 107, 112],\n",
      "        [115, 105, 111],\n",
      "        [116, 106, 112]],\n",
      "\n",
      "       [[157, 157, 163],\n",
      "        [180, 180, 186],\n",
      "        [185, 186, 190],\n",
      "        ...,\n",
      "        [107,  97, 103],\n",
      "        [102,  92,  98],\n",
      "        [108,  98, 104]],\n",
      "\n",
      "       [[112, 112, 118],\n",
      "        [160, 160, 166],\n",
      "        [169, 170, 174],\n",
      "        ...,\n",
      "        [ 99,  89,  95],\n",
      "        [ 96,  86,  92],\n",
      "        [102,  92,  98]]], dtype=uint8)\n",
      "orig_shape: (1080, 810)\n",
      "path: '/Users/khumachbayramova/Desktop/ITMO/Магистратура/ИсИИ/ultralytics-yolo/bus.jpg'\n",
      "probs: None\n",
      "save_dir: 'runs/detect/predict'\n",
      "speed: {'preprocess': 3.668069839477539, 'inference': 111.07802391052246, 'postprocess': 1.8448829650878906}]\n"
     ]
    }
   ],
   "source": [
    "print(results)"
   ],
   "metadata": {
    "collapsed": false,
    "ExecuteTime": {
     "end_time": "2024-06-03T07:28:14.426322Z",
     "start_time": "2024-06-03T07:28:14.412410Z"
    }
   },
   "id": "f425537393abdfc1",
   "execution_count": 2
  },
  {
   "cell_type": "code",
   "outputs": [
    {
     "name": "stdout",
     "output_type": "stream",
     "text": [
      "Cloning into 'yolov5'...\r\n",
      "remote: Enumerating objects: 16656, done.\u001B[K\r\n",
      "remote: Counting objects: 100% (7/7), done.\u001B[K\r\n",
      "remote: Compressing objects: 100% (7/7), done.\u001B[K\r\n",
      "Receiving objects:  53% (8899/16656), 7.30 MiB | 66.00 KiB/s\r\r  Receiving objects:  15% (2647/16656), 1.29 MiB | 188.00 KiB/sReceiving objects:  16% (2717/16656), 1.33 MiB | 150.00 KiB/sReceiving objects:  16% (2822/16656), 1.39 MiB | 78.00 KiB/s Receiving objects:  17% (2858/16656), 1.39 MiB | 78.00 KiB/sReceiving objects:  18% (3081/16656), 1.47 MiB | 54.00 KiB/sReceiving objects:  20% (3332/16656), 1.53 MiB | 53.00 KiB/sReceiving objects:  21% (3498/16656), 1.58 MiB | 50.00 KiB/sReceiving objects:  21% (3639/16656), 1.72 MiB | 60.00 KiB/sReceiving objects:  21% (3656/16656), 1.80 MiB | 65.00 KiB/sReceiving objects:  21% (3656/16656), 2.00 MiB | 58.00 KiB/sReceiving objects:  21% (3656/16656), 2.16 MiB | 69.00 KiB/sReceiving objects:  21% (3657/16656), 2.32 MiB | 71.00 KiB/sReceiving objects:  22% (3671/16656), 2.36 MiB | 65.00 KiB/sReceiving objects:  22% (3733/16656), 2.43 MiB | 56.00 KiB/sReceiving objects:  23% (3831/16656), 2.61 MiB | 71.00 KiB/sReceiving objects:  23% (3994/16656), 2.76 MiB | 80.00 KiB/sReceiving objects:  24% (4051/16656), 2.79 MiB | 77.00 KiB/sReceiving objects:  25% (4168/16656), 2.87 MiB | 86.00 KiB/sReceiving objects:  25% (4246/16656), 2.94 MiB | 70.00 KiB/sReceiving objects:  25% (4275/16656), 3.01 MiB | 43.00 KiB/sReceiving objects:  26% (4331/16656), 3.10 MiB | 42.00 KiB/sReceiving objects:  26% (4481/16656), 3.15 MiB | 47.00 KiB/sReceiving objects:  27% (4614/16656), 3.24 MiB | 54.00 KiB/sReceiving objects:  28% (4753/16656), 3.34 MiB | 67.00 KiB/sReceiving objects:  29% (4886/16656), 3.43 MiB | 70.00 KiB/sReceiving objects:  30% (4997/16656), 3.47 MiB | 66.00 KiB/sReceiving objects:  30% (5094/16656), 3.57 MiB | 67.00 KiB/sReceiving objects:  31% (5193/16656), 3.61 MiB | 47.00 KiB/sReceiving objects:  31% (5269/16656), 3.74 MiB | 49.00 KiB/sReceiving objects:  32% (5330/16656), 3.80 MiB | 47.00 KiB/sReceiving objects:  33% (5497/16656), 3.93 MiB | 65.00 KiB/sReceiving objects:  33% (5544/16656), 4.25 MiB | 112.00 KiB/sReceiving objects:  33% (5625/16656), 4.43 MiB | 131.00 KiB/sReceiving objects:  34% (5791/16656), 4.56 MiB | 130.00 KiB/sReceiving objects:  35% (5861/16656), 4.64 MiB | 130.00 KiB/sReceiving objects:  36% (6111/16656), 4.83 MiB | 136.00 KiB/sReceiving objects:  38% (6330/16656), 4.96 MiB | 145.00 KiB/sReceiving objects:  39% (6590/16656), 5.08 MiB | 156.00 KiB/sReceiving objects:  40% (6736/16656), 5.21 MiB | 162.00 KiB/sReceiving objects:  41% (6829/16656), 5.50 MiB | 182.00 KiB/sReceiving objects:  42% (6996/16656), 5.62 MiB | 188.00 KiB/sReceiving objects:  43% (7189/16656), 5.74 MiB | 196.00 KiB/sReceiving objects:  44% (7372/16656), 5.96 MiB | 192.00 KiB/sReceiving objects:  44% (7479/16656), 6.12 MiB | 152.00 KiB/sReceiving objects:  45% (7511/16656), 6.14 MiB | 122.00 KiB/sReceiving objects:  46% (7662/16656), 6.25 MiB | 94.00 KiB/sReceiving objects:  48% (7995/16656), 6.44 MiB | 79.00 KiB/sReceiving objects:  48% (8022/16656), 6.50 MiB | 73.00 KiB/sReceiving objects:  48% (8064/16656), 6.54 MiB | 61.00 KiB/sReceiving objects:  48% (8109/16656), 6.57 MiB | 37.00 KiB/sReceiving objects:  49% (8162/16656), 6.61 MiB | 25.00 KiB/sReceiving objects:  49% (8240/16656), 6.64 MiB | 22.00 KiB/sReceiving objects:  49% (8292/16656), 6.79 MiB | 40.00 KiB/sReceiving objects:  50% (8328/16656), 6.82 MiB | 46.00 KiB/sReceiving objects:  50% (8369/16656), 6.88 MiB | 44.00 KiB/sReceiving objects:  50% (8444/16656), 6.96 MiB | 33.00 KiB/sReceiving objects:  51% (8495/16656), 7.00 MiB | 35.00 KiB/sReceiving objects:  52% (8662/16656), 7.11 MiB | 40.00 KiB/sReceiving objects:  52% (8815/16656), 7.21 MiB | 54.00 KiB/sReceiving objects:  53% (8880/16656), 7.28 MiB | 61.00 KiB/s^C\r\n",
      "fetch-pack: unexpected disconnect while reading sideband packet\r\n",
      "/bin/bash: line 0: cd: yolov5: No such file or directory\r\n",
      "\u001B[31mERROR: Could not open requirements file: [Errno 2] No such file or directory: 'requirements.txt'\u001B[0m\u001B[31m\r\n",
      "\u001B[0m"
     ]
    }
   ],
   "source": [
    "!git clone https://github.com/ultralytics/yolov5  # clone\n",
    "!cd yolov5\n",
    "!pip install -r requirements.txt  # install"
   ],
   "metadata": {
    "collapsed": false,
    "ExecuteTime": {
     "end_time": "2024-06-02T18:37:36.347916Z",
     "start_time": "2024-06-02T18:36:01.874138Z"
    }
   },
   "id": "b44ba98eee72a87b",
   "execution_count": 16
  },
  {
   "cell_type": "code",
   "outputs": [
    {
     "name": "stdout",
     "output_type": "stream",
     "text": [
      "[array([[[     5.6706,      20.548,      25.606, ...,      540.86,         570,      585.79],\n",
      "        [     7.6424,      15.819,      16.841, ...,      579.51,      581.15,      574.99],\n",
      "        [      11.62,       41.53,      52.416, ...,      219.01,      159.87,      124.96],\n",
      "        ...,\n",
      "        [ 2.3842e-07,  1.1921e-07,  1.7881e-07, ...,  5.6624e-07,  9.2387e-07,  9.2387e-07],\n",
      "        [ 8.9407e-08,  5.9605e-08,  1.4901e-07, ...,  1.4007e-06,   1.967e-06,  1.7881e-06],\n",
      "        [ 1.4901e-07,           0,  2.9802e-08, ...,  1.0431e-06,  1.5795e-06,  1.5199e-06]]], dtype=float32)]\n"
     ]
    }
   ],
   "source": [
    "import onnxruntime as ort\n",
    "import numpy as np\n",
    "import cv2\n",
    "\n",
    "# Загружаем ONNX модель\n",
    "onnx_model_path = \"runs/detect/baseline/best.onnx\"\n",
    "session = ort.InferenceSession(onnx_model_path, providers=['CPUExecutionProvider'])\n",
    "\n",
    "# Подготавливаем входные данные\n",
    "image = cv2.imread('datasets/coco128/images/val2017/000000119995.jpg')\n",
    "input_image = cv2.resize(image, (640, 640))\n",
    "input_image = input_image.astype(np.float32) / 255.0  # Нормализация\n",
    "input_image = np.transpose(input_image, (2, 0, 1))  # Перестановка осей\n",
    "input_image = np.expand_dims(input_image, axis=0)  # Добавление размерности батча\n",
    "\n",
    "# Выполняем инференс\n",
    "input_name = session.get_inputs()[0].name\n",
    "output_name = session.get_outputs()[0].name\n",
    "results = session.run([output_name], {input_name: input_image})\n",
    "\n",
    "# Обработка результатов\n",
    "# Пример обработки результатов будет зависеть от конкретной модели и задачи\n",
    "# Здесь предполагается, что выход модели - это массив предсказанных объектов\n",
    "\n",
    "print(results)"
   ],
   "metadata": {
    "collapsed": false,
    "ExecuteTime": {
     "end_time": "2024-06-03T14:09:24.685999Z",
     "start_time": "2024-06-03T14:09:24.504300Z"
    }
   },
   "id": "dadb466ad4d60224",
   "execution_count": 13
  },
  {
   "cell_type": "code",
   "outputs": [
    {
     "name": "stdout",
     "output_type": "stream",
     "text": [
      "Requirement already satisfied: opencv-python in /Users/khumachbayramova/.local/lib/python3.11/site-packages (4.9.0.80)\r\n",
      "Requirement already satisfied: numpy>=1.21.2 in /Users/khumachbayramova/anaconda3/lib/python3.11/site-packages (from opencv-python) (1.26.4)\r\n"
     ]
    }
   ],
   "source": [
    "!pip install --user  opencv-python --upgrade"
   ],
   "metadata": {
    "collapsed": false,
    "ExecuteTime": {
     "end_time": "2024-06-02T19:17:52.604205Z",
     "start_time": "2024-06-02T19:17:50.149062Z"
    }
   },
   "id": "b876df398bc94591",
   "execution_count": 5
  },
  {
   "cell_type": "code",
   "outputs": [
    {
     "name": "stdout",
     "output_type": "stream",
     "text": [
      "/Users/khumachbayramova/anaconda3/lib/python3.11/site-packages/onnxruntime/capi/onnxruntime_inference_collection.py:69: UserWarning: Specified provider 'CUDAExecutionProvider' is not in available provider names.Available providers: 'CoreMLExecutionProvider, AzureExecutionProvider, CPUExecutionProvider'\r\n",
      "  warnings.warn(\r\n",
      "0 [337, 31, 114, 203]\r\n",
      "0 [44, 28, 215, 447]\r\n",
      "38 [254, 211, 175, 56]\r\n",
      "0 [432, 0, 34, 23]\r\n"
     ]
    }
   ],
   "source": [
    "!python yolo_onnx.py --model 'runs/detect/baseline/best.onnx' --img 'datasets/coco128/images/val2017/000000119995.jpg' --conf-thres 0.5 --iou-thres 0.5"
   ],
   "metadata": {
    "collapsed": false,
    "ExecuteTime": {
     "end_time": "2024-06-03T07:51:43.334174Z",
     "start_time": "2024-06-03T07:45:05.761976Z"
    }
   },
   "id": "285b11768041755",
   "execution_count": 9
  },
  {
   "cell_type": "code",
   "outputs": [
    {
     "name": "stdout",
     "output_type": "stream",
     "text": [
      "Setup complete ✅ (8 CPUs, 16.0 GB RAM, 439.3/460.4 GB disk)\n",
      "\n",
      "Benchmarks complete for best.pt on datasets/coco128.yaml at imgsz=640 (109.77s)\n",
      "                   Format Status❔  Size (MB)  metrics/mAP50-95(B)  Inference time (ms/im)\n",
      "0                 PyTorch       ✅       17.7               0.5133                   69.94\n",
      "1             TorchScript       ✅       35.4               0.5098                   81.21\n",
      "2                    ONNX       ✅       35.1               0.5098                  114.44\n",
      "3                OpenVINO       ✅       35.2               0.5109                   61.32\n",
      "4                TensorRT       ❌        0.0                  NaN                     NaN\n",
      "5                  CoreML       ✅       17.6               0.5137                   17.68\n",
      "6   TensorFlow SavedModel       ✅       87.8               0.5098                  112.65\n",
      "7     TensorFlow GraphDef       ✅       35.1               0.5098                  113.59\n",
      "8         TensorFlow Lite       ✅       35.1               0.5098                  374.60\n",
      "9     TensorFlow Edge TPU       ❌        0.0                  NaN                     NaN\n",
      "10          TensorFlow.js       ❌        0.0                  NaN                     NaN\n",
      "11           PaddlePaddle       ✅       70.1               0.5098                  392.06\n",
      "12                   NCNN       ✅       35.1               0.5108                   53.72\n"
     ]
    },
    {
     "data": {
      "text/plain": "                   Format Status❔  Size (MB)  metrics/mAP50-95(B)  Inference time (ms/im)\n0                 PyTorch       ✅       17.7               0.5133                   69.94\n1             TorchScript       ✅       35.4               0.5098                   81.21\n2                    ONNX       ✅       35.1               0.5098                  114.44\n3                OpenVINO       ✅       35.2               0.5109                   61.32\n4                TensorRT       ❌        0.0                  NaN                     NaN\n5                  CoreML       ✅       17.6               0.5137                   17.68\n6   TensorFlow SavedModel       ✅       87.8               0.5098                  112.65\n7     TensorFlow GraphDef       ✅       35.1               0.5098                  113.59\n8         TensorFlow Lite       ✅       35.1               0.5098                  374.60\n9     TensorFlow Edge TPU       ❌        0.0                  NaN                     NaN\n10          TensorFlow.js       ❌        0.0                  NaN                     NaN\n11           PaddlePaddle       ✅       70.1               0.5098                  392.06\n12                   NCNN       ✅       35.1               0.5108                   53.72",
      "text/html": "<div>\n<style scoped>\n    .dataframe tbody tr th:only-of-type {\n        vertical-align: middle;\n    }\n\n    .dataframe tbody tr th {\n        vertical-align: top;\n    }\n\n    .dataframe thead th {\n        text-align: right;\n    }\n</style>\n<table border=\"1\" class=\"dataframe\">\n  <thead>\n    <tr style=\"text-align: right;\">\n      <th></th>\n      <th>Format</th>\n      <th>Status❔</th>\n      <th>Size (MB)</th>\n      <th>metrics/mAP50-95(B)</th>\n      <th>Inference time (ms/im)</th>\n    </tr>\n  </thead>\n  <tbody>\n    <tr>\n      <th>0</th>\n      <td>PyTorch</td>\n      <td>✅</td>\n      <td>17.7</td>\n      <td>0.5133</td>\n      <td>69.94</td>\n    </tr>\n    <tr>\n      <th>1</th>\n      <td>TorchScript</td>\n      <td>✅</td>\n      <td>35.4</td>\n      <td>0.5098</td>\n      <td>81.21</td>\n    </tr>\n    <tr>\n      <th>2</th>\n      <td>ONNX</td>\n      <td>✅</td>\n      <td>35.1</td>\n      <td>0.5098</td>\n      <td>114.44</td>\n    </tr>\n    <tr>\n      <th>3</th>\n      <td>OpenVINO</td>\n      <td>✅</td>\n      <td>35.2</td>\n      <td>0.5109</td>\n      <td>61.32</td>\n    </tr>\n    <tr>\n      <th>4</th>\n      <td>TensorRT</td>\n      <td>❌</td>\n      <td>0.0</td>\n      <td>NaN</td>\n      <td>NaN</td>\n    </tr>\n    <tr>\n      <th>5</th>\n      <td>CoreML</td>\n      <td>✅</td>\n      <td>17.6</td>\n      <td>0.5137</td>\n      <td>17.68</td>\n    </tr>\n    <tr>\n      <th>6</th>\n      <td>TensorFlow SavedModel</td>\n      <td>✅</td>\n      <td>87.8</td>\n      <td>0.5098</td>\n      <td>112.65</td>\n    </tr>\n    <tr>\n      <th>7</th>\n      <td>TensorFlow GraphDef</td>\n      <td>✅</td>\n      <td>35.1</td>\n      <td>0.5098</td>\n      <td>113.59</td>\n    </tr>\n    <tr>\n      <th>8</th>\n      <td>TensorFlow Lite</td>\n      <td>✅</td>\n      <td>35.1</td>\n      <td>0.5098</td>\n      <td>374.60</td>\n    </tr>\n    <tr>\n      <th>9</th>\n      <td>TensorFlow Edge TPU</td>\n      <td>❌</td>\n      <td>0.0</td>\n      <td>NaN</td>\n      <td>NaN</td>\n    </tr>\n    <tr>\n      <th>10</th>\n      <td>TensorFlow.js</td>\n      <td>❌</td>\n      <td>0.0</td>\n      <td>NaN</td>\n      <td>NaN</td>\n    </tr>\n    <tr>\n      <th>11</th>\n      <td>PaddlePaddle</td>\n      <td>✅</td>\n      <td>70.1</td>\n      <td>0.5098</td>\n      <td>392.06</td>\n    </tr>\n    <tr>\n      <th>12</th>\n      <td>NCNN</td>\n      <td>✅</td>\n      <td>35.1</td>\n      <td>0.5108</td>\n      <td>53.72</td>\n    </tr>\n  </tbody>\n</table>\n</div>"
     },
     "execution_count": 9,
     "metadata": {},
     "output_type": "execute_result"
    }
   ],
   "source": [
    "from ultralytics.utils.benchmarks import benchmark\n",
    "\n",
    "# Benchmark on GPU\n",
    "benchmark(model=\"runs/detect/train36/weights/best.pt\", data=\"datasets/coco128.yaml\", imgsz=640, device='cpu')"
   ],
   "metadata": {
    "collapsed": false
   },
   "id": "82d9d0a953a97f1b",
   "execution_count": 9
  },
  {
   "cell_type": "code",
   "outputs": [
    {
     "name": "stdout",
     "output_type": "stream",
     "text": [
      "python: can't open file '/Users/khumachbayramova/Desktop/ITMO/Магистратура/ИсИИ/ultralytics-yolo/val.py': [Errno 2] No such file or directory\r\n"
     ]
    }
   ],
   "source": [
    "!python val.py --weights runs/detect/train36/weights/best.onnx"
   ],
   "metadata": {
    "collapsed": false,
    "ExecuteTime": {
     "end_time": "2024-06-02T18:20:49.514210Z",
     "start_time": "2024-06-02T18:20:49.358793Z"
    }
   },
   "id": "59b0d52acef38c32",
   "execution_count": 6
  },
  {
   "cell_type": "code",
   "outputs": [
    {
     "name": "stderr",
     "output_type": "stream",
     "text": [
      "Using cache found in /Users/khumachbayramova/.cache/torch/hub/ultralytics_yolov5_master\n",
      "YOLOv5 🚀 2024-6-2 Python-3.11.5 torch-2.2.1 CPU\n",
      "\n",
      "Loading runs/detect/train36/weights/best.onnx for ONNX Runtime inference...\n",
      "Adding AutoShape... \n"
     ]
    },
    {
     "ename": "ValueError",
     "evalue": "axes don't match array",
     "output_type": "error",
     "traceback": [
      "\u001B[0;31m---------------------------------------------------------------------------\u001B[0m",
      "\u001B[0;31mValueError\u001B[0m                                Traceback (most recent call last)",
      "Cell \u001B[0;32mIn[12], line 15\u001B[0m\n\u001B[1;32m     12\u001B[0m input_image \u001B[38;5;241m=\u001B[39m input_image\u001B[38;5;241m.\u001B[39mastype(np\u001B[38;5;241m.\u001B[39mfloat32)\n\u001B[1;32m     13\u001B[0m input_image \u001B[38;5;241m=\u001B[39m np\u001B[38;5;241m.\u001B[39mtranspose(input_image, (\u001B[38;5;241m0\u001B[39m, \u001B[38;5;241m3\u001B[39m, \u001B[38;5;241m1\u001B[39m, \u001B[38;5;241m2\u001B[39m))\n\u001B[0;32m---> 15\u001B[0m results \u001B[38;5;241m=\u001B[39m model(input_image)\n",
      "File \u001B[0;32m~/anaconda3/lib/python3.11/site-packages/torch/nn/modules/module.py:1511\u001B[0m, in \u001B[0;36mModule._wrapped_call_impl\u001B[0;34m(self, *args, **kwargs)\u001B[0m\n\u001B[1;32m   1509\u001B[0m     \u001B[38;5;28;01mreturn\u001B[39;00m \u001B[38;5;28mself\u001B[39m\u001B[38;5;241m.\u001B[39m_compiled_call_impl(\u001B[38;5;241m*\u001B[39margs, \u001B[38;5;241m*\u001B[39m\u001B[38;5;241m*\u001B[39mkwargs)  \u001B[38;5;66;03m# type: ignore[misc]\u001B[39;00m\n\u001B[1;32m   1510\u001B[0m \u001B[38;5;28;01melse\u001B[39;00m:\n\u001B[0;32m-> 1511\u001B[0m     \u001B[38;5;28;01mreturn\u001B[39;00m \u001B[38;5;28mself\u001B[39m\u001B[38;5;241m.\u001B[39m_call_impl(\u001B[38;5;241m*\u001B[39margs, \u001B[38;5;241m*\u001B[39m\u001B[38;5;241m*\u001B[39mkwargs)\n",
      "File \u001B[0;32m~/anaconda3/lib/python3.11/site-packages/torch/nn/modules/module.py:1520\u001B[0m, in \u001B[0;36mModule._call_impl\u001B[0;34m(self, *args, **kwargs)\u001B[0m\n\u001B[1;32m   1515\u001B[0m \u001B[38;5;66;03m# If we don't have any hooks, we want to skip the rest of the logic in\u001B[39;00m\n\u001B[1;32m   1516\u001B[0m \u001B[38;5;66;03m# this function, and just call forward.\u001B[39;00m\n\u001B[1;32m   1517\u001B[0m \u001B[38;5;28;01mif\u001B[39;00m \u001B[38;5;129;01mnot\u001B[39;00m (\u001B[38;5;28mself\u001B[39m\u001B[38;5;241m.\u001B[39m_backward_hooks \u001B[38;5;129;01mor\u001B[39;00m \u001B[38;5;28mself\u001B[39m\u001B[38;5;241m.\u001B[39m_backward_pre_hooks \u001B[38;5;129;01mor\u001B[39;00m \u001B[38;5;28mself\u001B[39m\u001B[38;5;241m.\u001B[39m_forward_hooks \u001B[38;5;129;01mor\u001B[39;00m \u001B[38;5;28mself\u001B[39m\u001B[38;5;241m.\u001B[39m_forward_pre_hooks\n\u001B[1;32m   1518\u001B[0m         \u001B[38;5;129;01mor\u001B[39;00m _global_backward_pre_hooks \u001B[38;5;129;01mor\u001B[39;00m _global_backward_hooks\n\u001B[1;32m   1519\u001B[0m         \u001B[38;5;129;01mor\u001B[39;00m _global_forward_hooks \u001B[38;5;129;01mor\u001B[39;00m _global_forward_pre_hooks):\n\u001B[0;32m-> 1520\u001B[0m     \u001B[38;5;28;01mreturn\u001B[39;00m forward_call(\u001B[38;5;241m*\u001B[39margs, \u001B[38;5;241m*\u001B[39m\u001B[38;5;241m*\u001B[39mkwargs)\n\u001B[1;32m   1522\u001B[0m \u001B[38;5;28;01mtry\u001B[39;00m:\n\u001B[1;32m   1523\u001B[0m     result \u001B[38;5;241m=\u001B[39m \u001B[38;5;28;01mNone\u001B[39;00m\n",
      "File \u001B[0;32m~/anaconda3/lib/python3.11/site-packages/torch/utils/_contextlib.py:115\u001B[0m, in \u001B[0;36mcontext_decorator.<locals>.decorate_context\u001B[0;34m(*args, **kwargs)\u001B[0m\n\u001B[1;32m    112\u001B[0m \u001B[38;5;129m@functools\u001B[39m\u001B[38;5;241m.\u001B[39mwraps(func)\n\u001B[1;32m    113\u001B[0m \u001B[38;5;28;01mdef\u001B[39;00m \u001B[38;5;21mdecorate_context\u001B[39m(\u001B[38;5;241m*\u001B[39margs, \u001B[38;5;241m*\u001B[39m\u001B[38;5;241m*\u001B[39mkwargs):\n\u001B[1;32m    114\u001B[0m     \u001B[38;5;28;01mwith\u001B[39;00m ctx_factory():\n\u001B[0;32m--> 115\u001B[0m         \u001B[38;5;28;01mreturn\u001B[39;00m func(\u001B[38;5;241m*\u001B[39margs, \u001B[38;5;241m*\u001B[39m\u001B[38;5;241m*\u001B[39mkwargs)\n",
      "File \u001B[0;32m~/.cache/torch/hub/ultralytics_yolov5_master/models/common.py:857\u001B[0m, in \u001B[0;36mAutoShape.forward\u001B[0;34m(self, ims, size, augment, profile)\u001B[0m\n\u001B[1;32m    855\u001B[0m files\u001B[38;5;241m.\u001B[39mappend(Path(f)\u001B[38;5;241m.\u001B[39mwith_suffix(\u001B[38;5;124m\"\u001B[39m\u001B[38;5;124m.jpg\u001B[39m\u001B[38;5;124m\"\u001B[39m)\u001B[38;5;241m.\u001B[39mname)\n\u001B[1;32m    856\u001B[0m \u001B[38;5;28;01mif\u001B[39;00m im\u001B[38;5;241m.\u001B[39mshape[\u001B[38;5;241m0\u001B[39m] \u001B[38;5;241m<\u001B[39m \u001B[38;5;241m5\u001B[39m:  \u001B[38;5;66;03m# image in CHW\u001B[39;00m\n\u001B[0;32m--> 857\u001B[0m     im \u001B[38;5;241m=\u001B[39m im\u001B[38;5;241m.\u001B[39mtranspose((\u001B[38;5;241m1\u001B[39m, \u001B[38;5;241m2\u001B[39m, \u001B[38;5;241m0\u001B[39m))  \u001B[38;5;66;03m# reverse dataloader .transpose(2, 0, 1)\u001B[39;00m\n\u001B[1;32m    858\u001B[0m im \u001B[38;5;241m=\u001B[39m im[\u001B[38;5;241m.\u001B[39m\u001B[38;5;241m.\u001B[39m\u001B[38;5;241m.\u001B[39m, :\u001B[38;5;241m3\u001B[39m] \u001B[38;5;28;01mif\u001B[39;00m im\u001B[38;5;241m.\u001B[39mndim \u001B[38;5;241m==\u001B[39m \u001B[38;5;241m3\u001B[39m \u001B[38;5;28;01melse\u001B[39;00m cv2\u001B[38;5;241m.\u001B[39mcvtColor(im, cv2\u001B[38;5;241m.\u001B[39mCOLOR_GRAY2BGR)  \u001B[38;5;66;03m# enforce 3ch input\u001B[39;00m\n\u001B[1;32m    859\u001B[0m s \u001B[38;5;241m=\u001B[39m im\u001B[38;5;241m.\u001B[39mshape[:\u001B[38;5;241m2\u001B[39m]  \u001B[38;5;66;03m# HWC\u001B[39;00m\n",
      "\u001B[0;31mValueError\u001B[0m: axes don't match array"
     ]
    }
   ],
   "source": [
    "import torch\n",
    "import cv2\n",
    "import numpy as np\n",
    "\n",
    "model = torch.hub.load(\"ultralytics/yolov5\", \"custom\", \"runs/detect/train36/weights/best.onnx\")  # ONNX Runtime\n",
    "# Inference\n",
    "image = cv2.imread('datasets/coco128/images/val2017/000000119995.jpg')\n",
    "image = cv2.cvtColor(image, cv2.COLOR_BGR2RGB)\n",
    "input_image = cv2.resize(image, (640, 640))\n",
    "input_image = np.expand_dims(input_image, axis=0)\n",
    "input_image = input_image / 255.0  # Normalize image\n",
    "input_image = input_image.astype(np.float32)\n",
    "input_image = np.transpose(input_image, (0, 3, 1, 2))\n",
    "\n",
    "results = model(input_image)"
   ],
   "metadata": {
    "collapsed": false,
    "ExecuteTime": {
     "end_time": "2024-06-03T14:07:53.813655Z",
     "start_time": "2024-06-03T14:07:53.543718Z"
    }
   },
   "id": "f4fd960bd93bd65",
   "execution_count": 12
  },
  {
   "cell_type": "code",
   "outputs": [
    {
     "name": "stdout",
     "output_type": "stream",
     "text": [
      "image 1/1 /Users/khumachbayramova/anaconda3/lib/python3.11/site-packages/ultralytics/assets/bus.jpg: 640x480 4 persons, 1 bus, 91.9ms\n",
      "Speed: 2.5ms preprocess, 91.9ms inference, 0.4ms postprocess per image at shape (1, 3, 640, 480)\n"
     ]
    },
    {
     "name": "stderr",
     "output_type": "stream",
     "text": [
      "\u001B[34m\u001B[1mval: \u001B[0mScanning /Users/khumachbayramova/Desktop/ITMO/Магистратура/ИсИИ/ultralytics-yolo/datasets/coco128/labels/val2017.cache... 0 images, 0 backgrounds, 41 corrupt: 100%|██████████| 41/41 [00:00<?, ?it/s]"
     ]
    },
    {
     "name": "stdout",
     "output_type": "stream",
     "text": [
      "\u001B[34m\u001B[1mval: \u001B[0mWARNING ⚠️ /Users/khumachbayramova/Desktop/ITMO/Магистратура/ИсИИ/ultralytics-yolo/datasets/coco128/images/val2017/000000119995.jpg: ignoring corrupt image/label: cannot identify image file '/Users/khumachbayramova/Desktop/ITMO/Магистратура/ИсИИ/ultralytics-yolo/datasets/coco128/images/val2017/000000119995.jpg'\n",
      "\u001B[34m\u001B[1mval: \u001B[0mWARNING ⚠️ /Users/khumachbayramova/Desktop/ITMO/Магистратура/ИсИИ/ultralytics-yolo/datasets/coco128/images/val2017/000000120420.jpg: ignoring corrupt image/label: cannot identify image file '/Users/khumachbayramova/Desktop/ITMO/Магистратура/ИсИИ/ultralytics-yolo/datasets/coco128/images/val2017/000000120420.jpg'\n",
      "\u001B[34m\u001B[1mval: \u001B[0mWARNING ⚠️ /Users/khumachbayramova/Desktop/ITMO/Магистратура/ИсИИ/ultralytics-yolo/datasets/coco128/images/val2017/000000120572.jpg: ignoring corrupt image/label: cannot identify image file '/Users/khumachbayramova/Desktop/ITMO/Магистратура/ИсИИ/ultralytics-yolo/datasets/coco128/images/val2017/000000120572.jpg'\n",
      "\u001B[34m\u001B[1mval: \u001B[0mWARNING ⚠️ /Users/khumachbayramova/Desktop/ITMO/Магистратура/ИсИИ/ultralytics-yolo/datasets/coco128/images/val2017/000000120584.jpg: ignoring corrupt image/label: cannot identify image file '/Users/khumachbayramova/Desktop/ITMO/Магистратура/ИсИИ/ultralytics-yolo/datasets/coco128/images/val2017/000000120584.jpg'\n",
      "\u001B[34m\u001B[1mval: \u001B[0mWARNING ⚠️ /Users/khumachbayramova/Desktop/ITMO/Магистратура/ИсИИ/ultralytics-yolo/datasets/coco128/images/val2017/000000120777.jpg: ignoring corrupt image/label: cannot identify image file '/Users/khumachbayramova/Desktop/ITMO/Магистратура/ИсИИ/ultralytics-yolo/datasets/coco128/images/val2017/000000120777.jpg'\n",
      "\u001B[34m\u001B[1mval: \u001B[0mWARNING ⚠️ /Users/khumachbayramova/Desktop/ITMO/Магистратура/ИсИИ/ultralytics-yolo/datasets/coco128/images/val2017/000000120853.jpg: ignoring corrupt image/label: cannot identify image file '/Users/khumachbayramova/Desktop/ITMO/Магистратура/ИсИИ/ultralytics-yolo/datasets/coco128/images/val2017/000000120853.jpg'\n",
      "\u001B[34m\u001B[1mval: \u001B[0mWARNING ⚠️ /Users/khumachbayramova/Desktop/ITMO/Магистратура/ИсИИ/ultralytics-yolo/datasets/coco128/images/val2017/000000121031.jpg: ignoring corrupt image/label: cannot identify image file '/Users/khumachbayramova/Desktop/ITMO/Магистратура/ИсИИ/ultralytics-yolo/datasets/coco128/images/val2017/000000121031.jpg'\n",
      "\u001B[34m\u001B[1mval: \u001B[0mWARNING ⚠️ /Users/khumachbayramova/Desktop/ITMO/Магистратура/ИсИИ/ultralytics-yolo/datasets/coco128/images/val2017/000000121242.jpg: ignoring corrupt image/label: cannot identify image file '/Users/khumachbayramova/Desktop/ITMO/Магистратура/ИсИИ/ultralytics-yolo/datasets/coco128/images/val2017/000000121242.jpg'\n",
      "\u001B[34m\u001B[1mval: \u001B[0mWARNING ⚠️ /Users/khumachbayramova/Desktop/ITMO/Магистратура/ИсИИ/ultralytics-yolo/datasets/coco128/images/val2017/000000121417.jpg: ignoring corrupt image/label: cannot identify image file '/Users/khumachbayramova/Desktop/ITMO/Магистратура/ИсИИ/ultralytics-yolo/datasets/coco128/images/val2017/000000121417.jpg'\n",
      "\u001B[34m\u001B[1mval: \u001B[0mWARNING ⚠️ /Users/khumachbayramova/Desktop/ITMO/Магистратура/ИсИИ/ultralytics-yolo/datasets/coco128/images/val2017/000000121497.jpg: ignoring corrupt image/label: cannot identify image file '/Users/khumachbayramova/Desktop/ITMO/Магистратура/ИсИИ/ultralytics-yolo/datasets/coco128/images/val2017/000000121497.jpg'\n",
      "\u001B[34m\u001B[1mval: \u001B[0mWARNING ⚠️ /Users/khumachbayramova/Desktop/ITMO/Магистратура/ИсИИ/ultralytics-yolo/datasets/coco128/images/val2017/000000121506.jpg: ignoring corrupt image/label: cannot identify image file '/Users/khumachbayramova/Desktop/ITMO/Магистратура/ИсИИ/ultralytics-yolo/datasets/coco128/images/val2017/000000121506.jpg'\n",
      "\u001B[34m\u001B[1mval: \u001B[0mWARNING ⚠️ /Users/khumachbayramova/Desktop/ITMO/Магистратура/ИсИИ/ultralytics-yolo/datasets/coco128/images/val2017/000000121586.jpg: ignoring corrupt image/label: cannot identify image file '/Users/khumachbayramova/Desktop/ITMO/Магистратура/ИсИИ/ultralytics-yolo/datasets/coco128/images/val2017/000000121586.jpg'\n",
      "\u001B[34m\u001B[1mval: \u001B[0mWARNING ⚠️ /Users/khumachbayramova/Desktop/ITMO/Магистратура/ИсИИ/ultralytics-yolo/datasets/coco128/images/val2017/000000121591.jpg: ignoring corrupt image/label: cannot identify image file '/Users/khumachbayramova/Desktop/ITMO/Магистратура/ИсИИ/ultralytics-yolo/datasets/coco128/images/val2017/000000121591.jpg'\n",
      "\u001B[34m\u001B[1mval: \u001B[0mWARNING ⚠️ /Users/khumachbayramova/Desktop/ITMO/Магистратура/ИсИИ/ultralytics-yolo/datasets/coco128/images/val2017/000000121673.jpg: ignoring corrupt image/label: cannot identify image file '/Users/khumachbayramova/Desktop/ITMO/Магистратура/ИсИИ/ultralytics-yolo/datasets/coco128/images/val2017/000000121673.jpg'\n",
      "\u001B[34m\u001B[1mval: \u001B[0mWARNING ⚠️ /Users/khumachbayramova/Desktop/ITMO/Магистратура/ИсИИ/ultralytics-yolo/datasets/coco128/images/val2017/000000121744.jpg: ignoring corrupt image/label: cannot identify image file '/Users/khumachbayramova/Desktop/ITMO/Магистратура/ИсИИ/ultralytics-yolo/datasets/coco128/images/val2017/000000121744.jpg'\n",
      "\u001B[34m\u001B[1mval: \u001B[0mWARNING ⚠️ /Users/khumachbayramova/Desktop/ITMO/Магистратура/ИсИИ/ultralytics-yolo/datasets/coco128/images/val2017/000000122046.jpg: ignoring corrupt image/label: cannot identify image file '/Users/khumachbayramova/Desktop/ITMO/Магистратура/ИсИИ/ultralytics-yolo/datasets/coco128/images/val2017/000000122046.jpg'\n",
      "\u001B[34m\u001B[1mval: \u001B[0mWARNING ⚠️ /Users/khumachbayramova/Desktop/ITMO/Магистратура/ИсИИ/ultralytics-yolo/datasets/coco128/images/val2017/000000122166.jpg: ignoring corrupt image/label: cannot identify image file '/Users/khumachbayramova/Desktop/ITMO/Магистратура/ИсИИ/ultralytics-yolo/datasets/coco128/images/val2017/000000122166.jpg'\n",
      "\u001B[34m\u001B[1mval: \u001B[0mWARNING ⚠️ /Users/khumachbayramova/Desktop/ITMO/Магистратура/ИсИИ/ultralytics-yolo/datasets/coco128/images/val2017/000000122217.jpg: ignoring corrupt image/label: cannot identify image file '/Users/khumachbayramova/Desktop/ITMO/Магистратура/ИсИИ/ultralytics-yolo/datasets/coco128/images/val2017/000000122217.jpg'\n",
      "\u001B[34m\u001B[1mval: \u001B[0mWARNING ⚠️ /Users/khumachbayramova/Desktop/ITMO/Магистратура/ИсИИ/ultralytics-yolo/datasets/coco128/images/val2017/000000122606.jpg: ignoring corrupt image/label: cannot identify image file '/Users/khumachbayramova/Desktop/ITMO/Магистратура/ИсИИ/ultralytics-yolo/datasets/coco128/images/val2017/000000122606.jpg'\n",
      "\u001B[34m\u001B[1mval: \u001B[0mWARNING ⚠️ /Users/khumachbayramova/Desktop/ITMO/Магистратура/ИсИИ/ultralytics-yolo/datasets/coco128/images/val2017/000000122672.jpg: ignoring corrupt image/label: cannot identify image file '/Users/khumachbayramova/Desktop/ITMO/Магистратура/ИсИИ/ultralytics-yolo/datasets/coco128/images/val2017/000000122672.jpg'\n",
      "\u001B[34m\u001B[1mval: \u001B[0mWARNING ⚠️ /Users/khumachbayramova/Desktop/ITMO/Магистратура/ИсИИ/ultralytics-yolo/datasets/coco128/images/val2017/000000122745.jpg: ignoring corrupt image/label: cannot identify image file '/Users/khumachbayramova/Desktop/ITMO/Магистратура/ИсИИ/ultralytics-yolo/datasets/coco128/images/val2017/000000122745.jpg'\n",
      "\u001B[34m\u001B[1mval: \u001B[0mWARNING ⚠️ /Users/khumachbayramova/Desktop/ITMO/Магистратура/ИсИИ/ultralytics-yolo/datasets/coco128/images/val2017/000000122927.jpg: ignoring corrupt image/label: cannot identify image file '/Users/khumachbayramova/Desktop/ITMO/Магистратура/ИсИИ/ultralytics-yolo/datasets/coco128/images/val2017/000000122927.jpg'\n",
      "\u001B[34m\u001B[1mval: \u001B[0mWARNING ⚠️ /Users/khumachbayramova/Desktop/ITMO/Магистратура/ИсИИ/ultralytics-yolo/datasets/coco128/images/val2017/000000122962.jpg: ignoring corrupt image/label: cannot identify image file '/Users/khumachbayramova/Desktop/ITMO/Магистратура/ИсИИ/ultralytics-yolo/datasets/coco128/images/val2017/000000122962.jpg'\n",
      "\u001B[34m\u001B[1mval: \u001B[0mWARNING ⚠️ /Users/khumachbayramova/Desktop/ITMO/Магистратура/ИсИИ/ultralytics-yolo/datasets/coco128/images/val2017/000000122969.jpg: ignoring corrupt image/label: cannot identify image file '/Users/khumachbayramova/Desktop/ITMO/Магистратура/ИсИИ/ultralytics-yolo/datasets/coco128/images/val2017/000000122969.jpg'\n",
      "\u001B[34m\u001B[1mval: \u001B[0mWARNING ⚠️ /Users/khumachbayramova/Desktop/ITMO/Магистратура/ИсИИ/ultralytics-yolo/datasets/coco128/images/val2017/000000123131.jpg: ignoring corrupt image/label: cannot identify image file '/Users/khumachbayramova/Desktop/ITMO/Магистратура/ИсИИ/ultralytics-yolo/datasets/coco128/images/val2017/000000123131.jpg'\n",
      "\u001B[34m\u001B[1mval: \u001B[0mWARNING ⚠️ /Users/khumachbayramova/Desktop/ITMO/Магистратура/ИсИИ/ultralytics-yolo/datasets/coco128/images/val2017/000000123213.jpg: ignoring corrupt image/label: cannot identify image file '/Users/khumachbayramova/Desktop/ITMO/Магистратура/ИсИИ/ultralytics-yolo/datasets/coco128/images/val2017/000000123213.jpg'\n",
      "\u001B[34m\u001B[1mval: \u001B[0mWARNING ⚠️ /Users/khumachbayramova/Desktop/ITMO/Магистратура/ИсИИ/ultralytics-yolo/datasets/coco128/images/val2017/000000123321.jpg: ignoring corrupt image/label: cannot identify image file '/Users/khumachbayramova/Desktop/ITMO/Магистратура/ИсИИ/ultralytics-yolo/datasets/coco128/images/val2017/000000123321.jpg'\n",
      "\u001B[34m\u001B[1mval: \u001B[0mWARNING ⚠️ /Users/khumachbayramova/Desktop/ITMO/Магистратура/ИсИИ/ultralytics-yolo/datasets/coco128/images/val2017/000000123480.jpg: ignoring corrupt image/label: cannot identify image file '/Users/khumachbayramova/Desktop/ITMO/Магистратура/ИсИИ/ultralytics-yolo/datasets/coco128/images/val2017/000000123480.jpg'\n",
      "\u001B[34m\u001B[1mval: \u001B[0mWARNING ⚠️ /Users/khumachbayramova/Desktop/ITMO/Магистратура/ИсИИ/ultralytics-yolo/datasets/coco128/images/val2017/000000123585.jpg: ignoring corrupt image/label: cannot identify image file '/Users/khumachbayramova/Desktop/ITMO/Магистратура/ИсИИ/ultralytics-yolo/datasets/coco128/images/val2017/000000123585.jpg'\n",
      "\u001B[34m\u001B[1mval: \u001B[0mWARNING ⚠️ /Users/khumachbayramova/Desktop/ITMO/Магистратура/ИсИИ/ultralytics-yolo/datasets/coco128/images/val2017/000000123633.jpg: ignoring corrupt image/label: cannot identify image file '/Users/khumachbayramova/Desktop/ITMO/Магистратура/ИсИИ/ultralytics-yolo/datasets/coco128/images/val2017/000000123633.jpg'\n",
      "\u001B[34m\u001B[1mval: \u001B[0mWARNING ⚠️ /Users/khumachbayramova/Desktop/ITMO/Магистратура/ИсИИ/ultralytics-yolo/datasets/coco128/images/val2017/000000124277.jpg: ignoring corrupt image/label: cannot identify image file '/Users/khumachbayramova/Desktop/ITMO/Магистратура/ИсИИ/ultralytics-yolo/datasets/coco128/images/val2017/000000124277.jpg'\n",
      "\u001B[34m\u001B[1mval: \u001B[0mWARNING ⚠️ /Users/khumachbayramova/Desktop/ITMO/Магистратура/ИсИИ/ultralytics-yolo/datasets/coco128/images/val2017/000000124442.jpg: ignoring corrupt image/label: cannot identify image file '/Users/khumachbayramova/Desktop/ITMO/Магистратура/ИсИИ/ultralytics-yolo/datasets/coco128/images/val2017/000000124442.jpg'\n",
      "\u001B[34m\u001B[1mval: \u001B[0mWARNING ⚠️ /Users/khumachbayramova/Desktop/ITMO/Магистратура/ИсИИ/ultralytics-yolo/datasets/coco128/images/val2017/000000124636.jpg: ignoring corrupt image/label: cannot identify image file '/Users/khumachbayramova/Desktop/ITMO/Магистратура/ИсИИ/ultralytics-yolo/datasets/coco128/images/val2017/000000124636.jpg'\n",
      "\u001B[34m\u001B[1mval: \u001B[0mWARNING ⚠️ /Users/khumachbayramova/Desktop/ITMO/Магистратура/ИсИИ/ultralytics-yolo/datasets/coco128/images/val2017/000000124659.jpg: ignoring corrupt image/label: cannot identify image file '/Users/khumachbayramova/Desktop/ITMO/Магистратура/ИсИИ/ultralytics-yolo/datasets/coco128/images/val2017/000000124659.jpg'\n",
      "\u001B[34m\u001B[1mval: \u001B[0mWARNING ⚠️ /Users/khumachbayramova/Desktop/ITMO/Магистратура/ИсИИ/ultralytics-yolo/datasets/coco128/images/val2017/000000124798.jpg: ignoring corrupt image/label: cannot identify image file '/Users/khumachbayramova/Desktop/ITMO/Магистратура/ИсИИ/ultralytics-yolo/datasets/coco128/images/val2017/000000124798.jpg'\n",
      "\u001B[34m\u001B[1mval: \u001B[0mWARNING ⚠️ /Users/khumachbayramova/Desktop/ITMO/Магистратура/ИсИИ/ultralytics-yolo/datasets/coco128/images/val2017/000000124975.jpg: ignoring corrupt image/label: cannot identify image file '/Users/khumachbayramova/Desktop/ITMO/Магистратура/ИсИИ/ultralytics-yolo/datasets/coco128/images/val2017/000000124975.jpg'\n",
      "\u001B[34m\u001B[1mval: \u001B[0mWARNING ⚠️ /Users/khumachbayramova/Desktop/ITMO/Магистратура/ИсИИ/ultralytics-yolo/datasets/coco128/images/val2017/000000125062.jpg: ignoring corrupt image/label: cannot identify image file '/Users/khumachbayramova/Desktop/ITMO/Магистратура/ИсИИ/ultralytics-yolo/datasets/coco128/images/val2017/000000125062.jpg'\n",
      "\u001B[34m\u001B[1mval: \u001B[0mWARNING ⚠️ /Users/khumachbayramova/Desktop/ITMO/Магистратура/ИсИИ/ultralytics-yolo/datasets/coco128/images/val2017/000000125072.jpg: ignoring corrupt image/label: cannot identify image file '/Users/khumachbayramova/Desktop/ITMO/Магистратура/ИсИИ/ultralytics-yolo/datasets/coco128/images/val2017/000000125072.jpg'\n",
      "\u001B[34m\u001B[1mval: \u001B[0mWARNING ⚠️ /Users/khumachbayramova/Desktop/ITMO/Магистратура/ИсИИ/ultralytics-yolo/datasets/coco128/images/val2017/000000125129.jpg: ignoring corrupt image/label: cannot identify image file '/Users/khumachbayramova/Desktop/ITMO/Магистратура/ИсИИ/ultralytics-yolo/datasets/coco128/images/val2017/000000125129.jpg'\n",
      "\u001B[34m\u001B[1mval: \u001B[0mWARNING ⚠️ /Users/khumachbayramova/Desktop/ITMO/Магистратура/ИсИИ/ultralytics-yolo/datasets/coco128/images/val2017/000000125211.jpg: ignoring corrupt image/label: cannot identify image file '/Users/khumachbayramova/Desktop/ITMO/Магистратура/ИсИИ/ultralytics-yolo/datasets/coco128/images/val2017/000000125211.jpg'\n",
      "\u001B[34m\u001B[1mval: \u001B[0mWARNING ⚠️ /Users/khumachbayramova/Desktop/ITMO/Магистратура/ИсИИ/ultralytics-yolo/datasets/coco128/images/val2017/000000125245.jpg: ignoring corrupt image/label: cannot identify image file '/Users/khumachbayramova/Desktop/ITMO/Магистратура/ИсИИ/ultralytics-yolo/datasets/coco128/images/val2017/000000125245.jpg'\n",
      "WARNING ⚠️ No images found in /Users/khumachbayramova/Desktop/ITMO/Магистратура/ИсИИ/ultralytics-yolo/datasets/coco128/labels/val2017.cache, training may not work correctly. See https://docs.ultralytics.com/datasets/detect for dataset formatting guidance.\n",
      "ERROR ❌️ Benchmark failure for PyTorch: not enough values to unpack (expected 3, got 0)\n"
     ]
    },
    {
     "name": "stderr",
     "output_type": "stream",
     "text": [
      "\n"
     ]
    },
    {
     "name": "stdout",
     "output_type": "stream",
     "text": [
      "\n",
      "\u001B[34m\u001B[1mPyTorch:\u001B[0m starting from 'runs/detect/train36/weights/best.pt' with input shape (1, 3, 640, 640) BCHW and output shape(s) (1, 84, 8400) (17.7 MB)\n",
      "\n",
      "\u001B[34m\u001B[1mTorchScript:\u001B[0m starting export with torch 2.2.1...\n",
      "\u001B[34m\u001B[1mTorchScript:\u001B[0m export success ✅ 1.4s, saved as 'runs/detect/train36/weights/best.torchscript' (35.4 MB)\n",
      "\n",
      "Export complete (1.6s)\n",
      "Results saved to \u001B[1m/Users/khumachbayramova/Desktop/ITMO/Магистратура/ИсИИ/ultralytics-yolo/runs/detect/train36/weights\u001B[0m\n",
      "Predict:         yolo predict task=detect model=runs/detect/train36/weights/best.torchscript imgsz=640  \n",
      "Validate:        yolo val task=detect model=runs/detect/train36/weights/best.torchscript imgsz=640 data=./datasets/coco128.yaml  \n",
      "Visualize:       https://netron.app\n",
      "Loading runs/detect/train36/weights/best.torchscript for TorchScript inference...\n",
      "image 1/1 /Users/khumachbayramova/anaconda3/lib/python3.11/site-packages/ultralytics/assets/bus.jpg: 640x640 4 persons, 1 bus, 165.0ms\n",
      "Speed: 1.8ms preprocess, 165.0ms inference, 0.9ms postprocess per image at shape (1, 3, 640, 640)\n",
      "Loading runs/detect/train36/weights/best.torchscript for TorchScript inference...\n"
     ]
    },
    {
     "name": "stderr",
     "output_type": "stream",
     "text": [
      "\u001B[34m\u001B[1mval: \u001B[0mScanning /Users/khumachbayramova/Desktop/ITMO/Магистратура/ИсИИ/ultralytics-yolo/datasets/coco128/labels/val2017.cache... 0 images, 0 backgrounds, 41 corrupt: 100%|██████████| 41/41 [00:00<?, ?it/s]"
     ]
    },
    {
     "name": "stdout",
     "output_type": "stream",
     "text": [
      "\u001B[34m\u001B[1mval: \u001B[0mWARNING ⚠️ /Users/khumachbayramova/Desktop/ITMO/Магистратура/ИсИИ/ultralytics-yolo/datasets/coco128/images/val2017/000000119995.jpg: ignoring corrupt image/label: cannot identify image file '/Users/khumachbayramova/Desktop/ITMO/Магистратура/ИсИИ/ultralytics-yolo/datasets/coco128/images/val2017/000000119995.jpg'\n",
      "\u001B[34m\u001B[1mval: \u001B[0mWARNING ⚠️ /Users/khumachbayramova/Desktop/ITMO/Магистратура/ИсИИ/ultralytics-yolo/datasets/coco128/images/val2017/000000120420.jpg: ignoring corrupt image/label: cannot identify image file '/Users/khumachbayramova/Desktop/ITMO/Магистратура/ИсИИ/ultralytics-yolo/datasets/coco128/images/val2017/000000120420.jpg'\n",
      "\u001B[34m\u001B[1mval: \u001B[0mWARNING ⚠️ /Users/khumachbayramova/Desktop/ITMO/Магистратура/ИсИИ/ultralytics-yolo/datasets/coco128/images/val2017/000000120572.jpg: ignoring corrupt image/label: cannot identify image file '/Users/khumachbayramova/Desktop/ITMO/Магистратура/ИсИИ/ultralytics-yolo/datasets/coco128/images/val2017/000000120572.jpg'\n",
      "\u001B[34m\u001B[1mval: \u001B[0mWARNING ⚠️ /Users/khumachbayramova/Desktop/ITMO/Магистратура/ИсИИ/ultralytics-yolo/datasets/coco128/images/val2017/000000120584.jpg: ignoring corrupt image/label: cannot identify image file '/Users/khumachbayramova/Desktop/ITMO/Магистратура/ИсИИ/ultralytics-yolo/datasets/coco128/images/val2017/000000120584.jpg'\n",
      "\u001B[34m\u001B[1mval: \u001B[0mWARNING ⚠️ /Users/khumachbayramova/Desktop/ITMO/Магистратура/ИсИИ/ultralytics-yolo/datasets/coco128/images/val2017/000000120777.jpg: ignoring corrupt image/label: cannot identify image file '/Users/khumachbayramova/Desktop/ITMO/Магистратура/ИсИИ/ultralytics-yolo/datasets/coco128/images/val2017/000000120777.jpg'\n",
      "\u001B[34m\u001B[1mval: \u001B[0mWARNING ⚠️ /Users/khumachbayramova/Desktop/ITMO/Магистратура/ИсИИ/ultralytics-yolo/datasets/coco128/images/val2017/000000120853.jpg: ignoring corrupt image/label: cannot identify image file '/Users/khumachbayramova/Desktop/ITMO/Магистратура/ИсИИ/ultralytics-yolo/datasets/coco128/images/val2017/000000120853.jpg'\n",
      "\u001B[34m\u001B[1mval: \u001B[0mWARNING ⚠️ /Users/khumachbayramova/Desktop/ITMO/Магистратура/ИсИИ/ultralytics-yolo/datasets/coco128/images/val2017/000000121031.jpg: ignoring corrupt image/label: cannot identify image file '/Users/khumachbayramova/Desktop/ITMO/Магистратура/ИсИИ/ultralytics-yolo/datasets/coco128/images/val2017/000000121031.jpg'\n",
      "\u001B[34m\u001B[1mval: \u001B[0mWARNING ⚠️ /Users/khumachbayramova/Desktop/ITMO/Магистратура/ИсИИ/ultralytics-yolo/datasets/coco128/images/val2017/000000121242.jpg: ignoring corrupt image/label: cannot identify image file '/Users/khumachbayramova/Desktop/ITMO/Магистратура/ИсИИ/ultralytics-yolo/datasets/coco128/images/val2017/000000121242.jpg'\n",
      "\u001B[34m\u001B[1mval: \u001B[0mWARNING ⚠️ /Users/khumachbayramova/Desktop/ITMO/Магистратура/ИсИИ/ultralytics-yolo/datasets/coco128/images/val2017/000000121417.jpg: ignoring corrupt image/label: cannot identify image file '/Users/khumachbayramova/Desktop/ITMO/Магистратура/ИсИИ/ultralytics-yolo/datasets/coco128/images/val2017/000000121417.jpg'\n",
      "\u001B[34m\u001B[1mval: \u001B[0mWARNING ⚠️ /Users/khumachbayramova/Desktop/ITMO/Магистратура/ИсИИ/ultralytics-yolo/datasets/coco128/images/val2017/000000121497.jpg: ignoring corrupt image/label: cannot identify image file '/Users/khumachbayramova/Desktop/ITMO/Магистратура/ИсИИ/ultralytics-yolo/datasets/coco128/images/val2017/000000121497.jpg'\n",
      "\u001B[34m\u001B[1mval: \u001B[0mWARNING ⚠️ /Users/khumachbayramova/Desktop/ITMO/Магистратура/ИсИИ/ultralytics-yolo/datasets/coco128/images/val2017/000000121506.jpg: ignoring corrupt image/label: cannot identify image file '/Users/khumachbayramova/Desktop/ITMO/Магистратура/ИсИИ/ultralytics-yolo/datasets/coco128/images/val2017/000000121506.jpg'\n",
      "\u001B[34m\u001B[1mval: \u001B[0mWARNING ⚠️ /Users/khumachbayramova/Desktop/ITMO/Магистратура/ИсИИ/ultralytics-yolo/datasets/coco128/images/val2017/000000121586.jpg: ignoring corrupt image/label: cannot identify image file '/Users/khumachbayramova/Desktop/ITMO/Магистратура/ИсИИ/ultralytics-yolo/datasets/coco128/images/val2017/000000121586.jpg'\n",
      "\u001B[34m\u001B[1mval: \u001B[0mWARNING ⚠️ /Users/khumachbayramova/Desktop/ITMO/Магистратура/ИсИИ/ultralytics-yolo/datasets/coco128/images/val2017/000000121591.jpg: ignoring corrupt image/label: cannot identify image file '/Users/khumachbayramova/Desktop/ITMO/Магистратура/ИсИИ/ultralytics-yolo/datasets/coco128/images/val2017/000000121591.jpg'\n",
      "\u001B[34m\u001B[1mval: \u001B[0mWARNING ⚠️ /Users/khumachbayramova/Desktop/ITMO/Магистратура/ИсИИ/ultralytics-yolo/datasets/coco128/images/val2017/000000121673.jpg: ignoring corrupt image/label: cannot identify image file '/Users/khumachbayramova/Desktop/ITMO/Магистратура/ИсИИ/ultralytics-yolo/datasets/coco128/images/val2017/000000121673.jpg'\n",
      "\u001B[34m\u001B[1mval: \u001B[0mWARNING ⚠️ /Users/khumachbayramova/Desktop/ITMO/Магистратура/ИсИИ/ultralytics-yolo/datasets/coco128/images/val2017/000000121744.jpg: ignoring corrupt image/label: cannot identify image file '/Users/khumachbayramova/Desktop/ITMO/Магистратура/ИсИИ/ultralytics-yolo/datasets/coco128/images/val2017/000000121744.jpg'\n",
      "\u001B[34m\u001B[1mval: \u001B[0mWARNING ⚠️ /Users/khumachbayramova/Desktop/ITMO/Магистратура/ИсИИ/ultralytics-yolo/datasets/coco128/images/val2017/000000122046.jpg: ignoring corrupt image/label: cannot identify image file '/Users/khumachbayramova/Desktop/ITMO/Магистратура/ИсИИ/ultralytics-yolo/datasets/coco128/images/val2017/000000122046.jpg'\n",
      "\u001B[34m\u001B[1mval: \u001B[0mWARNING ⚠️ /Users/khumachbayramova/Desktop/ITMO/Магистратура/ИсИИ/ultralytics-yolo/datasets/coco128/images/val2017/000000122166.jpg: ignoring corrupt image/label: cannot identify image file '/Users/khumachbayramova/Desktop/ITMO/Магистратура/ИсИИ/ultralytics-yolo/datasets/coco128/images/val2017/000000122166.jpg'\n",
      "\u001B[34m\u001B[1mval: \u001B[0mWARNING ⚠️ /Users/khumachbayramova/Desktop/ITMO/Магистратура/ИсИИ/ultralytics-yolo/datasets/coco128/images/val2017/000000122217.jpg: ignoring corrupt image/label: cannot identify image file '/Users/khumachbayramova/Desktop/ITMO/Магистратура/ИсИИ/ultralytics-yolo/datasets/coco128/images/val2017/000000122217.jpg'\n",
      "\u001B[34m\u001B[1mval: \u001B[0mWARNING ⚠️ /Users/khumachbayramova/Desktop/ITMO/Магистратура/ИсИИ/ultralytics-yolo/datasets/coco128/images/val2017/000000122606.jpg: ignoring corrupt image/label: cannot identify image file '/Users/khumachbayramova/Desktop/ITMO/Магистратура/ИсИИ/ultralytics-yolo/datasets/coco128/images/val2017/000000122606.jpg'\n",
      "\u001B[34m\u001B[1mval: \u001B[0mWARNING ⚠️ /Users/khumachbayramova/Desktop/ITMO/Магистратура/ИсИИ/ultralytics-yolo/datasets/coco128/images/val2017/000000122672.jpg: ignoring corrupt image/label: cannot identify image file '/Users/khumachbayramova/Desktop/ITMO/Магистратура/ИсИИ/ultralytics-yolo/datasets/coco128/images/val2017/000000122672.jpg'\n",
      "\u001B[34m\u001B[1mval: \u001B[0mWARNING ⚠️ /Users/khumachbayramova/Desktop/ITMO/Магистратура/ИсИИ/ultralytics-yolo/datasets/coco128/images/val2017/000000122745.jpg: ignoring corrupt image/label: cannot identify image file '/Users/khumachbayramova/Desktop/ITMO/Магистратура/ИсИИ/ultralytics-yolo/datasets/coco128/images/val2017/000000122745.jpg'\n",
      "\u001B[34m\u001B[1mval: \u001B[0mWARNING ⚠️ /Users/khumachbayramova/Desktop/ITMO/Магистратура/ИсИИ/ultralytics-yolo/datasets/coco128/images/val2017/000000122927.jpg: ignoring corrupt image/label: cannot identify image file '/Users/khumachbayramova/Desktop/ITMO/Магистратура/ИсИИ/ultralytics-yolo/datasets/coco128/images/val2017/000000122927.jpg'\n",
      "\u001B[34m\u001B[1mval: \u001B[0mWARNING ⚠️ /Users/khumachbayramova/Desktop/ITMO/Магистратура/ИсИИ/ultralytics-yolo/datasets/coco128/images/val2017/000000122962.jpg: ignoring corrupt image/label: cannot identify image file '/Users/khumachbayramova/Desktop/ITMO/Магистратура/ИсИИ/ultralytics-yolo/datasets/coco128/images/val2017/000000122962.jpg'\n",
      "\u001B[34m\u001B[1mval: \u001B[0mWARNING ⚠️ /Users/khumachbayramova/Desktop/ITMO/Магистратура/ИсИИ/ultralytics-yolo/datasets/coco128/images/val2017/000000122969.jpg: ignoring corrupt image/label: cannot identify image file '/Users/khumachbayramova/Desktop/ITMO/Магистратура/ИсИИ/ultralytics-yolo/datasets/coco128/images/val2017/000000122969.jpg'\n",
      "\u001B[34m\u001B[1mval: \u001B[0mWARNING ⚠️ /Users/khumachbayramova/Desktop/ITMO/Магистратура/ИсИИ/ultralytics-yolo/datasets/coco128/images/val2017/000000123131.jpg: ignoring corrupt image/label: cannot identify image file '/Users/khumachbayramova/Desktop/ITMO/Магистратура/ИсИИ/ultralytics-yolo/datasets/coco128/images/val2017/000000123131.jpg'\n",
      "\u001B[34m\u001B[1mval: \u001B[0mWARNING ⚠️ /Users/khumachbayramova/Desktop/ITMO/Магистратура/ИсИИ/ultralytics-yolo/datasets/coco128/images/val2017/000000123213.jpg: ignoring corrupt image/label: cannot identify image file '/Users/khumachbayramova/Desktop/ITMO/Магистратура/ИсИИ/ultralytics-yolo/datasets/coco128/images/val2017/000000123213.jpg'\n",
      "\u001B[34m\u001B[1mval: \u001B[0mWARNING ⚠️ /Users/khumachbayramova/Desktop/ITMO/Магистратура/ИсИИ/ultralytics-yolo/datasets/coco128/images/val2017/000000123321.jpg: ignoring corrupt image/label: cannot identify image file '/Users/khumachbayramova/Desktop/ITMO/Магистратура/ИсИИ/ultralytics-yolo/datasets/coco128/images/val2017/000000123321.jpg'\n",
      "\u001B[34m\u001B[1mval: \u001B[0mWARNING ⚠️ /Users/khumachbayramova/Desktop/ITMO/Магистратура/ИсИИ/ultralytics-yolo/datasets/coco128/images/val2017/000000123480.jpg: ignoring corrupt image/label: cannot identify image file '/Users/khumachbayramova/Desktop/ITMO/Магистратура/ИсИИ/ultralytics-yolo/datasets/coco128/images/val2017/000000123480.jpg'\n",
      "\u001B[34m\u001B[1mval: \u001B[0mWARNING ⚠️ /Users/khumachbayramova/Desktop/ITMO/Магистратура/ИсИИ/ultralytics-yolo/datasets/coco128/images/val2017/000000123585.jpg: ignoring corrupt image/label: cannot identify image file '/Users/khumachbayramova/Desktop/ITMO/Магистратура/ИсИИ/ultralytics-yolo/datasets/coco128/images/val2017/000000123585.jpg'\n",
      "\u001B[34m\u001B[1mval: \u001B[0mWARNING ⚠️ /Users/khumachbayramova/Desktop/ITMO/Магистратура/ИсИИ/ultralytics-yolo/datasets/coco128/images/val2017/000000123633.jpg: ignoring corrupt image/label: cannot identify image file '/Users/khumachbayramova/Desktop/ITMO/Магистратура/ИсИИ/ultralytics-yolo/datasets/coco128/images/val2017/000000123633.jpg'\n",
      "\u001B[34m\u001B[1mval: \u001B[0mWARNING ⚠️ /Users/khumachbayramova/Desktop/ITMO/Магистратура/ИсИИ/ultralytics-yolo/datasets/coco128/images/val2017/000000124277.jpg: ignoring corrupt image/label: cannot identify image file '/Users/khumachbayramova/Desktop/ITMO/Магистратура/ИсИИ/ultralytics-yolo/datasets/coco128/images/val2017/000000124277.jpg'\n",
      "\u001B[34m\u001B[1mval: \u001B[0mWARNING ⚠️ /Users/khumachbayramova/Desktop/ITMO/Магистратура/ИсИИ/ultralytics-yolo/datasets/coco128/images/val2017/000000124442.jpg: ignoring corrupt image/label: cannot identify image file '/Users/khumachbayramova/Desktop/ITMO/Магистратура/ИсИИ/ultralytics-yolo/datasets/coco128/images/val2017/000000124442.jpg'\n",
      "\u001B[34m\u001B[1mval: \u001B[0mWARNING ⚠️ /Users/khumachbayramova/Desktop/ITMO/Магистратура/ИсИИ/ultralytics-yolo/datasets/coco128/images/val2017/000000124636.jpg: ignoring corrupt image/label: cannot identify image file '/Users/khumachbayramova/Desktop/ITMO/Магистратура/ИсИИ/ultralytics-yolo/datasets/coco128/images/val2017/000000124636.jpg'\n",
      "\u001B[34m\u001B[1mval: \u001B[0mWARNING ⚠️ /Users/khumachbayramova/Desktop/ITMO/Магистратура/ИсИИ/ultralytics-yolo/datasets/coco128/images/val2017/000000124659.jpg: ignoring corrupt image/label: cannot identify image file '/Users/khumachbayramova/Desktop/ITMO/Магистратура/ИсИИ/ultralytics-yolo/datasets/coco128/images/val2017/000000124659.jpg'\n",
      "\u001B[34m\u001B[1mval: \u001B[0mWARNING ⚠️ /Users/khumachbayramova/Desktop/ITMO/Магистратура/ИсИИ/ultralytics-yolo/datasets/coco128/images/val2017/000000124798.jpg: ignoring corrupt image/label: cannot identify image file '/Users/khumachbayramova/Desktop/ITMO/Магистратура/ИсИИ/ultralytics-yolo/datasets/coco128/images/val2017/000000124798.jpg'\n",
      "\u001B[34m\u001B[1mval: \u001B[0mWARNING ⚠️ /Users/khumachbayramova/Desktop/ITMO/Магистратура/ИсИИ/ultralytics-yolo/datasets/coco128/images/val2017/000000124975.jpg: ignoring corrupt image/label: cannot identify image file '/Users/khumachbayramova/Desktop/ITMO/Магистратура/ИсИИ/ultralytics-yolo/datasets/coco128/images/val2017/000000124975.jpg'\n",
      "\u001B[34m\u001B[1mval: \u001B[0mWARNING ⚠️ /Users/khumachbayramova/Desktop/ITMO/Магистратура/ИсИИ/ultralytics-yolo/datasets/coco128/images/val2017/000000125062.jpg: ignoring corrupt image/label: cannot identify image file '/Users/khumachbayramova/Desktop/ITMO/Магистратура/ИсИИ/ultralytics-yolo/datasets/coco128/images/val2017/000000125062.jpg'\n",
      "\u001B[34m\u001B[1mval: \u001B[0mWARNING ⚠️ /Users/khumachbayramova/Desktop/ITMO/Магистратура/ИсИИ/ultralytics-yolo/datasets/coco128/images/val2017/000000125072.jpg: ignoring corrupt image/label: cannot identify image file '/Users/khumachbayramova/Desktop/ITMO/Магистратура/ИсИИ/ultralytics-yolo/datasets/coco128/images/val2017/000000125072.jpg'\n",
      "\u001B[34m\u001B[1mval: \u001B[0mWARNING ⚠️ /Users/khumachbayramova/Desktop/ITMO/Магистратура/ИсИИ/ultralytics-yolo/datasets/coco128/images/val2017/000000125129.jpg: ignoring corrupt image/label: cannot identify image file '/Users/khumachbayramova/Desktop/ITMO/Магистратура/ИсИИ/ultralytics-yolo/datasets/coco128/images/val2017/000000125129.jpg'\n",
      "\u001B[34m\u001B[1mval: \u001B[0mWARNING ⚠️ /Users/khumachbayramova/Desktop/ITMO/Магистратура/ИсИИ/ultralytics-yolo/datasets/coco128/images/val2017/000000125211.jpg: ignoring corrupt image/label: cannot identify image file '/Users/khumachbayramova/Desktop/ITMO/Магистратура/ИсИИ/ultralytics-yolo/datasets/coco128/images/val2017/000000125211.jpg'\n",
      "\u001B[34m\u001B[1mval: \u001B[0mWARNING ⚠️ /Users/khumachbayramova/Desktop/ITMO/Магистратура/ИсИИ/ultralytics-yolo/datasets/coco128/images/val2017/000000125245.jpg: ignoring corrupt image/label: cannot identify image file '/Users/khumachbayramova/Desktop/ITMO/Магистратура/ИсИИ/ultralytics-yolo/datasets/coco128/images/val2017/000000125245.jpg'\n",
      "WARNING ⚠️ No images found in /Users/khumachbayramova/Desktop/ITMO/Магистратура/ИсИИ/ultralytics-yolo/datasets/coco128/labels/val2017.cache, training may not work correctly. See https://docs.ultralytics.com/datasets/detect for dataset formatting guidance.\n",
      "ERROR ❌️ Benchmark failure for TorchScript: not enough values to unpack (expected 3, got 0)\n"
     ]
    },
    {
     "name": "stderr",
     "output_type": "stream",
     "text": [
      "\n"
     ]
    },
    {
     "name": "stdout",
     "output_type": "stream",
     "text": [
      "\n",
      "\u001B[34m\u001B[1mPyTorch:\u001B[0m starting from 'runs/detect/train36/weights/best.pt' with input shape (1, 3, 640, 640) BCHW and output shape(s) (1, 84, 8400) (17.7 MB)\n",
      "\n",
      "\u001B[34m\u001B[1mONNX:\u001B[0m starting export with onnx 1.16.1 opset 17...\n",
      "\u001B[34m\u001B[1mONNX:\u001B[0m export success ✅ 0.7s, saved as 'runs/detect/train36/weights/best.onnx' (35.1 MB)\n",
      "\n",
      "Export complete (1.0s)\n",
      "Results saved to \u001B[1m/Users/khumachbayramova/Desktop/ITMO/Магистратура/ИсИИ/ultralytics-yolo/runs/detect/train36/weights\u001B[0m\n",
      "Predict:         yolo predict task=detect model=runs/detect/train36/weights/best.onnx imgsz=640  \n",
      "Validate:        yolo val task=detect model=runs/detect/train36/weights/best.onnx imgsz=640 data=./datasets/coco128.yaml  \n",
      "Visualize:       https://netron.app\n",
      "Loading runs/detect/train36/weights/best.onnx for ONNX Runtime inference...\n",
      "image 1/1 /Users/khumachbayramova/anaconda3/lib/python3.11/site-packages/ultralytics/assets/bus.jpg: 640x640 4 persons, 1 bus, 115.5ms\n",
      "Speed: 15.4ms preprocess, 115.5ms inference, 1.0ms postprocess per image at shape (1, 3, 640, 640)\n",
      "Loading runs/detect/train36/weights/best.onnx for ONNX Runtime inference...\n",
      "Forcing batch=1 square inference (1,3,640,640) for non-PyTorch models\n"
     ]
    },
    {
     "name": "stderr",
     "output_type": "stream",
     "text": [
      "\u001B[34m\u001B[1mval: \u001B[0mScanning /Users/khumachbayramova/Desktop/ITMO/Магистратура/ИсИИ/ultralytics-yolo/datasets/coco128/labels/val2017.cache... 0 images, 0 backgrounds, 41 corrupt: 100%|██████████| 41/41 [00:00<?, ?it/s]"
     ]
    },
    {
     "name": "stdout",
     "output_type": "stream",
     "text": [
      "\u001B[34m\u001B[1mval: \u001B[0mWARNING ⚠️ /Users/khumachbayramova/Desktop/ITMO/Магистратура/ИсИИ/ultralytics-yolo/datasets/coco128/images/val2017/000000119995.jpg: ignoring corrupt image/label: cannot identify image file '/Users/khumachbayramova/Desktop/ITMO/Магистратура/ИсИИ/ultralytics-yolo/datasets/coco128/images/val2017/000000119995.jpg'\n",
      "\u001B[34m\u001B[1mval: \u001B[0mWARNING ⚠️ /Users/khumachbayramova/Desktop/ITMO/Магистратура/ИсИИ/ultralytics-yolo/datasets/coco128/images/val2017/000000120420.jpg: ignoring corrupt image/label: cannot identify image file '/Users/khumachbayramova/Desktop/ITMO/Магистратура/ИсИИ/ultralytics-yolo/datasets/coco128/images/val2017/000000120420.jpg'\n",
      "\u001B[34m\u001B[1mval: \u001B[0mWARNING ⚠️ /Users/khumachbayramova/Desktop/ITMO/Магистратура/ИсИИ/ultralytics-yolo/datasets/coco128/images/val2017/000000120572.jpg: ignoring corrupt image/label: cannot identify image file '/Users/khumachbayramova/Desktop/ITMO/Магистратура/ИсИИ/ultralytics-yolo/datasets/coco128/images/val2017/000000120572.jpg'\n",
      "\u001B[34m\u001B[1mval: \u001B[0mWARNING ⚠️ /Users/khumachbayramova/Desktop/ITMO/Магистратура/ИсИИ/ultralytics-yolo/datasets/coco128/images/val2017/000000120584.jpg: ignoring corrupt image/label: cannot identify image file '/Users/khumachbayramova/Desktop/ITMO/Магистратура/ИсИИ/ultralytics-yolo/datasets/coco128/images/val2017/000000120584.jpg'\n",
      "\u001B[34m\u001B[1mval: \u001B[0mWARNING ⚠️ /Users/khumachbayramova/Desktop/ITMO/Магистратура/ИсИИ/ultralytics-yolo/datasets/coco128/images/val2017/000000120777.jpg: ignoring corrupt image/label: cannot identify image file '/Users/khumachbayramova/Desktop/ITMO/Магистратура/ИсИИ/ultralytics-yolo/datasets/coco128/images/val2017/000000120777.jpg'\n",
      "\u001B[34m\u001B[1mval: \u001B[0mWARNING ⚠️ /Users/khumachbayramova/Desktop/ITMO/Магистратура/ИсИИ/ultralytics-yolo/datasets/coco128/images/val2017/000000120853.jpg: ignoring corrupt image/label: cannot identify image file '/Users/khumachbayramova/Desktop/ITMO/Магистратура/ИсИИ/ultralytics-yolo/datasets/coco128/images/val2017/000000120853.jpg'\n",
      "\u001B[34m\u001B[1mval: \u001B[0mWARNING ⚠️ /Users/khumachbayramova/Desktop/ITMO/Магистратура/ИсИИ/ultralytics-yolo/datasets/coco128/images/val2017/000000121031.jpg: ignoring corrupt image/label: cannot identify image file '/Users/khumachbayramova/Desktop/ITMO/Магистратура/ИсИИ/ultralytics-yolo/datasets/coco128/images/val2017/000000121031.jpg'\n",
      "\u001B[34m\u001B[1mval: \u001B[0mWARNING ⚠️ /Users/khumachbayramova/Desktop/ITMO/Магистратура/ИсИИ/ultralytics-yolo/datasets/coco128/images/val2017/000000121242.jpg: ignoring corrupt image/label: cannot identify image file '/Users/khumachbayramova/Desktop/ITMO/Магистратура/ИсИИ/ultralytics-yolo/datasets/coco128/images/val2017/000000121242.jpg'\n",
      "\u001B[34m\u001B[1mval: \u001B[0mWARNING ⚠️ /Users/khumachbayramova/Desktop/ITMO/Магистратура/ИсИИ/ultralytics-yolo/datasets/coco128/images/val2017/000000121417.jpg: ignoring corrupt image/label: cannot identify image file '/Users/khumachbayramova/Desktop/ITMO/Магистратура/ИсИИ/ultralytics-yolo/datasets/coco128/images/val2017/000000121417.jpg'\n",
      "\u001B[34m\u001B[1mval: \u001B[0mWARNING ⚠️ /Users/khumachbayramova/Desktop/ITMO/Магистратура/ИсИИ/ultralytics-yolo/datasets/coco128/images/val2017/000000121497.jpg: ignoring corrupt image/label: cannot identify image file '/Users/khumachbayramova/Desktop/ITMO/Магистратура/ИсИИ/ultralytics-yolo/datasets/coco128/images/val2017/000000121497.jpg'\n",
      "\u001B[34m\u001B[1mval: \u001B[0mWARNING ⚠️ /Users/khumachbayramova/Desktop/ITMO/Магистратура/ИсИИ/ultralytics-yolo/datasets/coco128/images/val2017/000000121506.jpg: ignoring corrupt image/label: cannot identify image file '/Users/khumachbayramova/Desktop/ITMO/Магистратура/ИсИИ/ultralytics-yolo/datasets/coco128/images/val2017/000000121506.jpg'\n",
      "\u001B[34m\u001B[1mval: \u001B[0mWARNING ⚠️ /Users/khumachbayramova/Desktop/ITMO/Магистратура/ИсИИ/ultralytics-yolo/datasets/coco128/images/val2017/000000121586.jpg: ignoring corrupt image/label: cannot identify image file '/Users/khumachbayramova/Desktop/ITMO/Магистратура/ИсИИ/ultralytics-yolo/datasets/coco128/images/val2017/000000121586.jpg'\n",
      "\u001B[34m\u001B[1mval: \u001B[0mWARNING ⚠️ /Users/khumachbayramova/Desktop/ITMO/Магистратура/ИсИИ/ultralytics-yolo/datasets/coco128/images/val2017/000000121591.jpg: ignoring corrupt image/label: cannot identify image file '/Users/khumachbayramova/Desktop/ITMO/Магистратура/ИсИИ/ultralytics-yolo/datasets/coco128/images/val2017/000000121591.jpg'\n",
      "\u001B[34m\u001B[1mval: \u001B[0mWARNING ⚠️ /Users/khumachbayramova/Desktop/ITMO/Магистратура/ИсИИ/ultralytics-yolo/datasets/coco128/images/val2017/000000121673.jpg: ignoring corrupt image/label: cannot identify image file '/Users/khumachbayramova/Desktop/ITMO/Магистратура/ИсИИ/ultralytics-yolo/datasets/coco128/images/val2017/000000121673.jpg'\n",
      "\u001B[34m\u001B[1mval: \u001B[0mWARNING ⚠️ /Users/khumachbayramova/Desktop/ITMO/Магистратура/ИсИИ/ultralytics-yolo/datasets/coco128/images/val2017/000000121744.jpg: ignoring corrupt image/label: cannot identify image file '/Users/khumachbayramova/Desktop/ITMO/Магистратура/ИсИИ/ultralytics-yolo/datasets/coco128/images/val2017/000000121744.jpg'\n",
      "\u001B[34m\u001B[1mval: \u001B[0mWARNING ⚠️ /Users/khumachbayramova/Desktop/ITMO/Магистратура/ИсИИ/ultralytics-yolo/datasets/coco128/images/val2017/000000122046.jpg: ignoring corrupt image/label: cannot identify image file '/Users/khumachbayramova/Desktop/ITMO/Магистратура/ИсИИ/ultralytics-yolo/datasets/coco128/images/val2017/000000122046.jpg'\n",
      "\u001B[34m\u001B[1mval: \u001B[0mWARNING ⚠️ /Users/khumachbayramova/Desktop/ITMO/Магистратура/ИсИИ/ultralytics-yolo/datasets/coco128/images/val2017/000000122166.jpg: ignoring corrupt image/label: cannot identify image file '/Users/khumachbayramova/Desktop/ITMO/Магистратура/ИсИИ/ultralytics-yolo/datasets/coco128/images/val2017/000000122166.jpg'\n",
      "\u001B[34m\u001B[1mval: \u001B[0mWARNING ⚠️ /Users/khumachbayramova/Desktop/ITMO/Магистратура/ИсИИ/ultralytics-yolo/datasets/coco128/images/val2017/000000122217.jpg: ignoring corrupt image/label: cannot identify image file '/Users/khumachbayramova/Desktop/ITMO/Магистратура/ИсИИ/ultralytics-yolo/datasets/coco128/images/val2017/000000122217.jpg'\n",
      "\u001B[34m\u001B[1mval: \u001B[0mWARNING ⚠️ /Users/khumachbayramova/Desktop/ITMO/Магистратура/ИсИИ/ultralytics-yolo/datasets/coco128/images/val2017/000000122606.jpg: ignoring corrupt image/label: cannot identify image file '/Users/khumachbayramova/Desktop/ITMO/Магистратура/ИсИИ/ultralytics-yolo/datasets/coco128/images/val2017/000000122606.jpg'\n",
      "\u001B[34m\u001B[1mval: \u001B[0mWARNING ⚠️ /Users/khumachbayramova/Desktop/ITMO/Магистратура/ИсИИ/ultralytics-yolo/datasets/coco128/images/val2017/000000122672.jpg: ignoring corrupt image/label: cannot identify image file '/Users/khumachbayramova/Desktop/ITMO/Магистратура/ИсИИ/ultralytics-yolo/datasets/coco128/images/val2017/000000122672.jpg'\n",
      "\u001B[34m\u001B[1mval: \u001B[0mWARNING ⚠️ /Users/khumachbayramova/Desktop/ITMO/Магистратура/ИсИИ/ultralytics-yolo/datasets/coco128/images/val2017/000000122745.jpg: ignoring corrupt image/label: cannot identify image file '/Users/khumachbayramova/Desktop/ITMO/Магистратура/ИсИИ/ultralytics-yolo/datasets/coco128/images/val2017/000000122745.jpg'\n",
      "\u001B[34m\u001B[1mval: \u001B[0mWARNING ⚠️ /Users/khumachbayramova/Desktop/ITMO/Магистратура/ИсИИ/ultralytics-yolo/datasets/coco128/images/val2017/000000122927.jpg: ignoring corrupt image/label: cannot identify image file '/Users/khumachbayramova/Desktop/ITMO/Магистратура/ИсИИ/ultralytics-yolo/datasets/coco128/images/val2017/000000122927.jpg'\n",
      "\u001B[34m\u001B[1mval: \u001B[0mWARNING ⚠️ /Users/khumachbayramova/Desktop/ITMO/Магистратура/ИсИИ/ultralytics-yolo/datasets/coco128/images/val2017/000000122962.jpg: ignoring corrupt image/label: cannot identify image file '/Users/khumachbayramova/Desktop/ITMO/Магистратура/ИсИИ/ultralytics-yolo/datasets/coco128/images/val2017/000000122962.jpg'\n",
      "\u001B[34m\u001B[1mval: \u001B[0mWARNING ⚠️ /Users/khumachbayramova/Desktop/ITMO/Магистратура/ИсИИ/ultralytics-yolo/datasets/coco128/images/val2017/000000122969.jpg: ignoring corrupt image/label: cannot identify image file '/Users/khumachbayramova/Desktop/ITMO/Магистратура/ИсИИ/ultralytics-yolo/datasets/coco128/images/val2017/000000122969.jpg'\n",
      "\u001B[34m\u001B[1mval: \u001B[0mWARNING ⚠️ /Users/khumachbayramova/Desktop/ITMO/Магистратура/ИсИИ/ultralytics-yolo/datasets/coco128/images/val2017/000000123131.jpg: ignoring corrupt image/label: cannot identify image file '/Users/khumachbayramova/Desktop/ITMO/Магистратура/ИсИИ/ultralytics-yolo/datasets/coco128/images/val2017/000000123131.jpg'\n",
      "\u001B[34m\u001B[1mval: \u001B[0mWARNING ⚠️ /Users/khumachbayramova/Desktop/ITMO/Магистратура/ИсИИ/ultralytics-yolo/datasets/coco128/images/val2017/000000123213.jpg: ignoring corrupt image/label: cannot identify image file '/Users/khumachbayramova/Desktop/ITMO/Магистратура/ИсИИ/ultralytics-yolo/datasets/coco128/images/val2017/000000123213.jpg'\n",
      "\u001B[34m\u001B[1mval: \u001B[0mWARNING ⚠️ /Users/khumachbayramova/Desktop/ITMO/Магистратура/ИсИИ/ultralytics-yolo/datasets/coco128/images/val2017/000000123321.jpg: ignoring corrupt image/label: cannot identify image file '/Users/khumachbayramova/Desktop/ITMO/Магистратура/ИсИИ/ultralytics-yolo/datasets/coco128/images/val2017/000000123321.jpg'\n",
      "\u001B[34m\u001B[1mval: \u001B[0mWARNING ⚠️ /Users/khumachbayramova/Desktop/ITMO/Магистратура/ИсИИ/ultralytics-yolo/datasets/coco128/images/val2017/000000123480.jpg: ignoring corrupt image/label: cannot identify image file '/Users/khumachbayramova/Desktop/ITMO/Магистратура/ИсИИ/ultralytics-yolo/datasets/coco128/images/val2017/000000123480.jpg'\n",
      "\u001B[34m\u001B[1mval: \u001B[0mWARNING ⚠️ /Users/khumachbayramova/Desktop/ITMO/Магистратура/ИсИИ/ultralytics-yolo/datasets/coco128/images/val2017/000000123585.jpg: ignoring corrupt image/label: cannot identify image file '/Users/khumachbayramova/Desktop/ITMO/Магистратура/ИсИИ/ultralytics-yolo/datasets/coco128/images/val2017/000000123585.jpg'\n",
      "\u001B[34m\u001B[1mval: \u001B[0mWARNING ⚠️ /Users/khumachbayramova/Desktop/ITMO/Магистратура/ИсИИ/ultralytics-yolo/datasets/coco128/images/val2017/000000123633.jpg: ignoring corrupt image/label: cannot identify image file '/Users/khumachbayramova/Desktop/ITMO/Магистратура/ИсИИ/ultralytics-yolo/datasets/coco128/images/val2017/000000123633.jpg'\n",
      "\u001B[34m\u001B[1mval: \u001B[0mWARNING ⚠️ /Users/khumachbayramova/Desktop/ITMO/Магистратура/ИсИИ/ultralytics-yolo/datasets/coco128/images/val2017/000000124277.jpg: ignoring corrupt image/label: cannot identify image file '/Users/khumachbayramova/Desktop/ITMO/Магистратура/ИсИИ/ultralytics-yolo/datasets/coco128/images/val2017/000000124277.jpg'\n",
      "\u001B[34m\u001B[1mval: \u001B[0mWARNING ⚠️ /Users/khumachbayramova/Desktop/ITMO/Магистратура/ИсИИ/ultralytics-yolo/datasets/coco128/images/val2017/000000124442.jpg: ignoring corrupt image/label: cannot identify image file '/Users/khumachbayramova/Desktop/ITMO/Магистратура/ИсИИ/ultralytics-yolo/datasets/coco128/images/val2017/000000124442.jpg'\n",
      "\u001B[34m\u001B[1mval: \u001B[0mWARNING ⚠️ /Users/khumachbayramova/Desktop/ITMO/Магистратура/ИсИИ/ultralytics-yolo/datasets/coco128/images/val2017/000000124636.jpg: ignoring corrupt image/label: cannot identify image file '/Users/khumachbayramova/Desktop/ITMO/Магистратура/ИсИИ/ultralytics-yolo/datasets/coco128/images/val2017/000000124636.jpg'\n",
      "\u001B[34m\u001B[1mval: \u001B[0mWARNING ⚠️ /Users/khumachbayramova/Desktop/ITMO/Магистратура/ИсИИ/ultralytics-yolo/datasets/coco128/images/val2017/000000124659.jpg: ignoring corrupt image/label: cannot identify image file '/Users/khumachbayramova/Desktop/ITMO/Магистратура/ИсИИ/ultralytics-yolo/datasets/coco128/images/val2017/000000124659.jpg'\n",
      "\u001B[34m\u001B[1mval: \u001B[0mWARNING ⚠️ /Users/khumachbayramova/Desktop/ITMO/Магистратура/ИсИИ/ultralytics-yolo/datasets/coco128/images/val2017/000000124798.jpg: ignoring corrupt image/label: cannot identify image file '/Users/khumachbayramova/Desktop/ITMO/Магистратура/ИсИИ/ultralytics-yolo/datasets/coco128/images/val2017/000000124798.jpg'\n",
      "\u001B[34m\u001B[1mval: \u001B[0mWARNING ⚠️ /Users/khumachbayramova/Desktop/ITMO/Магистратура/ИсИИ/ultralytics-yolo/datasets/coco128/images/val2017/000000124975.jpg: ignoring corrupt image/label: cannot identify image file '/Users/khumachbayramova/Desktop/ITMO/Магистратура/ИсИИ/ultralytics-yolo/datasets/coco128/images/val2017/000000124975.jpg'\n",
      "\u001B[34m\u001B[1mval: \u001B[0mWARNING ⚠️ /Users/khumachbayramova/Desktop/ITMO/Магистратура/ИсИИ/ultralytics-yolo/datasets/coco128/images/val2017/000000125062.jpg: ignoring corrupt image/label: cannot identify image file '/Users/khumachbayramova/Desktop/ITMO/Магистратура/ИсИИ/ultralytics-yolo/datasets/coco128/images/val2017/000000125062.jpg'\n",
      "\u001B[34m\u001B[1mval: \u001B[0mWARNING ⚠️ /Users/khumachbayramova/Desktop/ITMO/Магистратура/ИсИИ/ultralytics-yolo/datasets/coco128/images/val2017/000000125072.jpg: ignoring corrupt image/label: cannot identify image file '/Users/khumachbayramova/Desktop/ITMO/Магистратура/ИсИИ/ultralytics-yolo/datasets/coco128/images/val2017/000000125072.jpg'\n",
      "\u001B[34m\u001B[1mval: \u001B[0mWARNING ⚠️ /Users/khumachbayramova/Desktop/ITMO/Магистратура/ИсИИ/ultralytics-yolo/datasets/coco128/images/val2017/000000125129.jpg: ignoring corrupt image/label: cannot identify image file '/Users/khumachbayramova/Desktop/ITMO/Магистратура/ИсИИ/ultralytics-yolo/datasets/coco128/images/val2017/000000125129.jpg'\n",
      "\u001B[34m\u001B[1mval: \u001B[0mWARNING ⚠️ /Users/khumachbayramova/Desktop/ITMO/Магистратура/ИсИИ/ultralytics-yolo/datasets/coco128/images/val2017/000000125211.jpg: ignoring corrupt image/label: cannot identify image file '/Users/khumachbayramova/Desktop/ITMO/Магистратура/ИсИИ/ultralytics-yolo/datasets/coco128/images/val2017/000000125211.jpg'\n",
      "\u001B[34m\u001B[1mval: \u001B[0mWARNING ⚠️ /Users/khumachbayramova/Desktop/ITMO/Магистратура/ИсИИ/ultralytics-yolo/datasets/coco128/images/val2017/000000125245.jpg: ignoring corrupt image/label: cannot identify image file '/Users/khumachbayramova/Desktop/ITMO/Магистратура/ИсИИ/ultralytics-yolo/datasets/coco128/images/val2017/000000125245.jpg'\n",
      "WARNING ⚠️ No images found in /Users/khumachbayramova/Desktop/ITMO/Магистратура/ИсИИ/ultralytics-yolo/datasets/coco128/labels/val2017.cache, training may not work correctly. See https://docs.ultralytics.com/datasets/detect for dataset formatting guidance.\n",
      "ERROR ❌️ Benchmark failure for ONNX: not enough values to unpack (expected 3, got 0)\n"
     ]
    },
    {
     "name": "stderr",
     "output_type": "stream",
     "text": [
      "\n"
     ]
    },
    {
     "name": "stdout",
     "output_type": "stream",
     "text": [
      "\n",
      "\u001B[34m\u001B[1mPyTorch:\u001B[0m starting from 'runs/detect/train36/weights/best.pt' with input shape (1, 3, 640, 640) BCHW and output shape(s) (1, 84, 8400) (17.7 MB)\n",
      "\n",
      "\u001B[34m\u001B[1mOpenVINO:\u001B[0m starting export with openvino 2024.1.0-15008-f4afc983258-releases/2024/1...\n",
      "\u001B[34m\u001B[1mOpenVINO:\u001B[0m export success ✅ 2.6s, saved as 'runs/detect/train36/weights/best_openvino_model/' (35.2 MB)\n",
      "\n",
      "Export complete (2.8s)\n",
      "Results saved to \u001B[1m/Users/khumachbayramova/Desktop/ITMO/Магистратура/ИсИИ/ultralytics-yolo/runs/detect/train36/weights\u001B[0m\n",
      "Predict:         yolo predict task=detect model=runs/detect/train36/weights/best_openvino_model imgsz=640  \n",
      "Validate:        yolo val task=detect model=runs/detect/train36/weights/best_openvino_model imgsz=640 data=./datasets/coco128.yaml  \n",
      "Visualize:       https://netron.app\n",
      "Loading runs/detect/train36/weights/best_openvino_model for OpenVINO inference...\n",
      "Using OpenVINO LATENCY mode for batch=1 inference...\n",
      "image 1/1 /Users/khumachbayramova/anaconda3/lib/python3.11/site-packages/ultralytics/assets/bus.jpg: 640x640 4 persons, 1 bus, 101.2ms\n",
      "Speed: 3.9ms preprocess, 101.2ms inference, 0.9ms postprocess per image at shape (1, 3, 640, 640)\n",
      "Loading runs/detect/train36/weights/best_openvino_model for OpenVINO inference...\n",
      "Using OpenVINO LATENCY mode for batch=1 inference...\n",
      "Forcing batch=1 square inference (1,3,640,640) for non-PyTorch models\n"
     ]
    },
    {
     "name": "stderr",
     "output_type": "stream",
     "text": [
      "\u001B[34m\u001B[1mval: \u001B[0mScanning /Users/khumachbayramova/Desktop/ITMO/Магистратура/ИсИИ/ultralytics-yolo/datasets/coco128/labels/val2017.cache... 0 images, 0 backgrounds, 41 corrupt: 100%|██████████| 41/41 [00:00<?, ?it/s]"
     ]
    },
    {
     "name": "stdout",
     "output_type": "stream",
     "text": [
      "\u001B[34m\u001B[1mval: \u001B[0mWARNING ⚠️ /Users/khumachbayramova/Desktop/ITMO/Магистратура/ИсИИ/ultralytics-yolo/datasets/coco128/images/val2017/000000119995.jpg: ignoring corrupt image/label: cannot identify image file '/Users/khumachbayramova/Desktop/ITMO/Магистратура/ИсИИ/ultralytics-yolo/datasets/coco128/images/val2017/000000119995.jpg'\n",
      "\u001B[34m\u001B[1mval: \u001B[0mWARNING ⚠️ /Users/khumachbayramova/Desktop/ITMO/Магистратура/ИсИИ/ultralytics-yolo/datasets/coco128/images/val2017/000000120420.jpg: ignoring corrupt image/label: cannot identify image file '/Users/khumachbayramova/Desktop/ITMO/Магистратура/ИсИИ/ultralytics-yolo/datasets/coco128/images/val2017/000000120420.jpg'\n",
      "\u001B[34m\u001B[1mval: \u001B[0mWARNING ⚠️ /Users/khumachbayramova/Desktop/ITMO/Магистратура/ИсИИ/ultralytics-yolo/datasets/coco128/images/val2017/000000120572.jpg: ignoring corrupt image/label: cannot identify image file '/Users/khumachbayramova/Desktop/ITMO/Магистратура/ИсИИ/ultralytics-yolo/datasets/coco128/images/val2017/000000120572.jpg'\n",
      "\u001B[34m\u001B[1mval: \u001B[0mWARNING ⚠️ /Users/khumachbayramova/Desktop/ITMO/Магистратура/ИсИИ/ultralytics-yolo/datasets/coco128/images/val2017/000000120584.jpg: ignoring corrupt image/label: cannot identify image file '/Users/khumachbayramova/Desktop/ITMO/Магистратура/ИсИИ/ultralytics-yolo/datasets/coco128/images/val2017/000000120584.jpg'\n",
      "\u001B[34m\u001B[1mval: \u001B[0mWARNING ⚠️ /Users/khumachbayramova/Desktop/ITMO/Магистратура/ИсИИ/ultralytics-yolo/datasets/coco128/images/val2017/000000120777.jpg: ignoring corrupt image/label: cannot identify image file '/Users/khumachbayramova/Desktop/ITMO/Магистратура/ИсИИ/ultralytics-yolo/datasets/coco128/images/val2017/000000120777.jpg'\n",
      "\u001B[34m\u001B[1mval: \u001B[0mWARNING ⚠️ /Users/khumachbayramova/Desktop/ITMO/Магистратура/ИсИИ/ultralytics-yolo/datasets/coco128/images/val2017/000000120853.jpg: ignoring corrupt image/label: cannot identify image file '/Users/khumachbayramova/Desktop/ITMO/Магистратура/ИсИИ/ultralytics-yolo/datasets/coco128/images/val2017/000000120853.jpg'\n",
      "\u001B[34m\u001B[1mval: \u001B[0mWARNING ⚠️ /Users/khumachbayramova/Desktop/ITMO/Магистратура/ИсИИ/ultralytics-yolo/datasets/coco128/images/val2017/000000121031.jpg: ignoring corrupt image/label: cannot identify image file '/Users/khumachbayramova/Desktop/ITMO/Магистратура/ИсИИ/ultralytics-yolo/datasets/coco128/images/val2017/000000121031.jpg'\n",
      "\u001B[34m\u001B[1mval: \u001B[0mWARNING ⚠️ /Users/khumachbayramova/Desktop/ITMO/Магистратура/ИсИИ/ultralytics-yolo/datasets/coco128/images/val2017/000000121242.jpg: ignoring corrupt image/label: cannot identify image file '/Users/khumachbayramova/Desktop/ITMO/Магистратура/ИсИИ/ultralytics-yolo/datasets/coco128/images/val2017/000000121242.jpg'\n",
      "\u001B[34m\u001B[1mval: \u001B[0mWARNING ⚠️ /Users/khumachbayramova/Desktop/ITMO/Магистратура/ИсИИ/ultralytics-yolo/datasets/coco128/images/val2017/000000121417.jpg: ignoring corrupt image/label: cannot identify image file '/Users/khumachbayramova/Desktop/ITMO/Магистратура/ИсИИ/ultralytics-yolo/datasets/coco128/images/val2017/000000121417.jpg'\n",
      "\u001B[34m\u001B[1mval: \u001B[0mWARNING ⚠️ /Users/khumachbayramova/Desktop/ITMO/Магистратура/ИсИИ/ultralytics-yolo/datasets/coco128/images/val2017/000000121497.jpg: ignoring corrupt image/label: cannot identify image file '/Users/khumachbayramova/Desktop/ITMO/Магистратура/ИсИИ/ultralytics-yolo/datasets/coco128/images/val2017/000000121497.jpg'\n",
      "\u001B[34m\u001B[1mval: \u001B[0mWARNING ⚠️ /Users/khumachbayramova/Desktop/ITMO/Магистратура/ИсИИ/ultralytics-yolo/datasets/coco128/images/val2017/000000121506.jpg: ignoring corrupt image/label: cannot identify image file '/Users/khumachbayramova/Desktop/ITMO/Магистратура/ИсИИ/ultralytics-yolo/datasets/coco128/images/val2017/000000121506.jpg'\n",
      "\u001B[34m\u001B[1mval: \u001B[0mWARNING ⚠️ /Users/khumachbayramova/Desktop/ITMO/Магистратура/ИсИИ/ultralytics-yolo/datasets/coco128/images/val2017/000000121586.jpg: ignoring corrupt image/label: cannot identify image file '/Users/khumachbayramova/Desktop/ITMO/Магистратура/ИсИИ/ultralytics-yolo/datasets/coco128/images/val2017/000000121586.jpg'\n",
      "\u001B[34m\u001B[1mval: \u001B[0mWARNING ⚠️ /Users/khumachbayramova/Desktop/ITMO/Магистратура/ИсИИ/ultralytics-yolo/datasets/coco128/images/val2017/000000121591.jpg: ignoring corrupt image/label: cannot identify image file '/Users/khumachbayramova/Desktop/ITMO/Магистратура/ИсИИ/ultralytics-yolo/datasets/coco128/images/val2017/000000121591.jpg'\n",
      "\u001B[34m\u001B[1mval: \u001B[0mWARNING ⚠️ /Users/khumachbayramova/Desktop/ITMO/Магистратура/ИсИИ/ultralytics-yolo/datasets/coco128/images/val2017/000000121673.jpg: ignoring corrupt image/label: cannot identify image file '/Users/khumachbayramova/Desktop/ITMO/Магистратура/ИсИИ/ultralytics-yolo/datasets/coco128/images/val2017/000000121673.jpg'\n",
      "\u001B[34m\u001B[1mval: \u001B[0mWARNING ⚠️ /Users/khumachbayramova/Desktop/ITMO/Магистратура/ИсИИ/ultralytics-yolo/datasets/coco128/images/val2017/000000121744.jpg: ignoring corrupt image/label: cannot identify image file '/Users/khumachbayramova/Desktop/ITMO/Магистратура/ИсИИ/ultralytics-yolo/datasets/coco128/images/val2017/000000121744.jpg'\n",
      "\u001B[34m\u001B[1mval: \u001B[0mWARNING ⚠️ /Users/khumachbayramova/Desktop/ITMO/Магистратура/ИсИИ/ultralytics-yolo/datasets/coco128/images/val2017/000000122046.jpg: ignoring corrupt image/label: cannot identify image file '/Users/khumachbayramova/Desktop/ITMO/Магистратура/ИсИИ/ultralytics-yolo/datasets/coco128/images/val2017/000000122046.jpg'\n",
      "\u001B[34m\u001B[1mval: \u001B[0mWARNING ⚠️ /Users/khumachbayramova/Desktop/ITMO/Магистратура/ИсИИ/ultralytics-yolo/datasets/coco128/images/val2017/000000122166.jpg: ignoring corrupt image/label: cannot identify image file '/Users/khumachbayramova/Desktop/ITMO/Магистратура/ИсИИ/ultralytics-yolo/datasets/coco128/images/val2017/000000122166.jpg'\n",
      "\u001B[34m\u001B[1mval: \u001B[0mWARNING ⚠️ /Users/khumachbayramova/Desktop/ITMO/Магистратура/ИсИИ/ultralytics-yolo/datasets/coco128/images/val2017/000000122217.jpg: ignoring corrupt image/label: cannot identify image file '/Users/khumachbayramova/Desktop/ITMO/Магистратура/ИсИИ/ultralytics-yolo/datasets/coco128/images/val2017/000000122217.jpg'\n",
      "\u001B[34m\u001B[1mval: \u001B[0mWARNING ⚠️ /Users/khumachbayramova/Desktop/ITMO/Магистратура/ИсИИ/ultralytics-yolo/datasets/coco128/images/val2017/000000122606.jpg: ignoring corrupt image/label: cannot identify image file '/Users/khumachbayramova/Desktop/ITMO/Магистратура/ИсИИ/ultralytics-yolo/datasets/coco128/images/val2017/000000122606.jpg'\n",
      "\u001B[34m\u001B[1mval: \u001B[0mWARNING ⚠️ /Users/khumachbayramova/Desktop/ITMO/Магистратура/ИсИИ/ultralytics-yolo/datasets/coco128/images/val2017/000000122672.jpg: ignoring corrupt image/label: cannot identify image file '/Users/khumachbayramova/Desktop/ITMO/Магистратура/ИсИИ/ultralytics-yolo/datasets/coco128/images/val2017/000000122672.jpg'\n",
      "\u001B[34m\u001B[1mval: \u001B[0mWARNING ⚠️ /Users/khumachbayramova/Desktop/ITMO/Магистратура/ИсИИ/ultralytics-yolo/datasets/coco128/images/val2017/000000122745.jpg: ignoring corrupt image/label: cannot identify image file '/Users/khumachbayramova/Desktop/ITMO/Магистратура/ИсИИ/ultralytics-yolo/datasets/coco128/images/val2017/000000122745.jpg'\n",
      "\u001B[34m\u001B[1mval: \u001B[0mWARNING ⚠️ /Users/khumachbayramova/Desktop/ITMO/Магистратура/ИсИИ/ultralytics-yolo/datasets/coco128/images/val2017/000000122927.jpg: ignoring corrupt image/label: cannot identify image file '/Users/khumachbayramova/Desktop/ITMO/Магистратура/ИсИИ/ultralytics-yolo/datasets/coco128/images/val2017/000000122927.jpg'\n",
      "\u001B[34m\u001B[1mval: \u001B[0mWARNING ⚠️ /Users/khumachbayramova/Desktop/ITMO/Магистратура/ИсИИ/ultralytics-yolo/datasets/coco128/images/val2017/000000122962.jpg: ignoring corrupt image/label: cannot identify image file '/Users/khumachbayramova/Desktop/ITMO/Магистратура/ИсИИ/ultralytics-yolo/datasets/coco128/images/val2017/000000122962.jpg'\n",
      "\u001B[34m\u001B[1mval: \u001B[0mWARNING ⚠️ /Users/khumachbayramova/Desktop/ITMO/Магистратура/ИсИИ/ultralytics-yolo/datasets/coco128/images/val2017/000000122969.jpg: ignoring corrupt image/label: cannot identify image file '/Users/khumachbayramova/Desktop/ITMO/Магистратура/ИсИИ/ultralytics-yolo/datasets/coco128/images/val2017/000000122969.jpg'\n",
      "\u001B[34m\u001B[1mval: \u001B[0mWARNING ⚠️ /Users/khumachbayramova/Desktop/ITMO/Магистратура/ИсИИ/ultralytics-yolo/datasets/coco128/images/val2017/000000123131.jpg: ignoring corrupt image/label: cannot identify image file '/Users/khumachbayramova/Desktop/ITMO/Магистратура/ИсИИ/ultralytics-yolo/datasets/coco128/images/val2017/000000123131.jpg'\n",
      "\u001B[34m\u001B[1mval: \u001B[0mWARNING ⚠️ /Users/khumachbayramova/Desktop/ITMO/Магистратура/ИсИИ/ultralytics-yolo/datasets/coco128/images/val2017/000000123213.jpg: ignoring corrupt image/label: cannot identify image file '/Users/khumachbayramova/Desktop/ITMO/Магистратура/ИсИИ/ultralytics-yolo/datasets/coco128/images/val2017/000000123213.jpg'\n",
      "\u001B[34m\u001B[1mval: \u001B[0mWARNING ⚠️ /Users/khumachbayramova/Desktop/ITMO/Магистратура/ИсИИ/ultralytics-yolo/datasets/coco128/images/val2017/000000123321.jpg: ignoring corrupt image/label: cannot identify image file '/Users/khumachbayramova/Desktop/ITMO/Магистратура/ИсИИ/ultralytics-yolo/datasets/coco128/images/val2017/000000123321.jpg'\n",
      "\u001B[34m\u001B[1mval: \u001B[0mWARNING ⚠️ /Users/khumachbayramova/Desktop/ITMO/Магистратура/ИсИИ/ultralytics-yolo/datasets/coco128/images/val2017/000000123480.jpg: ignoring corrupt image/label: cannot identify image file '/Users/khumachbayramova/Desktop/ITMO/Магистратура/ИсИИ/ultralytics-yolo/datasets/coco128/images/val2017/000000123480.jpg'\n",
      "\u001B[34m\u001B[1mval: \u001B[0mWARNING ⚠️ /Users/khumachbayramova/Desktop/ITMO/Магистратура/ИсИИ/ultralytics-yolo/datasets/coco128/images/val2017/000000123585.jpg: ignoring corrupt image/label: cannot identify image file '/Users/khumachbayramova/Desktop/ITMO/Магистратура/ИсИИ/ultralytics-yolo/datasets/coco128/images/val2017/000000123585.jpg'\n",
      "\u001B[34m\u001B[1mval: \u001B[0mWARNING ⚠️ /Users/khumachbayramova/Desktop/ITMO/Магистратура/ИсИИ/ultralytics-yolo/datasets/coco128/images/val2017/000000123633.jpg: ignoring corrupt image/label: cannot identify image file '/Users/khumachbayramova/Desktop/ITMO/Магистратура/ИсИИ/ultralytics-yolo/datasets/coco128/images/val2017/000000123633.jpg'\n",
      "\u001B[34m\u001B[1mval: \u001B[0mWARNING ⚠️ /Users/khumachbayramova/Desktop/ITMO/Магистратура/ИсИИ/ultralytics-yolo/datasets/coco128/images/val2017/000000124277.jpg: ignoring corrupt image/label: cannot identify image file '/Users/khumachbayramova/Desktop/ITMO/Магистратура/ИсИИ/ultralytics-yolo/datasets/coco128/images/val2017/000000124277.jpg'\n",
      "\u001B[34m\u001B[1mval: \u001B[0mWARNING ⚠️ /Users/khumachbayramova/Desktop/ITMO/Магистратура/ИсИИ/ultralytics-yolo/datasets/coco128/images/val2017/000000124442.jpg: ignoring corrupt image/label: cannot identify image file '/Users/khumachbayramova/Desktop/ITMO/Магистратура/ИсИИ/ultralytics-yolo/datasets/coco128/images/val2017/000000124442.jpg'\n",
      "\u001B[34m\u001B[1mval: \u001B[0mWARNING ⚠️ /Users/khumachbayramova/Desktop/ITMO/Магистратура/ИсИИ/ultralytics-yolo/datasets/coco128/images/val2017/000000124636.jpg: ignoring corrupt image/label: cannot identify image file '/Users/khumachbayramova/Desktop/ITMO/Магистратура/ИсИИ/ultralytics-yolo/datasets/coco128/images/val2017/000000124636.jpg'\n",
      "\u001B[34m\u001B[1mval: \u001B[0mWARNING ⚠️ /Users/khumachbayramova/Desktop/ITMO/Магистратура/ИсИИ/ultralytics-yolo/datasets/coco128/images/val2017/000000124659.jpg: ignoring corrupt image/label: cannot identify image file '/Users/khumachbayramova/Desktop/ITMO/Магистратура/ИсИИ/ultralytics-yolo/datasets/coco128/images/val2017/000000124659.jpg'\n",
      "\u001B[34m\u001B[1mval: \u001B[0mWARNING ⚠️ /Users/khumachbayramova/Desktop/ITMO/Магистратура/ИсИИ/ultralytics-yolo/datasets/coco128/images/val2017/000000124798.jpg: ignoring corrupt image/label: cannot identify image file '/Users/khumachbayramova/Desktop/ITMO/Магистратура/ИсИИ/ultralytics-yolo/datasets/coco128/images/val2017/000000124798.jpg'\n",
      "\u001B[34m\u001B[1mval: \u001B[0mWARNING ⚠️ /Users/khumachbayramova/Desktop/ITMO/Магистратура/ИсИИ/ultralytics-yolo/datasets/coco128/images/val2017/000000124975.jpg: ignoring corrupt image/label: cannot identify image file '/Users/khumachbayramova/Desktop/ITMO/Магистратура/ИсИИ/ultralytics-yolo/datasets/coco128/images/val2017/000000124975.jpg'\n",
      "\u001B[34m\u001B[1mval: \u001B[0mWARNING ⚠️ /Users/khumachbayramova/Desktop/ITMO/Магистратура/ИсИИ/ultralytics-yolo/datasets/coco128/images/val2017/000000125062.jpg: ignoring corrupt image/label: cannot identify image file '/Users/khumachbayramova/Desktop/ITMO/Магистратура/ИсИИ/ultralytics-yolo/datasets/coco128/images/val2017/000000125062.jpg'\n",
      "\u001B[34m\u001B[1mval: \u001B[0mWARNING ⚠️ /Users/khumachbayramova/Desktop/ITMO/Магистратура/ИсИИ/ultralytics-yolo/datasets/coco128/images/val2017/000000125072.jpg: ignoring corrupt image/label: cannot identify image file '/Users/khumachbayramova/Desktop/ITMO/Магистратура/ИсИИ/ultralytics-yolo/datasets/coco128/images/val2017/000000125072.jpg'\n",
      "\u001B[34m\u001B[1mval: \u001B[0mWARNING ⚠️ /Users/khumachbayramova/Desktop/ITMO/Магистратура/ИсИИ/ultralytics-yolo/datasets/coco128/images/val2017/000000125129.jpg: ignoring corrupt image/label: cannot identify image file '/Users/khumachbayramova/Desktop/ITMO/Магистратура/ИсИИ/ultralytics-yolo/datasets/coco128/images/val2017/000000125129.jpg'\n",
      "\u001B[34m\u001B[1mval: \u001B[0mWARNING ⚠️ /Users/khumachbayramova/Desktop/ITMO/Магистратура/ИсИИ/ultralytics-yolo/datasets/coco128/images/val2017/000000125211.jpg: ignoring corrupt image/label: cannot identify image file '/Users/khumachbayramova/Desktop/ITMO/Магистратура/ИсИИ/ultralytics-yolo/datasets/coco128/images/val2017/000000125211.jpg'\n",
      "\u001B[34m\u001B[1mval: \u001B[0mWARNING ⚠️ /Users/khumachbayramova/Desktop/ITMO/Магистратура/ИсИИ/ultralytics-yolo/datasets/coco128/images/val2017/000000125245.jpg: ignoring corrupt image/label: cannot identify image file '/Users/khumachbayramova/Desktop/ITMO/Магистратура/ИсИИ/ultralytics-yolo/datasets/coco128/images/val2017/000000125245.jpg'\n",
      "WARNING ⚠️ No images found in /Users/khumachbayramova/Desktop/ITMO/Магистратура/ИсИИ/ultralytics-yolo/datasets/coco128/labels/val2017.cache, training may not work correctly. See https://docs.ultralytics.com/datasets/detect for dataset formatting guidance.\n",
      "ERROR ❌️ Benchmark failure for OpenVINO: not enough values to unpack (expected 3, got 0)\n",
      "ERROR ❌️ Benchmark failure for TensorRT: inference not supported on CPU\n"
     ]
    },
    {
     "name": "stderr",
     "output_type": "stream",
     "text": [
      "\n"
     ]
    },
    {
     "name": "stdout",
     "output_type": "stream",
     "text": [
      "\n",
      "\u001B[34m\u001B[1mPyTorch:\u001B[0m starting from 'runs/detect/train36/weights/best.pt' with input shape (1, 3, 640, 640) BCHW and output shape(s) (1, 84, 8400) (17.7 MB)\n"
     ]
    },
    {
     "name": "stderr",
     "output_type": "stream",
     "text": [
      "scikit-learn version 1.3.0 is not supported. Minimum required version: 0.17. Maximum required version: 1.1.2. Disabling scikit-learn conversion API.\n",
      "Torch version 2.2.1 has not been tested with coremltools. You may run into unexpected errors. Torch 2.2.0 is the most recent version that has been tested.\n"
     ]
    },
    {
     "name": "stdout",
     "output_type": "stream",
     "text": [
      "\n",
      "\u001B[34m\u001B[1mCoreML:\u001B[0m starting export with coremltools 7.2...\n"
     ]
    },
    {
     "name": "stderr",
     "output_type": "stream",
     "text": [
      "Converting PyTorch Frontend ==> MIL Ops: 100%|█████████▉| 643/644 [00:00<00:00, 3315.97 ops/s]\n",
      "Running MIL frontend_pytorch pipeline: 100%|██████████| 5/5 [00:00<00:00, 213.16 passes/s]\n",
      "Running MIL default pipeline: 100%|██████████| 78/78 [00:00<00:00, 103.35 passes/s]\n",
      "Running MIL backend_mlprogram pipeline: 100%|██████████| 12/12 [00:00<00:00, 237.63 passes/s]\n"
     ]
    },
    {
     "name": "stdout",
     "output_type": "stream",
     "text": [
      "\u001B[34m\u001B[1mCoreML:\u001B[0m export success ✅ 14.7s, saved as 'runs/detect/train36/weights/best.mlpackage' (17.6 MB)\n",
      "\n",
      "Export complete (15.2s)\n",
      "Results saved to \u001B[1m/Users/khumachbayramova/Desktop/ITMO/Магистратура/ИсИИ/ultralytics-yolo/runs/detect/train36/weights\u001B[0m\n",
      "Predict:         yolo predict task=detect model=runs/detect/train36/weights/best.mlpackage imgsz=640  \n",
      "Validate:        yolo val task=detect model=runs/detect/train36/weights/best.mlpackage imgsz=640 data=./datasets/coco128.yaml  \n",
      "Visualize:       https://netron.app\n",
      "Loading runs/detect/train36/weights/best.mlpackage for CoreML inference...\n",
      "ERROR ❌️ Benchmark failure for CoreML: Unable to determine the macOS version\n",
      "\n",
      "\u001B[34m\u001B[1mPyTorch:\u001B[0m starting from 'runs/detect/train36/weights/best.pt' with input shape (1, 3, 640, 640) BCHW and output shape(s) (1, 84, 8400) (17.7 MB)\n",
      "\u001B[31m\u001B[1mrequirements:\u001B[0m Ultralytics requirement ['cmake'] not found, attempting AutoUpdate...\n",
      "\n",
      "\u001B[31m\u001B[1mrequirements:\u001B[0m Ultralytics requirements ['onnx2tf>=1.15.4,<=1.17.5', 'sng4onnx>=1.0.1', 'onnxsim>=0.4.33', 'onnx_graphsurgeon>=0.3.26', 'tflite_support', 'flatbuffers>=23.5.26,<100'] not found, attempting AutoUpdate...\n",
      "\n",
      "\n",
      "\u001B[34m\u001B[1mTensorFlow SavedModel:\u001B[0m starting export with tensorflow 2.12.0...\n",
      "\u001B[34m\u001B[1mTensorFlow SavedModel:\u001B[0m export failure ❌ 4.2s: No module named 'onnx2tf'\n",
      "ERROR ❌️ Benchmark failure for TensorFlow SavedModel: No module named 'onnx2tf'\n"
     ]
    },
    {
     "name": "stderr",
     "output_type": "stream",
     "text": [
      "Traceback (most recent call last):\n",
      "  File \"/Users/khumachbayramova/anaconda3/bin/pip\", line 5, in <module>\n",
      "    from pip._internal.cli.main import main\n",
      "  File \"/Users/khumachbayramova/anaconda3/lib/python3.11/site-packages/pip/_internal/cli/main.py\", line 10, in <module>\n"
     ]
    },
    {
     "ename": "KeyboardInterrupt",
     "evalue": "",
     "output_type": "error",
     "traceback": [
      "\u001B[0;31m---------------------------------------------------------------------------\u001B[0m",
      "\u001B[0;31mKeyboardInterrupt\u001B[0m                         Traceback (most recent call last)",
      "Cell \u001B[0;32mIn[4], line 6\u001B[0m\n\u001B[1;32m      3\u001B[0m model \u001B[38;5;241m=\u001B[39m YOLO(\u001B[38;5;124m'\u001B[39m\u001B[38;5;124mruns/detect/train36/weights/best.pt\u001B[39m\u001B[38;5;124m'\u001B[39m)  \u001B[38;5;66;03m# Load your model\u001B[39;00m\n\u001B[1;32m      4\u001B[0m data \u001B[38;5;241m=\u001B[39m \u001B[38;5;124m'\u001B[39m\u001B[38;5;124mdatasets/coco128.yaml\u001B[39m\u001B[38;5;124m'\u001B[39m  \u001B[38;5;66;03m# Define your dataset\u001B[39;00m\n\u001B[0;32m----> 6\u001B[0m benchmark(model\u001B[38;5;241m=\u001B[39m\u001B[38;5;124m'\u001B[39m\u001B[38;5;124mruns/detect/train36/weights/best.pt\u001B[39m\u001B[38;5;124m'\u001B[39m, data\u001B[38;5;241m=\u001B[39mdata, imgsz\u001B[38;5;241m=\u001B[39m\u001B[38;5;241m640\u001B[39m, device\u001B[38;5;241m=\u001B[39m\u001B[38;5;124m'\u001B[39m\u001B[38;5;124mcpu\u001B[39m\u001B[38;5;124m'\u001B[39m)\n",
      "File \u001B[0;32m~/anaconda3/lib/python3.11/site-packages/ultralytics/utils/benchmarks.py:111\u001B[0m, in \u001B[0;36mbenchmark\u001B[0;34m(model, data, imgsz, half, int8, device, verbose)\u001B[0m\n\u001B[1;32m    109\u001B[0m     exported_model \u001B[38;5;241m=\u001B[39m model  \u001B[38;5;66;03m# PyTorch format\u001B[39;00m\n\u001B[1;32m    110\u001B[0m \u001B[38;5;28;01melse\u001B[39;00m:\n\u001B[0;32m--> 111\u001B[0m     filename \u001B[38;5;241m=\u001B[39m model\u001B[38;5;241m.\u001B[39mexport(imgsz\u001B[38;5;241m=\u001B[39mimgsz, \u001B[38;5;28mformat\u001B[39m\u001B[38;5;241m=\u001B[39m\u001B[38;5;28mformat\u001B[39m, half\u001B[38;5;241m=\u001B[39mhalf, int8\u001B[38;5;241m=\u001B[39mint8, device\u001B[38;5;241m=\u001B[39mdevice, verbose\u001B[38;5;241m=\u001B[39m\u001B[38;5;28;01mFalse\u001B[39;00m)\n\u001B[1;32m    112\u001B[0m     exported_model \u001B[38;5;241m=\u001B[39m YOLO(filename, task\u001B[38;5;241m=\u001B[39mmodel\u001B[38;5;241m.\u001B[39mtask)\n\u001B[1;32m    113\u001B[0m     \u001B[38;5;28;01massert\u001B[39;00m suffix \u001B[38;5;129;01min\u001B[39;00m \u001B[38;5;28mstr\u001B[39m(filename), \u001B[38;5;124m\"\u001B[39m\u001B[38;5;124mexport failed\u001B[39m\u001B[38;5;124m\"\u001B[39m\n",
      "File \u001B[0;32m~/anaconda3/lib/python3.11/site-packages/ultralytics/engine/model.py:590\u001B[0m, in \u001B[0;36mModel.export\u001B[0;34m(self, **kwargs)\u001B[0m\n\u001B[1;32m    588\u001B[0m custom \u001B[38;5;241m=\u001B[39m {\u001B[38;5;124m\"\u001B[39m\u001B[38;5;124mimgsz\u001B[39m\u001B[38;5;124m\"\u001B[39m: \u001B[38;5;28mself\u001B[39m\u001B[38;5;241m.\u001B[39mmodel\u001B[38;5;241m.\u001B[39margs[\u001B[38;5;124m\"\u001B[39m\u001B[38;5;124mimgsz\u001B[39m\u001B[38;5;124m\"\u001B[39m], \u001B[38;5;124m\"\u001B[39m\u001B[38;5;124mbatch\u001B[39m\u001B[38;5;124m\"\u001B[39m: \u001B[38;5;241m1\u001B[39m, \u001B[38;5;124m\"\u001B[39m\u001B[38;5;124mdata\u001B[39m\u001B[38;5;124m\"\u001B[39m: \u001B[38;5;28;01mNone\u001B[39;00m, \u001B[38;5;124m\"\u001B[39m\u001B[38;5;124mverbose\u001B[39m\u001B[38;5;124m\"\u001B[39m: \u001B[38;5;28;01mFalse\u001B[39;00m}  \u001B[38;5;66;03m# method defaults\u001B[39;00m\n\u001B[1;32m    589\u001B[0m args \u001B[38;5;241m=\u001B[39m {\u001B[38;5;241m*\u001B[39m\u001B[38;5;241m*\u001B[39m\u001B[38;5;28mself\u001B[39m\u001B[38;5;241m.\u001B[39moverrides, \u001B[38;5;241m*\u001B[39m\u001B[38;5;241m*\u001B[39mcustom, \u001B[38;5;241m*\u001B[39m\u001B[38;5;241m*\u001B[39mkwargs, \u001B[38;5;124m\"\u001B[39m\u001B[38;5;124mmode\u001B[39m\u001B[38;5;124m\"\u001B[39m: \u001B[38;5;124m\"\u001B[39m\u001B[38;5;124mexport\u001B[39m\u001B[38;5;124m\"\u001B[39m}  \u001B[38;5;66;03m# highest priority args on the right\u001B[39;00m\n\u001B[0;32m--> 590\u001B[0m \u001B[38;5;28;01mreturn\u001B[39;00m Exporter(overrides\u001B[38;5;241m=\u001B[39margs, _callbacks\u001B[38;5;241m=\u001B[39m\u001B[38;5;28mself\u001B[39m\u001B[38;5;241m.\u001B[39mcallbacks)(model\u001B[38;5;241m=\u001B[39m\u001B[38;5;28mself\u001B[39m\u001B[38;5;241m.\u001B[39mmodel)\n",
      "File \u001B[0;32m~/anaconda3/lib/python3.11/site-packages/torch/utils/_contextlib.py:115\u001B[0m, in \u001B[0;36mcontext_decorator.<locals>.decorate_context\u001B[0;34m(*args, **kwargs)\u001B[0m\n\u001B[1;32m    112\u001B[0m \u001B[38;5;129m@functools\u001B[39m\u001B[38;5;241m.\u001B[39mwraps(func)\n\u001B[1;32m    113\u001B[0m \u001B[38;5;28;01mdef\u001B[39;00m \u001B[38;5;21mdecorate_context\u001B[39m(\u001B[38;5;241m*\u001B[39margs, \u001B[38;5;241m*\u001B[39m\u001B[38;5;241m*\u001B[39mkwargs):\n\u001B[1;32m    114\u001B[0m     \u001B[38;5;28;01mwith\u001B[39;00m ctx_factory():\n\u001B[0;32m--> 115\u001B[0m         \u001B[38;5;28;01mreturn\u001B[39;00m func(\u001B[38;5;241m*\u001B[39margs, \u001B[38;5;241m*\u001B[39m\u001B[38;5;241m*\u001B[39mkwargs)\n",
      "File \u001B[0;32m~/anaconda3/lib/python3.11/site-packages/ultralytics/engine/exporter.py:238\u001B[0m, in \u001B[0;36mExporter.__call__\u001B[0;34m(self, model)\u001B[0m\n\u001B[1;32m    236\u001B[0m y \u001B[38;5;241m=\u001B[39m \u001B[38;5;28;01mNone\u001B[39;00m\n\u001B[1;32m    237\u001B[0m \u001B[38;5;28;01mfor\u001B[39;00m _ \u001B[38;5;129;01min\u001B[39;00m \u001B[38;5;28mrange\u001B[39m(\u001B[38;5;241m2\u001B[39m):\n\u001B[0;32m--> 238\u001B[0m     y \u001B[38;5;241m=\u001B[39m model(im)  \u001B[38;5;66;03m# dry runs\u001B[39;00m\n\u001B[1;32m    239\u001B[0m \u001B[38;5;28;01mif\u001B[39;00m \u001B[38;5;28mself\u001B[39m\u001B[38;5;241m.\u001B[39margs\u001B[38;5;241m.\u001B[39mhalf \u001B[38;5;129;01mand\u001B[39;00m onnx \u001B[38;5;129;01mand\u001B[39;00m \u001B[38;5;28mself\u001B[39m\u001B[38;5;241m.\u001B[39mdevice\u001B[38;5;241m.\u001B[39mtype \u001B[38;5;241m!=\u001B[39m \u001B[38;5;124m\"\u001B[39m\u001B[38;5;124mcpu\u001B[39m\u001B[38;5;124m\"\u001B[39m:\n\u001B[1;32m    240\u001B[0m     im, model \u001B[38;5;241m=\u001B[39m im\u001B[38;5;241m.\u001B[39mhalf(), model\u001B[38;5;241m.\u001B[39mhalf()  \u001B[38;5;66;03m# to FP16\u001B[39;00m\n",
      "File \u001B[0;32m~/anaconda3/lib/python3.11/site-packages/torch/nn/modules/module.py:1511\u001B[0m, in \u001B[0;36mModule._wrapped_call_impl\u001B[0;34m(self, *args, **kwargs)\u001B[0m\n\u001B[1;32m   1509\u001B[0m     \u001B[38;5;28;01mreturn\u001B[39;00m \u001B[38;5;28mself\u001B[39m\u001B[38;5;241m.\u001B[39m_compiled_call_impl(\u001B[38;5;241m*\u001B[39margs, \u001B[38;5;241m*\u001B[39m\u001B[38;5;241m*\u001B[39mkwargs)  \u001B[38;5;66;03m# type: ignore[misc]\u001B[39;00m\n\u001B[1;32m   1510\u001B[0m \u001B[38;5;28;01melse\u001B[39;00m:\n\u001B[0;32m-> 1511\u001B[0m     \u001B[38;5;28;01mreturn\u001B[39;00m \u001B[38;5;28mself\u001B[39m\u001B[38;5;241m.\u001B[39m_call_impl(\u001B[38;5;241m*\u001B[39margs, \u001B[38;5;241m*\u001B[39m\u001B[38;5;241m*\u001B[39mkwargs)\n",
      "File \u001B[0;32m~/anaconda3/lib/python3.11/site-packages/torch/nn/modules/module.py:1520\u001B[0m, in \u001B[0;36mModule._call_impl\u001B[0;34m(self, *args, **kwargs)\u001B[0m\n\u001B[1;32m   1515\u001B[0m \u001B[38;5;66;03m# If we don't have any hooks, we want to skip the rest of the logic in\u001B[39;00m\n\u001B[1;32m   1516\u001B[0m \u001B[38;5;66;03m# this function, and just call forward.\u001B[39;00m\n\u001B[1;32m   1517\u001B[0m \u001B[38;5;28;01mif\u001B[39;00m \u001B[38;5;129;01mnot\u001B[39;00m (\u001B[38;5;28mself\u001B[39m\u001B[38;5;241m.\u001B[39m_backward_hooks \u001B[38;5;129;01mor\u001B[39;00m \u001B[38;5;28mself\u001B[39m\u001B[38;5;241m.\u001B[39m_backward_pre_hooks \u001B[38;5;129;01mor\u001B[39;00m \u001B[38;5;28mself\u001B[39m\u001B[38;5;241m.\u001B[39m_forward_hooks \u001B[38;5;129;01mor\u001B[39;00m \u001B[38;5;28mself\u001B[39m\u001B[38;5;241m.\u001B[39m_forward_pre_hooks\n\u001B[1;32m   1518\u001B[0m         \u001B[38;5;129;01mor\u001B[39;00m _global_backward_pre_hooks \u001B[38;5;129;01mor\u001B[39;00m _global_backward_hooks\n\u001B[1;32m   1519\u001B[0m         \u001B[38;5;129;01mor\u001B[39;00m _global_forward_hooks \u001B[38;5;129;01mor\u001B[39;00m _global_forward_pre_hooks):\n\u001B[0;32m-> 1520\u001B[0m     \u001B[38;5;28;01mreturn\u001B[39;00m forward_call(\u001B[38;5;241m*\u001B[39margs, \u001B[38;5;241m*\u001B[39m\u001B[38;5;241m*\u001B[39mkwargs)\n\u001B[1;32m   1522\u001B[0m \u001B[38;5;28;01mtry\u001B[39;00m:\n\u001B[1;32m   1523\u001B[0m     result \u001B[38;5;241m=\u001B[39m \u001B[38;5;28;01mNone\u001B[39;00m\n",
      "File \u001B[0;32m~/anaconda3/lib/python3.11/site-packages/ultralytics/nn/tasks.py:89\u001B[0m, in \u001B[0;36mBaseModel.forward\u001B[0;34m(self, x, *args, **kwargs)\u001B[0m\n\u001B[1;32m     87\u001B[0m \u001B[38;5;28;01mif\u001B[39;00m \u001B[38;5;28misinstance\u001B[39m(x, \u001B[38;5;28mdict\u001B[39m):  \u001B[38;5;66;03m# for cases of training and validating while training.\u001B[39;00m\n\u001B[1;32m     88\u001B[0m     \u001B[38;5;28;01mreturn\u001B[39;00m \u001B[38;5;28mself\u001B[39m\u001B[38;5;241m.\u001B[39mloss(x, \u001B[38;5;241m*\u001B[39margs, \u001B[38;5;241m*\u001B[39m\u001B[38;5;241m*\u001B[39mkwargs)\n\u001B[0;32m---> 89\u001B[0m \u001B[38;5;28;01mreturn\u001B[39;00m \u001B[38;5;28mself\u001B[39m\u001B[38;5;241m.\u001B[39mpredict(x, \u001B[38;5;241m*\u001B[39margs, \u001B[38;5;241m*\u001B[39m\u001B[38;5;241m*\u001B[39mkwargs)\n",
      "File \u001B[0;32m~/anaconda3/lib/python3.11/site-packages/ultralytics/nn/tasks.py:107\u001B[0m, in \u001B[0;36mBaseModel.predict\u001B[0;34m(self, x, profile, visualize, augment, embed)\u001B[0m\n\u001B[1;32m    105\u001B[0m \u001B[38;5;28;01mif\u001B[39;00m augment:\n\u001B[1;32m    106\u001B[0m     \u001B[38;5;28;01mreturn\u001B[39;00m \u001B[38;5;28mself\u001B[39m\u001B[38;5;241m.\u001B[39m_predict_augment(x)\n\u001B[0;32m--> 107\u001B[0m \u001B[38;5;28;01mreturn\u001B[39;00m \u001B[38;5;28mself\u001B[39m\u001B[38;5;241m.\u001B[39m_predict_once(x, profile, visualize, embed)\n",
      "File \u001B[0;32m~/anaconda3/lib/python3.11/site-packages/ultralytics/nn/tasks.py:128\u001B[0m, in \u001B[0;36mBaseModel._predict_once\u001B[0;34m(self, x, profile, visualize, embed)\u001B[0m\n\u001B[1;32m    126\u001B[0m \u001B[38;5;28;01mif\u001B[39;00m profile:\n\u001B[1;32m    127\u001B[0m     \u001B[38;5;28mself\u001B[39m\u001B[38;5;241m.\u001B[39m_profile_one_layer(m, x, dt)\n\u001B[0;32m--> 128\u001B[0m x \u001B[38;5;241m=\u001B[39m m(x)  \u001B[38;5;66;03m# run\u001B[39;00m\n\u001B[1;32m    129\u001B[0m y\u001B[38;5;241m.\u001B[39mappend(x \u001B[38;5;28;01mif\u001B[39;00m m\u001B[38;5;241m.\u001B[39mi \u001B[38;5;129;01min\u001B[39;00m \u001B[38;5;28mself\u001B[39m\u001B[38;5;241m.\u001B[39msave \u001B[38;5;28;01melse\u001B[39;00m \u001B[38;5;28;01mNone\u001B[39;00m)  \u001B[38;5;66;03m# save output\u001B[39;00m\n\u001B[1;32m    130\u001B[0m \u001B[38;5;28;01mif\u001B[39;00m visualize:\n",
      "File \u001B[0;32m~/anaconda3/lib/python3.11/site-packages/torch/nn/modules/module.py:1511\u001B[0m, in \u001B[0;36mModule._wrapped_call_impl\u001B[0;34m(self, *args, **kwargs)\u001B[0m\n\u001B[1;32m   1509\u001B[0m     \u001B[38;5;28;01mreturn\u001B[39;00m \u001B[38;5;28mself\u001B[39m\u001B[38;5;241m.\u001B[39m_compiled_call_impl(\u001B[38;5;241m*\u001B[39margs, \u001B[38;5;241m*\u001B[39m\u001B[38;5;241m*\u001B[39mkwargs)  \u001B[38;5;66;03m# type: ignore[misc]\u001B[39;00m\n\u001B[1;32m   1510\u001B[0m \u001B[38;5;28;01melse\u001B[39;00m:\n\u001B[0;32m-> 1511\u001B[0m     \u001B[38;5;28;01mreturn\u001B[39;00m \u001B[38;5;28mself\u001B[39m\u001B[38;5;241m.\u001B[39m_call_impl(\u001B[38;5;241m*\u001B[39margs, \u001B[38;5;241m*\u001B[39m\u001B[38;5;241m*\u001B[39mkwargs)\n",
      "File \u001B[0;32m~/anaconda3/lib/python3.11/site-packages/torch/nn/modules/module.py:1520\u001B[0m, in \u001B[0;36mModule._call_impl\u001B[0;34m(self, *args, **kwargs)\u001B[0m\n\u001B[1;32m   1515\u001B[0m \u001B[38;5;66;03m# If we don't have any hooks, we want to skip the rest of the logic in\u001B[39;00m\n\u001B[1;32m   1516\u001B[0m \u001B[38;5;66;03m# this function, and just call forward.\u001B[39;00m\n\u001B[1;32m   1517\u001B[0m \u001B[38;5;28;01mif\u001B[39;00m \u001B[38;5;129;01mnot\u001B[39;00m (\u001B[38;5;28mself\u001B[39m\u001B[38;5;241m.\u001B[39m_backward_hooks \u001B[38;5;129;01mor\u001B[39;00m \u001B[38;5;28mself\u001B[39m\u001B[38;5;241m.\u001B[39m_backward_pre_hooks \u001B[38;5;129;01mor\u001B[39;00m \u001B[38;5;28mself\u001B[39m\u001B[38;5;241m.\u001B[39m_forward_hooks \u001B[38;5;129;01mor\u001B[39;00m \u001B[38;5;28mself\u001B[39m\u001B[38;5;241m.\u001B[39m_forward_pre_hooks\n\u001B[1;32m   1518\u001B[0m         \u001B[38;5;129;01mor\u001B[39;00m _global_backward_pre_hooks \u001B[38;5;129;01mor\u001B[39;00m _global_backward_hooks\n\u001B[1;32m   1519\u001B[0m         \u001B[38;5;129;01mor\u001B[39;00m _global_forward_hooks \u001B[38;5;129;01mor\u001B[39;00m _global_forward_pre_hooks):\n\u001B[0;32m-> 1520\u001B[0m     \u001B[38;5;28;01mreturn\u001B[39;00m forward_call(\u001B[38;5;241m*\u001B[39margs, \u001B[38;5;241m*\u001B[39m\u001B[38;5;241m*\u001B[39mkwargs)\n\u001B[1;32m   1522\u001B[0m \u001B[38;5;28;01mtry\u001B[39;00m:\n\u001B[1;32m   1523\u001B[0m     result \u001B[38;5;241m=\u001B[39m \u001B[38;5;28;01mNone\u001B[39;00m\n",
      "File \u001B[0;32m~/anaconda3/lib/python3.11/site-packages/ultralytics/nn/modules/block.py:255\u001B[0m, in \u001B[0;36mC3.forward\u001B[0;34m(self, x)\u001B[0m\n\u001B[1;32m    253\u001B[0m \u001B[38;5;28;01mdef\u001B[39;00m \u001B[38;5;21mforward\u001B[39m(\u001B[38;5;28mself\u001B[39m, x):\n\u001B[1;32m    254\u001B[0m \u001B[38;5;250m    \u001B[39m\u001B[38;5;124;03m\"\"\"Forward pass through the CSP bottleneck with 2 convolutions.\"\"\"\u001B[39;00m\n\u001B[0;32m--> 255\u001B[0m     \u001B[38;5;28;01mreturn\u001B[39;00m \u001B[38;5;28mself\u001B[39m\u001B[38;5;241m.\u001B[39mcv3(torch\u001B[38;5;241m.\u001B[39mcat((\u001B[38;5;28mself\u001B[39m\u001B[38;5;241m.\u001B[39mm(\u001B[38;5;28mself\u001B[39m\u001B[38;5;241m.\u001B[39mcv1(x)), \u001B[38;5;28mself\u001B[39m\u001B[38;5;241m.\u001B[39mcv2(x)), \u001B[38;5;241m1\u001B[39m))\n",
      "File \u001B[0;32m~/anaconda3/lib/python3.11/site-packages/torch/nn/modules/module.py:1511\u001B[0m, in \u001B[0;36mModule._wrapped_call_impl\u001B[0;34m(self, *args, **kwargs)\u001B[0m\n\u001B[1;32m   1509\u001B[0m     \u001B[38;5;28;01mreturn\u001B[39;00m \u001B[38;5;28mself\u001B[39m\u001B[38;5;241m.\u001B[39m_compiled_call_impl(\u001B[38;5;241m*\u001B[39margs, \u001B[38;5;241m*\u001B[39m\u001B[38;5;241m*\u001B[39mkwargs)  \u001B[38;5;66;03m# type: ignore[misc]\u001B[39;00m\n\u001B[1;32m   1510\u001B[0m \u001B[38;5;28;01melse\u001B[39;00m:\n\u001B[0;32m-> 1511\u001B[0m     \u001B[38;5;28;01mreturn\u001B[39;00m \u001B[38;5;28mself\u001B[39m\u001B[38;5;241m.\u001B[39m_call_impl(\u001B[38;5;241m*\u001B[39margs, \u001B[38;5;241m*\u001B[39m\u001B[38;5;241m*\u001B[39mkwargs)\n",
      "File \u001B[0;32m~/anaconda3/lib/python3.11/site-packages/torch/nn/modules/module.py:1520\u001B[0m, in \u001B[0;36mModule._call_impl\u001B[0;34m(self, *args, **kwargs)\u001B[0m\n\u001B[1;32m   1515\u001B[0m \u001B[38;5;66;03m# If we don't have any hooks, we want to skip the rest of the logic in\u001B[39;00m\n\u001B[1;32m   1516\u001B[0m \u001B[38;5;66;03m# this function, and just call forward.\u001B[39;00m\n\u001B[1;32m   1517\u001B[0m \u001B[38;5;28;01mif\u001B[39;00m \u001B[38;5;129;01mnot\u001B[39;00m (\u001B[38;5;28mself\u001B[39m\u001B[38;5;241m.\u001B[39m_backward_hooks \u001B[38;5;129;01mor\u001B[39;00m \u001B[38;5;28mself\u001B[39m\u001B[38;5;241m.\u001B[39m_backward_pre_hooks \u001B[38;5;129;01mor\u001B[39;00m \u001B[38;5;28mself\u001B[39m\u001B[38;5;241m.\u001B[39m_forward_hooks \u001B[38;5;129;01mor\u001B[39;00m \u001B[38;5;28mself\u001B[39m\u001B[38;5;241m.\u001B[39m_forward_pre_hooks\n\u001B[1;32m   1518\u001B[0m         \u001B[38;5;129;01mor\u001B[39;00m _global_backward_pre_hooks \u001B[38;5;129;01mor\u001B[39;00m _global_backward_hooks\n\u001B[1;32m   1519\u001B[0m         \u001B[38;5;129;01mor\u001B[39;00m _global_forward_hooks \u001B[38;5;129;01mor\u001B[39;00m _global_forward_pre_hooks):\n\u001B[0;32m-> 1520\u001B[0m     \u001B[38;5;28;01mreturn\u001B[39;00m forward_call(\u001B[38;5;241m*\u001B[39margs, \u001B[38;5;241m*\u001B[39m\u001B[38;5;241m*\u001B[39mkwargs)\n\u001B[1;32m   1522\u001B[0m \u001B[38;5;28;01mtry\u001B[39;00m:\n\u001B[1;32m   1523\u001B[0m     result \u001B[38;5;241m=\u001B[39m \u001B[38;5;28;01mNone\u001B[39;00m\n",
      "File \u001B[0;32m~/anaconda3/lib/python3.11/site-packages/torch/nn/modules/container.py:217\u001B[0m, in \u001B[0;36mSequential.forward\u001B[0;34m(self, input)\u001B[0m\n\u001B[1;32m    215\u001B[0m \u001B[38;5;28;01mdef\u001B[39;00m \u001B[38;5;21mforward\u001B[39m(\u001B[38;5;28mself\u001B[39m, \u001B[38;5;28minput\u001B[39m):\n\u001B[1;32m    216\u001B[0m     \u001B[38;5;28;01mfor\u001B[39;00m module \u001B[38;5;129;01min\u001B[39;00m \u001B[38;5;28mself\u001B[39m:\n\u001B[0;32m--> 217\u001B[0m         \u001B[38;5;28minput\u001B[39m \u001B[38;5;241m=\u001B[39m module(\u001B[38;5;28minput\u001B[39m)\n\u001B[1;32m    218\u001B[0m     \u001B[38;5;28;01mreturn\u001B[39;00m \u001B[38;5;28minput\u001B[39m\n",
      "File \u001B[0;32m~/anaconda3/lib/python3.11/site-packages/torch/nn/modules/module.py:1511\u001B[0m, in \u001B[0;36mModule._wrapped_call_impl\u001B[0;34m(self, *args, **kwargs)\u001B[0m\n\u001B[1;32m   1509\u001B[0m     \u001B[38;5;28;01mreturn\u001B[39;00m \u001B[38;5;28mself\u001B[39m\u001B[38;5;241m.\u001B[39m_compiled_call_impl(\u001B[38;5;241m*\u001B[39margs, \u001B[38;5;241m*\u001B[39m\u001B[38;5;241m*\u001B[39mkwargs)  \u001B[38;5;66;03m# type: ignore[misc]\u001B[39;00m\n\u001B[1;32m   1510\u001B[0m \u001B[38;5;28;01melse\u001B[39;00m:\n\u001B[0;32m-> 1511\u001B[0m     \u001B[38;5;28;01mreturn\u001B[39;00m \u001B[38;5;28mself\u001B[39m\u001B[38;5;241m.\u001B[39m_call_impl(\u001B[38;5;241m*\u001B[39margs, \u001B[38;5;241m*\u001B[39m\u001B[38;5;241m*\u001B[39mkwargs)\n",
      "File \u001B[0;32m~/anaconda3/lib/python3.11/site-packages/torch/nn/modules/module.py:1520\u001B[0m, in \u001B[0;36mModule._call_impl\u001B[0;34m(self, *args, **kwargs)\u001B[0m\n\u001B[1;32m   1515\u001B[0m \u001B[38;5;66;03m# If we don't have any hooks, we want to skip the rest of the logic in\u001B[39;00m\n\u001B[1;32m   1516\u001B[0m \u001B[38;5;66;03m# this function, and just call forward.\u001B[39;00m\n\u001B[1;32m   1517\u001B[0m \u001B[38;5;28;01mif\u001B[39;00m \u001B[38;5;129;01mnot\u001B[39;00m (\u001B[38;5;28mself\u001B[39m\u001B[38;5;241m.\u001B[39m_backward_hooks \u001B[38;5;129;01mor\u001B[39;00m \u001B[38;5;28mself\u001B[39m\u001B[38;5;241m.\u001B[39m_backward_pre_hooks \u001B[38;5;129;01mor\u001B[39;00m \u001B[38;5;28mself\u001B[39m\u001B[38;5;241m.\u001B[39m_forward_hooks \u001B[38;5;129;01mor\u001B[39;00m \u001B[38;5;28mself\u001B[39m\u001B[38;5;241m.\u001B[39m_forward_pre_hooks\n\u001B[1;32m   1518\u001B[0m         \u001B[38;5;129;01mor\u001B[39;00m _global_backward_pre_hooks \u001B[38;5;129;01mor\u001B[39;00m _global_backward_hooks\n\u001B[1;32m   1519\u001B[0m         \u001B[38;5;129;01mor\u001B[39;00m _global_forward_hooks \u001B[38;5;129;01mor\u001B[39;00m _global_forward_pre_hooks):\n\u001B[0;32m-> 1520\u001B[0m     \u001B[38;5;28;01mreturn\u001B[39;00m forward_call(\u001B[38;5;241m*\u001B[39margs, \u001B[38;5;241m*\u001B[39m\u001B[38;5;241m*\u001B[39mkwargs)\n\u001B[1;32m   1522\u001B[0m \u001B[38;5;28;01mtry\u001B[39;00m:\n\u001B[1;32m   1523\u001B[0m     result \u001B[38;5;241m=\u001B[39m \u001B[38;5;28;01mNone\u001B[39;00m\n",
      "\u001B[0;31mKeyboardInterrupt\u001B[0m: "
     ]
    }
   ],
   "source": [
    "from ultralytics.utils.benchmarks import benchmark\n",
    "\n",
    "model = YOLO('runs/detect/train36/weights/best.pt')  # Load your model\n",
    "data = 'datasets/coco128.yaml'  # Define your dataset\n",
    "\n",
    "benchmark(model='runs/detect/train36/weights/best.pt', data=data, imgsz=640, device='cpu')  # Run benchm"
   ],
   "metadata": {
    "collapsed": false,
    "ExecuteTime": {
     "end_time": "2024-06-02T19:17:45.145602Z",
     "start_time": "2024-06-02T19:17:16.199047Z"
    }
   },
   "id": "15294148a2f62015",
   "execution_count": 4
  },
  {
   "cell_type": "code",
   "outputs": [],
   "source": [],
   "metadata": {
    "collapsed": false
   },
   "id": "8c59d55580a092c5"
  }
 ],
 "metadata": {
  "kernelspec": {
   "display_name": "Python 3",
   "language": "python",
   "name": "python3"
  },
  "language_info": {
   "codemirror_mode": {
    "name": "ipython",
    "version": 2
   },
   "file_extension": ".py",
   "mimetype": "text/x-python",
   "name": "python",
   "nbconvert_exporter": "python",
   "pygments_lexer": "ipython2",
   "version": "2.7.6"
  }
 },
 "nbformat": 4,
 "nbformat_minor": 5
}
